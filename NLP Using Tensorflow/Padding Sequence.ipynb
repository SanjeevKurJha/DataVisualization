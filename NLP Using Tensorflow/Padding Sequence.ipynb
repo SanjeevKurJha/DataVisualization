{
 "cells": [
  {
   "cell_type": "code",
   "execution_count": 1,
   "metadata": {},
   "outputs": [],
   "source": [
    "import tensorflow as tf\n",
    "from tensorflow import keras\n",
    "from tensorflow.keras.preprocessing.text import Tokenizer\n",
    "from tensorflow.keras.preprocessing.sequence import pad_sequences"
   ]
  },
  {
   "cell_type": "markdown",
   "metadata": {},
   "source": [
    "#### Array of sentances"
   ]
  },
  {
   "cell_type": "code",
   "execution_count": 2,
   "metadata": {},
   "outputs": [],
   "source": [
    "sentances=['I want a glass of apple juice',\n",
    "         'I want a glass of mango juice',\n",
    "          'You love apple juice!',\n",
    "          'Do you think my code is amazing']"
   ]
  },
  {
   "cell_type": "markdown",
   "metadata": {},
   "source": [
    "#### Generating the dictionary of word encodings and creating vectors out of the sentences"
   ]
  },
  {
   "cell_type": "code",
   "execution_count": 3,
   "metadata": {},
   "outputs": [],
   "source": [
    "#Instancetiate the tokenizer and passing the num word in tokenizers as we have small set of sentance so i have put 50\n",
    "# if we have lots of data then it will take top 50 word as volume and jut encode those word\n",
    "#We are using oov_token for unseen word <OOV> FOR OUT OF VACABLEURY OR <UNK> FOR UNKNOWN WORD\n",
    "tokenizer=Tokenizer(num_words=50,oov_token=\"<OOV>\") \n",
    "#fit_on_texts will take the data and encode it\n",
    "tokenizer.fit_on_texts(sentances)\n",
    "#it will provide the word index property in dectionary form\n",
    "word_index=tokenizer.word_index"
   ]
  },
  {
   "cell_type": "markdown",
   "metadata": {},
   "source": [
    "#### in sequence word you can see all the sentances of array will be represented in the form of number (its word index)"
   ]
  },
  {
   "cell_type": "code",
   "execution_count": 4,
   "metadata": {},
   "outputs": [],
   "source": [
    "sequences=tokenizer.texts_to_sequences(sentances)"
   ]
  },
  {
   "cell_type": "code",
   "execution_count": 5,
   "metadata": {},
   "outputs": [
    {
     "name": "stdout",
     "output_type": "stream",
     "text": [
      "[[3, 4, 5, 6, 7, 8, 2], [3, 4, 5, 6, 7, 10, 2], [9, 11, 8, 2], [12, 9, 13, 14, 15, 16, 17]]\n"
     ]
    }
   ],
   "source": [
    "print(sequences)"
   ]
  },
  {
   "cell_type": "markdown",
   "metadata": {},
   "source": [
    "#### Testing the sequence on above tokenize word"
   ]
  },
  {
   "cell_type": "code",
   "execution_count": 6,
   "metadata": {},
   "outputs": [],
   "source": [
    "test_sentances=['I want a glass of Banana juice',\n",
    "         'I want a cup of mango juice',\n",
    "          'You really love apple juice!',\n",
    "          'Do you think my sentance is amazing']"
   ]
  },
  {
   "cell_type": "code",
   "execution_count": 7,
   "metadata": {},
   "outputs": [],
   "source": [
    "test_sequences=tokenizer.texts_to_sequences(test_sentances)"
   ]
  },
  {
   "cell_type": "code",
   "execution_count": 24,
   "metadata": {},
   "outputs": [],
   "source": [
    "padded=pad_sequences(test_sequences)"
   ]
  },
  {
   "cell_type": "code",
   "execution_count": 11,
   "metadata": {},
   "outputs": [
    {
     "name": "stdout",
     "output_type": "stream",
     "text": [
      "{'<OOV>': 1, 'juice': 2, 'i': 3, 'want': 4, 'a': 5, 'glass': 6, 'of': 7, 'apple': 8, 'you': 9, 'mango': 10, 'love': 11, 'do': 12, 'think': 13, 'my': 14, 'code': 15, 'is': 16, 'amazing': 17}\n"
     ]
    }
   ],
   "source": [
    "print(word_index)\n"
   ]
  },
  {
   "cell_type": "code",
   "execution_count": 12,
   "metadata": {},
   "outputs": [
    {
     "name": "stdout",
     "output_type": "stream",
     "text": [
      "[[3, 4, 5, 6, 7, 1, 2], [3, 4, 5, 1, 7, 10, 2], [9, 1, 11, 8, 2], [12, 9, 13, 14, 1, 16, 17]]\n"
     ]
    }
   ],
   "source": [
    "print(test_sequences)\n"
   ]
  },
  {
   "cell_type": "code",
   "execution_count": 13,
   "metadata": {},
   "outputs": [
    {
     "name": "stdout",
     "output_type": "stream",
     "text": [
      "[[ 3  4  5  6  7  1  2]\n",
      " [ 3  4  5  1  7 10  2]\n",
      " [ 0  0  9  1 11  8  2]\n",
      " [12  9 13 14  1 16 17]]\n"
     ]
    }
   ],
   "source": [
    "print(padded)"
   ]
  },
  {
   "cell_type": "markdown",
   "metadata": {},
   "source": [
    "#### By Default you will get pre padding if you want to make it like post then add the below argument "
   ]
  },
  {
   "cell_type": "code",
   "execution_count": 14,
   "metadata": {},
   "outputs": [],
   "source": [
    "padded_post=pad_sequences(test_sequences,padding=\"post\")"
   ]
  },
  {
   "cell_type": "code",
   "execution_count": 15,
   "metadata": {},
   "outputs": [
    {
     "name": "stdout",
     "output_type": "stream",
     "text": [
      "[[ 3  4  5  6  7  1  2]\n",
      " [ 3  4  5  1  7 10  2]\n",
      " [ 9  1 11  8  2  0  0]\n",
      " [12  9 13 14  1 16 17]]\n"
     ]
    }
   ],
   "source": [
    "print(padded_post)"
   ]
  },
  {
   "cell_type": "markdown",
   "metadata": {},
   "source": [
    "#### By Default you will get pre lenth of sentance is maximum then pad all the lower number of word sentance that also we can stop using maxlen"
   ]
  },
  {
   "cell_type": "code",
   "execution_count": 17,
   "metadata": {},
   "outputs": [],
   "source": [
    "padded_post_maxlen=pad_sequences(test_sequences,padding=\"post\", maxlen=10)"
   ]
  },
  {
   "cell_type": "code",
   "execution_count": 18,
   "metadata": {},
   "outputs": [
    {
     "name": "stdout",
     "output_type": "stream",
     "text": [
      "[[ 3  4  5  6  7  1  2  0  0  0]\n",
      " [ 3  4  5  1  7 10  2  0  0  0]\n",
      " [ 9  1 11  8  2  0  0  0  0  0]\n",
      " [12  9 13 14  1 16 17  0  0  0]]\n"
     ]
    }
   ],
   "source": [
    "print(padded_post_maxlen)"
   ]
  },
  {
   "cell_type": "code",
   "execution_count": 23,
   "metadata": {},
   "outputs": [
    {
     "name": "stdout",
     "output_type": "stream",
     "text": [
      "[[ 3  4  5  6  7]\n",
      " [ 3  4  5  1  7]\n",
      " [ 9  1 11  8  2]\n",
      " [12  9 13 14  1]]\n"
     ]
    }
   ],
   "source": [
    "padded_post_maxlen=pad_sequences(test_sequences,padding=\"post\", maxlen=5, truncating=\"post\")\n",
    "print(padded_post_maxlen)"
   ]
  },
  {
   "cell_type": "code",
   "execution_count": null,
   "metadata": {},
   "outputs": [],
   "source": []
  },
  {
   "cell_type": "code",
   "execution_count": null,
   "metadata": {},
   "outputs": [],
   "source": []
  }
 ],
 "metadata": {
  "kernelspec": {
   "display_name": "Python 3",
   "language": "python",
   "name": "python3"
  },
  "language_info": {
   "codemirror_mode": {
    "name": "ipython",
    "version": 3
   },
   "file_extension": ".py",
   "mimetype": "text/x-python",
   "name": "python",
   "nbconvert_exporter": "python",
   "pygments_lexer": "ipython3",
   "version": "3.6.4"
  }
 },
 "nbformat": 4,
 "nbformat_minor": 2
}
