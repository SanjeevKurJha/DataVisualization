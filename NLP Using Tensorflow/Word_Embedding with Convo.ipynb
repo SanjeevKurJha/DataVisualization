{
 "cells": [
  {
   "cell_type": "markdown",
   "metadata": {
    "colab_type": "text",
    "id": "Xoq0MRc_S4pH"
   },
   "source": [
    "### IMDB Dataset [URL](http://ai.stanford.edu/~amaas/data/sentiment/) for Sentiment analysis for movies reviews \n",
    "\n",
    "### Word embedding projection [URL](http://projector.tensorflow.org/)"
   ]
  },
  {
   "cell_type": "code",
   "execution_count": 1,
   "metadata": {
    "colab": {},
    "colab_type": "code",
    "id": "35WoXpwlS4pK"
   },
   "outputs": [],
   "source": [
    "import tensorflow as tf\n",
    "tf.enable_eager_execution()\n",
    "import numpy as np"
   ]
  },
  {
   "cell_type": "markdown",
   "metadata": {
    "colab_type": "text",
    "id": "FXfEPJcyS4pO"
   },
   "source": [
    "### Install the tenser flow dataset using below pip code\n",
    "pip install -q tensorflow-datasets"
   ]
  },
  {
   "cell_type": "markdown",
   "metadata": {
    "colab_type": "text",
    "id": "weieOHW9S4pP"
   },
   "source": [
    "### Import Imdb review dataset from tensorflow library"
   ]
  },
  {
   "cell_type": "code",
   "execution_count": 2,
   "metadata": {
    "colab": {},
    "colab_type": "code",
    "id": "6bTJwkVSS4pQ"
   },
   "outputs": [],
   "source": [
    "import tensorflow_datasets as tf_ds"
   ]
  },
  {
   "cell_type": "code",
   "execution_count": 3,
   "metadata": {
    "colab": {},
    "colab_type": "code",
    "id": "PY3Kku3PS4pU"
   },
   "outputs": [],
   "source": [
    "imdb,info=tf_ds.load(\"imdb_reviews\",with_info=True,as_supervised=True)"
   ]
  },
  {
   "cell_type": "markdown",
   "metadata": {
    "colab_type": "text",
    "id": "fY7RQKNqS4pX"
   },
   "source": [
    "### Divide the dataset into training and testing set 25k on train and 25 k on test"
   ]
  },
  {
   "cell_type": "code",
   "execution_count": 4,
   "metadata": {
    "colab": {},
    "colab_type": "code",
    "id": "KLWMEoauS4pY"
   },
   "outputs": [],
   "source": [
    "data_train,data_test=imdb['train'],imdb['test']"
   ]
  },
  {
   "cell_type": "code",
   "execution_count": 5,
   "metadata": {
    "colab": {},
    "colab_type": "code",
    "id": "eGAzwnorS4pc"
   },
   "outputs": [],
   "source": [
    "x_train=[] # Sentance of review of training data (data_train)\n",
    "y_train=[] # label of review of training data (data_train)\n",
    "x_test=[] # Sentance of review of testing data (data_test)\n",
    "y_test=[] # label of review of testing data (data_test)"
   ]
  },
  {
   "cell_type": "markdown",
   "metadata": {
    "colab_type": "text",
    "id": "Teg2x1qQS4pg"
   },
   "source": [
    "### Run the for loop and append each sentance and lables in array"
   ]
  },
  {
   "cell_type": "code",
   "execution_count": 6,
   "metadata": {
    "colab": {},
    "colab_type": "code",
    "id": "04KU0D3LS4ph"
   },
   "outputs": [],
   "source": [
    "for x,y in data_train:\n",
    "    x_train.append(str(x.numpy()))\n",
    "    y_train.append(str(y.numpy()))"
   ]
  },
  {
   "cell_type": "code",
   "execution_count": 7,
   "metadata": {
    "colab": {},
    "colab_type": "code",
    "id": "dGTxP2nGS4pk"
   },
   "outputs": [],
   "source": [
    "for x,y in data_test:\n",
    "    x_test.append(str(x.numpy()))\n",
    "    y_test.append(str(y.numpy()))"
   ]
  },
  {
   "cell_type": "markdown",
   "metadata": {
    "colab_type": "text",
    "id": "__RZ-CdGS4pn"
   },
   "source": [
    "### Converting all the labels(y_train,y_test) into numpy array"
   ]
  },
  {
   "cell_type": "code",
   "execution_count": 8,
   "metadata": {
    "colab": {},
    "colab_type": "code",
    "id": "K9uILGfMS4po"
   },
   "outputs": [],
   "source": [
    "y_train_final=np.array(y_train)\n",
    "y_test_final=np.array(y_test)"
   ]
  },
  {
   "cell_type": "code",
   "execution_count": 9,
   "metadata": {
    "colab": {
     "base_uri": "https://localhost:8080/",
     "height": 34
    },
    "colab_type": "code",
    "id": "Se0YVJKRS4ps",
    "outputId": "23ef6934-eaed-4d16-d1d3-1b59c1c3e01b"
   },
   "outputs": [
    {
     "data": {
      "text/plain": [
       "dtype('<U1')"
      ]
     },
     "execution_count": 9,
     "metadata": {},
     "output_type": "execute_result"
    }
   ],
   "source": [
    "y_train_final.dtype"
   ]
  },
  {
   "cell_type": "code",
   "execution_count": 10,
   "metadata": {
    "colab": {},
    "colab_type": "code",
    "id": "EDUq-UGnS4pw"
   },
   "outputs": [],
   "source": [
    "y_train_final=y_train_final.astype('int32') \n",
    "y_test_final=y_test_final.astype('int32')"
   ]
  },
  {
   "cell_type": "markdown",
   "metadata": {
    "colab_type": "text",
    "id": "ZaOuvbe1S4p2"
   },
   "source": [
    "### Declearing the important variable for word imbedding "
   ]
  },
  {
   "cell_type": "code",
   "execution_count": 11,
   "metadata": {
    "colab": {},
    "colab_type": "code",
    "id": "BqaZTfj-S4p3"
   },
   "outputs": [],
   "source": [
    "vocab_size=15000\n",
    "embed_dim=32\n",
    "max_len=140\n",
    "trunc_type='post'\n",
    "oov_tok=\"<OOV>\"\n",
    "num_epochs = 150\n",
    "batch_size=32"
   ]
  },
  {
   "cell_type": "markdown",
   "metadata": {
    "colab_type": "text",
    "id": "nWzcG0vBS4p6"
   },
   "source": [
    "### Tokenize the sentance into word  and Pad the data to form the same length of sequience of data"
   ]
  },
  {
   "cell_type": "code",
   "execution_count": 12,
   "metadata": {
    "colab": {},
    "colab_type": "code",
    "id": "molSXUPGS4p8"
   },
   "outputs": [],
   "source": [
    "from tensorflow.keras.preprocessing.text import Tokenizer\n",
    "from tensorflow.keras.preprocessing.sequence import pad_sequences\n",
    "from tensorflow.keras.optimizers import Adam\n",
    "from tensorflow.keras.callbacks import ModelCheckpoint,EarlyStopping"
   ]
  },
  {
   "cell_type": "code",
   "execution_count": 13,
   "metadata": {
    "colab": {},
    "colab_type": "code",
    "id": "Twc3-OA8S4p_"
   },
   "outputs": [],
   "source": [
    "tokenizer=Tokenizer(num_words=vocab_size,oov_token=oov_tok)\n",
    "#fit_on_texts will take the data and encode it\n",
    "tokenizer.fit_on_texts(x_train)\n",
    "#it will provide the word index property in dectionary form\n",
    "word_index=tokenizer.word_index"
   ]
  },
  {
   "cell_type": "code",
   "execution_count": 14,
   "metadata": {
    "colab": {},
    "colab_type": "code",
    "id": "EFqq1y22S4qF"
   },
   "outputs": [],
   "source": [
    "x_train_sequences=tokenizer.texts_to_sequences(x_train)\n",
    "x_train_padded=pad_sequences(x_train_sequences,maxlen=max_len,truncating=trunc_type)"
   ]
  },
  {
   "cell_type": "code",
   "execution_count": 15,
   "metadata": {
    "colab": {},
    "colab_type": "code",
    "id": "xdI27iwJS4qK"
   },
   "outputs": [],
   "source": [
    "x_test_sequences=tokenizer.texts_to_sequences(x_test)\n",
    "x_test_padded=pad_sequences(x_test_sequences,maxlen=max_len)"
   ]
  },
  {
   "cell_type": "markdown",
   "metadata": {
    "colab_type": "text",
    "id": "qUZYV-IXS4qN"
   },
   "source": [
    "### Building a keras model"
   ]
  },
  {
   "cell_type": "code",
   "execution_count": 17,
   "metadata": {
    "colab": {},
    "colab_type": "code",
    "id": "c6WJZ4zNS4qO"
   },
   "outputs": [],
   "source": [
    "model=tf.keras.Sequential([\n",
    "    tf.keras.layers.Embedding(vocab_size,embed_dim,input_length=max_len),\n",
    "    tf.keras.layers.Conv1D(128,5,activation=\"relu\"),\n",
    "    tf.keras.layers.GlobalMaxPooling1D(),\n",
    "    tf.keras.layers.Dense(24,activation=\"relu\"),\n",
    "    tf.keras.layers.Dense(1,activation=\"sigmoid\")    \n",
    "])"
   ]
  },
  {
   "cell_type": "markdown",
   "metadata": {
    "colab_type": "text",
    "id": "DfYNSiI3S4qS"
   },
   "source": [
    "### How can we use the vector"
   ]
  },
  {
   "cell_type": "code",
   "execution_count": 18,
   "metadata": {
    "colab": {
     "base_uri": "https://localhost:8080/",
     "height": 289
    },
    "colab_type": "code",
    "id": "zNCTTHwlS4qT",
    "outputId": "5f9d5c02-c55c-4220-885b-e48ea5a1de0b"
   },
   "outputs": [
    {
     "name": "stdout",
     "output_type": "stream",
     "text": [
      "Model: \"sequential\"\n",
      "_________________________________________________________________\n",
      "Layer (type)                 Output Shape              Param #   \n",
      "=================================================================\n",
      "embedding_1 (Embedding)      (None, 140, 32)           480000    \n",
      "_________________________________________________________________\n",
      "conv1d (Conv1D)              (None, 136, 128)          20608     \n",
      "_________________________________________________________________\n",
      "global_max_pooling1d (Global (None, 128)               0         \n",
      "_________________________________________________________________\n",
      "dense (Dense)                (None, 24)                3096      \n",
      "_________________________________________________________________\n",
      "dense_1 (Dense)              (None, 1)                 25        \n",
      "=================================================================\n",
      "Total params: 503,729\n",
      "Trainable params: 503,729\n",
      "Non-trainable params: 0\n",
      "_________________________________________________________________\n"
     ]
    }
   ],
   "source": [
    "optimizer = Adam(lr=0.0001, beta_1=0.9, beta_2=0.999, decay=0.001)\n",
    "model.compile(loss='binary_crossentropy',optimizer=optimizer,metrics=['accuracy'])\n",
    "model.summary()"
   ]
  },
  {
   "cell_type": "code",
   "execution_count": 19,
   "metadata": {
    "colab": {},
    "colab_type": "code",
    "id": "dVebmUQrS4qW"
   },
   "outputs": [],
   "source": [
    "earlyStopping = EarlyStopping(monitor='val_loss', mode='min', verbose=1, patience=10, min_delta=0.01) \n",
    "\n",
    "modelCheckpoint = ModelCheckpoint('word_embedding_convo.hdf5', monitor='val_acc', verbose=1, save_best_only=True, mode='max')"
   ]
  },
  {
   "cell_type": "code",
   "execution_count": 20,
   "metadata": {
    "colab": {
     "base_uri": "https://localhost:8080/",
     "height": 1000
    },
    "colab_type": "code",
    "id": "UO5oaNuwS4qY",
    "outputId": "3c85fb34-68d9-4522-9eef-7bb6a39015a5"
   },
   "outputs": [
    {
     "name": "stdout",
     "output_type": "stream",
     "text": [
      "Train on 25000 samples, validate on 25000 samples\n",
      "Epoch 1/150\n",
      "WARNING:tensorflow:From C:\\Users\\Sanjeev\\Anaconda3\\envs\\convo\\lib\\site-packages\\tensorflow_core\\python\\ops\\nn_impl.py:183: where (from tensorflow.python.ops.array_ops) is deprecated and will be removed in a future version.\n",
      "Instructions for updating:\n",
      "Use tf.where in 2.0, which has the same broadcast rule as np.where\n"
     ]
    },
    {
     "name": "stderr",
     "output_type": "stream",
     "text": [
      "WARNING:tensorflow:From C:\\Users\\Sanjeev\\Anaconda3\\envs\\convo\\lib\\site-packages\\tensorflow_core\\python\\ops\\nn_impl.py:183: where (from tensorflow.python.ops.array_ops) is deprecated and will be removed in a future version.\n",
      "Instructions for updating:\n",
      "Use tf.where in 2.0, which has the same broadcast rule as np.where\n"
     ]
    },
    {
     "name": "stdout",
     "output_type": "stream",
     "text": [
      "24928/25000 [============================>.] - ETA: 0s - loss: 0.6916 - acc: 0.5570\n",
      "Epoch 00001: val_acc improved from -inf to 0.66892, saving model to word_embedding.hdf5\n",
      "25000/25000 [==============================] - 28s 1ms/sample - loss: 0.6916 - acc: 0.5574 - val_loss: 0.6886 - val_acc: 0.6689\n",
      "Epoch 2/150\n",
      "24960/25000 [============================>.] - ETA: 0s - loss: 0.6783 - acc: 0.6549\n",
      "Epoch 00002: val_acc did not improve from 0.66892\n",
      "25000/25000 [==============================] - 26s 1ms/sample - loss: 0.6783 - acc: 0.6548 - val_loss: 0.6644 - val_acc: 0.6561\n",
      "Epoch 3/150\n",
      "24992/25000 [============================>.] - ETA: 0s - loss: 0.6394 - acc: 0.6919\n",
      "Epoch 00003: val_acc improved from 0.66892 to 0.72672, saving model to word_embedding.hdf5\n",
      "25000/25000 [==============================] - 26s 1ms/sample - loss: 0.6394 - acc: 0.6919 - val_loss: 0.6110 - val_acc: 0.7267\n",
      "Epoch 4/150\n",
      "24992/25000 [============================>.] - ETA: 0s - loss: 0.5885 - acc: 0.7355\n",
      "Epoch 00004: val_acc improved from 0.72672 to 0.74536, saving model to word_embedding.hdf5\n",
      "25000/25000 [==============================] - 27s 1ms/sample - loss: 0.5885 - acc: 0.7355 - val_loss: 0.5658 - val_acc: 0.7454\n",
      "Epoch 5/150\n",
      "24992/25000 [============================>.] - ETA: 0s - loss: 0.5516 - acc: 0.7502\n",
      "Epoch 00005: val_acc improved from 0.74536 to 0.75388, saving model to word_embedding.hdf5\n",
      "25000/25000 [==============================] - 27s 1ms/sample - loss: 0.5515 - acc: 0.7502 - val_loss: 0.5354 - val_acc: 0.7539\n",
      "Epoch 6/150\n",
      "24992/25000 [============================>.] - ETA: 0s - loss: 0.5253 - acc: 0.7590\n",
      "Epoch 00006: val_acc improved from 0.75388 to 0.76332, saving model to word_embedding.hdf5\n",
      "25000/25000 [==============================] - 27s 1ms/sample - loss: 0.5252 - acc: 0.7591 - val_loss: 0.5137 - val_acc: 0.7633\n",
      "Epoch 7/150\n",
      "24960/25000 [============================>.] - ETA: 0s - loss: 0.5054 - acc: 0.7647\n",
      "Epoch 00007: val_acc improved from 0.76332 to 0.77076, saving model to word_embedding.hdf5\n",
      "25000/25000 [==============================] - 27s 1ms/sample - loss: 0.5054 - acc: 0.7648 - val_loss: 0.4976 - val_acc: 0.7708\n",
      "Epoch 8/150\n",
      "24992/25000 [============================>.] - ETA: 0s - loss: 0.4897 - acc: 0.7724\n",
      "Epoch 00008: val_acc improved from 0.77076 to 0.77628, saving model to word_embedding.hdf5\n",
      "25000/25000 [==============================] - 27s 1ms/sample - loss: 0.4898 - acc: 0.7724 - val_loss: 0.4850 - val_acc: 0.7763\n",
      "Epoch 9/150\n",
      "24992/25000 [============================>.] - ETA: 0s - loss: 0.4769 - acc: 0.7791\n",
      "Epoch 00009: val_acc improved from 0.77628 to 0.78224, saving model to word_embedding.hdf5\n",
      "25000/25000 [==============================] - 27s 1ms/sample - loss: 0.4768 - acc: 0.7791 - val_loss: 0.4749 - val_acc: 0.7822\n",
      "Epoch 10/150\n",
      "24992/25000 [============================>.] - ETA: 0s - loss: 0.4658 - acc: 0.7848\n",
      "Epoch 00010: val_acc improved from 0.78224 to 0.78632, saving model to word_embedding.hdf5\n",
      "25000/25000 [==============================] - 27s 1ms/sample - loss: 0.4658 - acc: 0.7848 - val_loss: 0.4663 - val_acc: 0.7863\n",
      "Epoch 11/150\n",
      "24960/25000 [============================>.] - ETA: 0s - loss: 0.4561 - acc: 0.7905\n",
      "Epoch 00011: val_acc improved from 0.78632 to 0.79080, saving model to word_embedding.hdf5\n",
      "25000/25000 [==============================] - 27s 1ms/sample - loss: 0.4562 - acc: 0.7905 - val_loss: 0.4591 - val_acc: 0.7908\n",
      "Epoch 12/150\n",
      "24960/25000 [============================>.] - ETA: 0s - loss: 0.4477 - acc: 0.7951\n",
      "Epoch 00012: val_acc improved from 0.79080 to 0.79248, saving model to word_embedding.hdf5\n",
      "25000/25000 [==============================] - 28s 1ms/sample - loss: 0.4476 - acc: 0.7952 - val_loss: 0.4526 - val_acc: 0.7925\n",
      "Epoch 13/150\n",
      "24928/25000 [============================>.] - ETA: 0s - loss: 0.4397 - acc: 0.7995\n",
      "Epoch 00013: val_acc improved from 0.79248 to 0.79488, saving model to word_embedding.hdf5\n",
      "25000/25000 [==============================] - 26s 1ms/sample - loss: 0.4399 - acc: 0.7992 - val_loss: 0.4470 - val_acc: 0.7949\n",
      "Epoch 14/150\n",
      "24992/25000 [============================>.] - ETA: 0s - loss: 0.4329 - acc: 0.8028\n",
      "Epoch 00014: val_acc improved from 0.79488 to 0.79756, saving model to word_embedding.hdf5\n",
      "25000/25000 [==============================] - 26s 1ms/sample - loss: 0.4329 - acc: 0.8027 - val_loss: 0.4420 - val_acc: 0.7976\n",
      "Epoch 15/150\n",
      "24960/25000 [============================>.] - ETA: 0s - loss: 0.4264 - acc: 0.8059\n",
      "Epoch 00015: val_acc improved from 0.79756 to 0.80048, saving model to word_embedding.hdf5\n",
      "25000/25000 [==============================] - 27s 1ms/sample - loss: 0.4265 - acc: 0.8058 - val_loss: 0.4377 - val_acc: 0.8005\n",
      "Epoch 16/150\n",
      "24960/25000 [============================>.] - ETA: 0s - loss: 0.4206 - acc: 0.8099\n",
      "Epoch 00016: val_acc improved from 0.80048 to 0.80316, saving model to word_embedding.hdf5\n",
      "25000/25000 [==============================] - 26s 1ms/sample - loss: 0.4206 - acc: 0.8099 - val_loss: 0.4338 - val_acc: 0.8032\n",
      "Epoch 17/150\n",
      "24992/25000 [============================>.] - ETA: 0s - loss: 0.4152 - acc: 0.8137\n",
      "Epoch 00017: val_acc improved from 0.80316 to 0.80456, saving model to word_embedding.hdf5\n",
      "25000/25000 [==============================] - 26s 1ms/sample - loss: 0.4152 - acc: 0.8137 - val_loss: 0.4300 - val_acc: 0.8046\n",
      "Epoch 18/150\n",
      "24992/25000 [============================>.] - ETA: 0s - loss: 0.4101 - acc: 0.8168\n",
      "Epoch 00018: val_acc improved from 0.80456 to 0.80588, saving model to word_embedding.hdf5\n",
      "25000/25000 [==============================] - 23s 937us/sample - loss: 0.4101 - acc: 0.8168 - val_loss: 0.4267 - val_acc: 0.8059\n",
      "Epoch 19/150\n",
      "24928/25000 [============================>.] - ETA: 0s - loss: 0.4054 - acc: 0.8194\n",
      "Epoch 00019: val_acc improved from 0.80588 to 0.80708, saving model to word_embedding.hdf5\n",
      "25000/25000 [==============================] - 26s 1ms/sample - loss: 0.4054 - acc: 0.8194 - val_loss: 0.4235 - val_acc: 0.8071\n",
      "Epoch 20/150\n",
      "24992/25000 [============================>.] - ETA: 0s - loss: 0.4010 - acc: 0.8216\n",
      "Epoch 00020: val_acc improved from 0.80708 to 0.80836, saving model to word_embedding.hdf5\n",
      "25000/25000 [==============================] - 25s 990us/sample - loss: 0.4010 - acc: 0.8216 - val_loss: 0.4207 - val_acc: 0.8084\n",
      "Epoch 21/150\n",
      "24928/25000 [============================>.] - ETA: 0s - loss: 0.3968 - acc: 0.8245\n",
      "Epoch 00021: val_acc improved from 0.80836 to 0.81016, saving model to word_embedding.hdf5\n",
      "25000/25000 [==============================] - 25s 997us/sample - loss: 0.3968 - acc: 0.8244 - val_loss: 0.4180 - val_acc: 0.8102\n",
      "Epoch 22/150\n",
      "24928/25000 [============================>.] - ETA: 0s - loss: 0.3928 - acc: 0.8265\n",
      "Epoch 00022: val_acc improved from 0.81016 to 0.81152, saving model to word_embedding.hdf5\n",
      "25000/25000 [==============================] - 24s 970us/sample - loss: 0.3929 - acc: 0.8263 - val_loss: 0.4155 - val_acc: 0.8115\n",
      "Epoch 23/150\n",
      "24960/25000 [============================>.] - ETA: 0s - loss: 0.3893 - acc: 0.8281\n",
      "Epoch 00023: val_acc improved from 0.81152 to 0.81380, saving model to word_embedding.hdf5\n",
      "25000/25000 [==============================] - 24s 943us/sample - loss: 0.3892 - acc: 0.8281 - val_loss: 0.4134 - val_acc: 0.8138\n",
      "Epoch 24/150\n",
      "24960/25000 [============================>.] - ETA: 0s - loss: 0.3857 - acc: 0.8302\n",
      "Epoch 00024: val_acc did not improve from 0.81380\n",
      "25000/25000 [==============================] - 25s 987us/sample - loss: 0.3856 - acc: 0.8302 - val_loss: 0.4111 - val_acc: 0.8138\n",
      "Epoch 25/150\n",
      "24928/25000 [============================>.] - ETA: 0s - loss: 0.3821 - acc: 0.8323\n",
      "Epoch 00025: val_acc improved from 0.81380 to 0.81520, saving model to word_embedding.hdf5\n",
      "25000/25000 [==============================] - 25s 1ms/sample - loss: 0.3823 - acc: 0.8321 - val_loss: 0.4091 - val_acc: 0.8152\n",
      "Epoch 26/150\n",
      "24992/25000 [============================>.] - ETA: 0s - loss: 0.3791 - acc: 0.8339\n",
      "Epoch 00026: val_acc improved from 0.81520 to 0.81632, saving model to word_embedding.hdf5\n",
      "25000/25000 [==============================] - 25s 997us/sample - loss: 0.3790 - acc: 0.8340 - val_loss: 0.4072 - val_acc: 0.8163\n",
      "Epoch 27/150\n"
     ]
    },
    {
     "name": "stdout",
     "output_type": "stream",
     "text": [
      "24960/25000 [============================>.] - ETA: 0s - loss: 0.3760 - acc: 0.8361\n",
      "Epoch 00027: val_acc improved from 0.81632 to 0.81700, saving model to word_embedding.hdf5\n",
      "25000/25000 [==============================] - 25s 986us/sample - loss: 0.3760 - acc: 0.8361 - val_loss: 0.4053 - val_acc: 0.8170\n",
      "Epoch 28/150\n",
      "24960/25000 [============================>.] - ETA: 0s - loss: 0.3731 - acc: 0.8376\n",
      "Epoch 00028: val_acc improved from 0.81700 to 0.81780, saving model to word_embedding.hdf5\n",
      "25000/25000 [==============================] - 27s 1ms/sample - loss: 0.3730 - acc: 0.8377 - val_loss: 0.4036 - val_acc: 0.8178\n",
      "Epoch 29/150\n",
      "24928/25000 [============================>.] - ETA: 0s - loss: 0.3702 - acc: 0.8395\n",
      "Epoch 00029: val_acc improved from 0.81780 to 0.81944, saving model to word_embedding.hdf5\n",
      "25000/25000 [==============================] - 27s 1ms/sample - loss: 0.3702 - acc: 0.8394 - val_loss: 0.4020 - val_acc: 0.8194\n",
      "Epoch 30/150\n",
      "24992/25000 [============================>.] - ETA: 0s - loss: 0.3675 - acc: 0.8412\n",
      "Epoch 00030: val_acc improved from 0.81944 to 0.82028, saving model to word_embedding.hdf5\n",
      "25000/25000 [==============================] - 27s 1ms/sample - loss: 0.3675 - acc: 0.8413 - val_loss: 0.4004 - val_acc: 0.8203\n",
      "Epoch 31/150\n",
      "24992/25000 [============================>.] - ETA: 0s - loss: 0.3648 - acc: 0.8427\n",
      "Epoch 00031: val_acc improved from 0.82028 to 0.82092, saving model to word_embedding.hdf5\n",
      "25000/25000 [==============================] - 26s 1ms/sample - loss: 0.3648 - acc: 0.8427 - val_loss: 0.3988 - val_acc: 0.8209\n",
      "Epoch 32/150\n",
      "24992/25000 [============================>.] - ETA: 0s - loss: 0.3623 - acc: 0.8440\n",
      "Epoch 00032: val_acc improved from 0.82092 to 0.82180, saving model to word_embedding.hdf5\n",
      "25000/25000 [==============================] - 26s 1ms/sample - loss: 0.3623 - acc: 0.8439 - val_loss: 0.3974 - val_acc: 0.8218\n",
      "Epoch 33/150\n",
      "24960/25000 [============================>.] - ETA: 0s - loss: 0.3600 - acc: 0.8456\n",
      "Epoch 00033: val_acc improved from 0.82180 to 0.82236, saving model to word_embedding.hdf5\n",
      "25000/25000 [==============================] - 27s 1ms/sample - loss: 0.3599 - acc: 0.8458 - val_loss: 0.3960 - val_acc: 0.8224\n",
      "Epoch 34/150\n",
      "24992/25000 [============================>.] - ETA: 0s - loss: 0.3575 - acc: 0.8470\n",
      "Epoch 00034: val_acc improved from 0.82236 to 0.82312, saving model to word_embedding.hdf5\n",
      "25000/25000 [==============================] - 30s 1ms/sample - loss: 0.3575 - acc: 0.8470 - val_loss: 0.3947 - val_acc: 0.8231\n",
      "Epoch 35/150\n",
      "24928/25000 [============================>.] - ETA: 0s - loss: 0.3553 - acc: 0.8482\n",
      "Epoch 00035: val_acc improved from 0.82312 to 0.82364, saving model to word_embedding.hdf5\n",
      "25000/25000 [==============================] - 27s 1ms/sample - loss: 0.3553 - acc: 0.8482 - val_loss: 0.3935 - val_acc: 0.8236\n",
      "Epoch 36/150\n",
      "24960/25000 [============================>.] - ETA: 0s - loss: 0.3530 - acc: 0.8499\n",
      "Epoch 00036: val_acc improved from 0.82364 to 0.82428, saving model to word_embedding.hdf5\n",
      "25000/25000 [==============================] - 26s 1ms/sample - loss: 0.3531 - acc: 0.8498 - val_loss: 0.3923 - val_acc: 0.8243\n",
      "Epoch 37/150\n",
      "24992/25000 [============================>.] - ETA: 0s - loss: 0.3510 - acc: 0.8510\n",
      "Epoch 00037: val_acc improved from 0.82428 to 0.82468, saving model to word_embedding.hdf5\n",
      "25000/25000 [==============================] - 29s 1ms/sample - loss: 0.3510 - acc: 0.8510 - val_loss: 0.3911 - val_acc: 0.8247\n",
      "Epoch 38/150\n",
      "24992/25000 [============================>.] - ETA: 0s - loss: 0.3489 - acc: 0.8522\n",
      "Epoch 00038: val_acc improved from 0.82468 to 0.82524, saving model to word_embedding.hdf5\n",
      "25000/25000 [==============================] - 27s 1ms/sample - loss: 0.3489 - acc: 0.8521 - val_loss: 0.3900 - val_acc: 0.8252\n",
      "Epoch 39/150\n",
      "24992/25000 [============================>.] - ETA: 0s - loss: 0.3469 - acc: 0.8535\n",
      "Epoch 00039: val_acc improved from 0.82524 to 0.82636, saving model to word_embedding.hdf5\n",
      "25000/25000 [==============================] - 27s 1ms/sample - loss: 0.3469 - acc: 0.8534 - val_loss: 0.3890 - val_acc: 0.8264\n",
      "Epoch 40/150\n",
      "24992/25000 [============================>.] - ETA: 0s - loss: 0.3450 - acc: 0.8544\n",
      "Epoch 00040: val_acc improved from 0.82636 to 0.82644, saving model to word_embedding.hdf5\n",
      "25000/25000 [==============================] - 27s 1ms/sample - loss: 0.3450 - acc: 0.8544 - val_loss: 0.3879 - val_acc: 0.8264\n",
      "Epoch 41/150\n",
      "24960/25000 [============================>.] - ETA: 0s - loss: 0.3430 - acc: 0.8555\n",
      "Epoch 00041: val_acc improved from 0.82644 to 0.82724, saving model to word_embedding.hdf5\n",
      "25000/25000 [==============================] - 28s 1ms/sample - loss: 0.3431 - acc: 0.8554 - val_loss: 0.3870 - val_acc: 0.8272\n",
      "Epoch 42/150\n",
      "24992/25000 [============================>.] - ETA: 0s - loss: 0.3412 - acc: 0.8561\n",
      "Epoch 00042: val_acc improved from 0.82724 to 0.82748, saving model to word_embedding.hdf5\n",
      "25000/25000 [==============================] - 27s 1ms/sample - loss: 0.3413 - acc: 0.8560 - val_loss: 0.3860 - val_acc: 0.8275\n",
      "Epoch 43/150\n",
      "24960/25000 [============================>.] - ETA: 0s - loss: 0.3395 - acc: 0.8573\n",
      "Epoch 00043: val_acc improved from 0.82748 to 0.82800, saving model to word_embedding.hdf5\n",
      "25000/25000 [==============================] - 26s 1ms/sample - loss: 0.3395 - acc: 0.8572 - val_loss: 0.3851 - val_acc: 0.8280\n",
      "Epoch 44/150\n",
      "24960/25000 [============================>.] - ETA: 0s - loss: 0.3377 - acc: 0.8581\n",
      "Epoch 00044: val_acc improved from 0.82800 to 0.82808, saving model to word_embedding.hdf5\n",
      "25000/25000 [==============================] - 27s 1ms/sample - loss: 0.3377 - acc: 0.8580 - val_loss: 0.3842 - val_acc: 0.8281\n",
      "Epoch 45/150\n",
      "24992/25000 [============================>.] - ETA: 0s - loss: 0.3361 - acc: 0.8593\n",
      "Epoch 00045: val_acc improved from 0.82808 to 0.82864, saving model to word_embedding.hdf5\n",
      "25000/25000 [==============================] - 27s 1ms/sample - loss: 0.3361 - acc: 0.8593 - val_loss: 0.3834 - val_acc: 0.8286\n",
      "Epoch 46/150\n",
      "24992/25000 [============================>.] - ETA: 0s - loss: 0.3344 - acc: 0.8603\n",
      "Epoch 00046: val_acc improved from 0.82864 to 0.82936, saving model to word_embedding.hdf5\n",
      "25000/25000 [==============================] - 27s 1ms/sample - loss: 0.3344 - acc: 0.8603 - val_loss: 0.3825 - val_acc: 0.8294\n",
      "Epoch 47/150\n",
      "24992/25000 [============================>.] - ETA: 0s - loss: 0.3328 - acc: 0.8610\n",
      "Epoch 00047: val_acc improved from 0.82936 to 0.83012, saving model to word_embedding.hdf5\n",
      "25000/25000 [==============================] - 27s 1ms/sample - loss: 0.3328 - acc: 0.8610 - val_loss: 0.3817 - val_acc: 0.8301\n",
      "Epoch 00047: early stopping\n"
     ]
    }
   ],
   "source": [
    "history=model.fit(x_train_padded, y_train_final,batch_size = batch_size,callbacks=[earlyStopping,modelCheckpoint], epochs=num_epochs, validation_data=(x_test_padded, y_test_final))"
   ]
  },
  {
   "cell_type": "code",
   "execution_count": 21,
   "metadata": {
    "colab": {},
    "colab_type": "code",
    "id": "dnfXLOujVEd5"
   },
   "outputs": [],
   "source": [
    "#history=model.fit(x_train_padded, y_train_final,epochs=num_epochs, validation_data=(x_test_padded, y_test_final))"
   ]
  },
  {
   "cell_type": "code",
   "execution_count": 22,
   "metadata": {
    "colab": {
     "base_uri": "https://localhost:8080/",
     "height": 266
    },
    "colab_type": "code",
    "id": "ue16s38tS4qb",
    "outputId": "8b392902-f4af-469b-90b6-144003953711"
   },
   "outputs": [
    {
     "data": {
      "image/png": "[encoded data removed]",
      "text/plain": [
       "<Figure size 432x288 with 1 Axes>"
      ]
     },
     "metadata": {
      "needs_background": "light"
     },
     "output_type": "display_data"
    }
   ],
   "source": [
    "import matplotlib.pyplot as plt \n",
    "plt.plot(history.history['loss'], label='Training') \n",
    "plt.plot(history.history['val_loss'], label='Validation') \n",
    "plt.xlabel(\"Number of Epochs\")\n",
    "plt.ylabel(\"Loss\")\n",
    "plt.legend()\n",
    "plt.show()"
   ]
  },
  {
   "cell_type": "code",
   "execution_count": 23,
   "metadata": {},
   "outputs": [
    {
     "data": {
      "image/png": "[encoded data removed]",
      "text/plain": [
       "<Figure size 432x288 with 1 Axes>"
      ]
     },
     "metadata": {
      "needs_background": "light"
     },
     "output_type": "display_data"
    }
   ],
   "source": [
    "plt.plot(history.history['acc'], label='Training') \n",
    "plt.plot(history.history['val_acc'], label='Validation') \n",
    "plt.xlabel(\"Number of Epochs\")\n",
    "plt.ylabel(\"Accuracy\")\n",
    "plt.legend()\n",
    "plt.show()"
   ]
  },
  {
   "cell_type": "code",
   "execution_count": 24,
   "metadata": {
    "colab": {
     "base_uri": "https://localhost:8080/",
     "height": 34
    },
    "colab_type": "code",
    "id": "u7n_U-sZS4qf",
    "outputId": "f80cd175-ab1f-46db-bc0b-8b55fad672c1"
   },
   "outputs": [
    {
     "name": "stdout",
     "output_type": "stream",
     "text": [
      "(15000, 32)\n"
     ]
    }
   ],
   "source": [
    "e = model.layers[0]\n",
    "weights = e.get_weights()[0]\n",
    "print(weights.shape) # shape: (vocab_size, embedding_dim)"
   ]
  },
  {
   "cell_type": "code",
   "execution_count": 25,
   "metadata": {
    "colab": {
     "base_uri": "https://localhost:8080/",
     "height": 71
    },
    "colab_type": "code",
    "id": "N5zt2mjwS4qi",
    "outputId": "7d86580d-9701-421f-c0e5-c6f63fcdfdc2"
   },
   "outputs": [
    {
     "name": "stdout",
     "output_type": "stream",
     "text": [
      "b perhaps because i was so young innocent and brainwashed when i saw it this movie was the cause of many sleepless nights for me i haven't seen it since i was in seventh grade at a <OOV> school so i am not sure what effect it would have on me now however i will say that it left an impression on me and most of my friends it did serve its purpose at least until we were old enough and knowledgeable enough to analyze and create our own opinions i was particularly terrified of what the newly converted post rapture christians had to endure when not receiving the mark of the beast i don't want to spoil the movie for those who haven't seen it so i will not mention details of the scenes but i can still picture\n",
      "b\"Perhaps because I was so young, innocent and BRAINWASHED when I saw it, this movie was the cause of many sleepless nights for me. I haven't seen it since I was in seventh grade at a Presbyterian school, so I am not sure what effect it would have on me now. However, I will say that it left an impression on me... and most of my friends. It did serve its purpose, at least until we were old enough and knowledgeable enough to analyze and create our own opinions. I was particularly terrified of what the newly-converted post-rapture Christians had to endure when not receiving the mark of the beast. I don't want to spoil the movie for those who haven't seen it so I will not mention details of the scenes, but I can still picture them in my head... and it's been 19 years.\"\n"
     ]
    }
   ],
   "source": [
    "reverse_word_index = dict([(value, key) for (key, value) in word_index.items()])\n",
    "\n",
    "def decode_review(text):\n",
    "    return ' '.join([reverse_word_index.get(i, '?') for i in text])\n",
    "\n",
    "print(decode_review(x_train_padded[1]))\n",
    "print(x_train[1])"
   ]
  },
  {
   "cell_type": "markdown",
   "metadata": {
    "colab_type": "text",
    "id": "8rdQHckSS4qk"
   },
   "source": [
    "### here we are just revesing the order of word and number (word:number to number:word)"
   ]
  },
  {
   "cell_type": "code",
   "execution_count": 26,
   "metadata": {
    "colab": {},
    "colab_type": "code",
    "id": "dhFQq4B9S4qm"
   },
   "outputs": [],
   "source": [
    "import io\n",
    "\n",
    "out_v = io.open('vecs.tsv', 'w', encoding='utf-8')\n",
    "out_m = io.open('meta.tsv', 'w', encoding='utf-8')\n",
    "for word_num in range(1, vocab_size):\n",
    "  word = reverse_word_index[word_num]\n",
    "  embeddings = weights[word_num]\n",
    "  out_m.write(word + \"\\n\")\n",
    "  out_v.write('\\t'.join([str(x) for x in embeddings]) + \"\\n\")\n",
    "out_v.close()\n",
    "out_m.close()"
   ]
  },
  {
   "cell_type": "code",
   "execution_count": 27,
   "metadata": {
    "colab": {
     "base_uri": "https://localhost:8080/",
     "height": 34
    },
    "colab_type": "code",
    "id": "eGvcxaIjS4qo",
    "outputId": "16c2d90f-be4d-4d02-f925-e045e67b510f"
   },
   "outputs": [
    {
     "name": "stdout",
     "output_type": "stream",
     "text": [
      "[[11], [], [790], [2012], [11], [2920], [2188], [], [790], [2012], [11], [579], [], [11], [579], [], [1277], [1003], [1003], [960], []]\n"
     ]
    }
   ],
   "source": [
    "sentence = \"I think this is good.\"\n",
    "sequence = tokenizer.texts_to_sequences(sentence)\n",
    "print(sequence)"
   ]
  },
  {
   "cell_type": "code",
   "execution_count": null,
   "metadata": {},
   "outputs": [],
   "source": []
  }
 ],
 "metadata": {
  "colab": {
   "collapsed_sections": [],
   "name": "Word_Embedding.ipynb",
   "provenance": []
  },
  "kernelspec": {
   "display_name": "Python 3",
   "language": "python",
   "name": "python3"
  },
  "language_info": {
   "codemirror_mode": {
    "name": "ipython",
    "version": 3
   },
   "file_extension": ".py",
   "mimetype": "text/x-python",
   "name": "python",
   "nbconvert_exporter": "python",
   "pygments_lexer": "ipython3",
   "version": "3.6.4"
  }
 },
 "nbformat": 4,
 "nbformat_minor": 1
}
