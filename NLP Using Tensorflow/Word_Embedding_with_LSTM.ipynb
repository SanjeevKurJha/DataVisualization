{
  "nbformat": 4,
  "nbformat_minor": 0,
  "metadata": {
    "colab": {
      "name": "Word_Embedding with LSTM.ipynb",
      "provenance": [],
      "collapsed_sections": []
    },
    "kernelspec": {
      "name": "python3",
      "display_name": "Python 3"
    },
    "language_info": {
      "codemirror_mode": {
        "name": "ipython",
        "version": 3
      },
      "file_extension": ".py",
      "mimetype": "text/x-python",
      "name": "python",
      "nbconvert_exporter": "python",
      "pygments_lexer": "ipython3",
      "version": "3.6.4"
    },
    "accelerator": "GPU"
  },
  "cells": [
    {
      "cell_type": "markdown",
      "metadata": {
        "colab_type": "text",
        "id": "Xoq0MRc_S4pH"
      },
      "source": [
        "### IMDB Dataset [URL](http://ai.stanford.edu/~amaas/data/sentiment/) for Sentiment analysis for movies reviews \n",
        "\n",
        "### Word embedding projection [URL](http://projector.tensorflow.org/)"
      ]
    },
    {
      "cell_type": "code",
      "metadata": {
        "colab_type": "code",
        "id": "35WoXpwlS4pK",
        "colab": {
          "base_uri": "https://localhost:8080/",
          "height": 63
        },
        "outputId": "1a13f5d4-d8bc-42e4-96fd-3d9c37b6934e"
      },
      "source": [
        "import tensorflow as tf\n",
        "tf.enable_eager_execution()\n",
        "import numpy as np"
      ],
      "execution_count": 2,
      "outputs": [
        {
          "output_type": "display_data",
          "data": {
            "text/html": [
              "<p style=\"color: red;\">\n",
              "The default version of TensorFlow in Colab will soon switch to TensorFlow 2.x.<br>\n",
              "We recommend you <a href=\"https://www.tensorflow.org/guide/migrate\" target=\"_blank\">upgrade</a> now \n",
              "or ensure your notebook will continue to use TensorFlow 1.x via the <code>%tensorflow_version 1.x</code> magic:\n",
              "<a href=\"https://colab.research.google.com/notebooks/tensorflow_version.ipynb\" target=\"_blank\">more info</a>.</p>\n"
            ],
            "text/plain": [
              "<IPython.core.display.HTML object>"
            ]
          },
          "metadata": {
            "tags": []
          }
        }
      ]
    },
    {
      "cell_type": "markdown",
      "metadata": {
        "colab_type": "text",
        "id": "FXfEPJcyS4pO"
      },
      "source": [
        "### Install the tenser flow dataset using below pip code\n",
        "pip install -q tensorflow-datasets"
      ]
    },
    {
      "cell_type": "markdown",
      "metadata": {
        "colab_type": "text",
        "id": "weieOHW9S4pP"
      },
      "source": [
        "### Import Imdb review dataset from tensorflow library"
      ]
    },
    {
      "cell_type": "code",
      "metadata": {
        "colab_type": "code",
        "id": "6bTJwkVSS4pQ",
        "colab": {}
      },
      "source": [
        "import tensorflow_datasets as tf_ds"
      ],
      "execution_count": 0,
      "outputs": []
    },
    {
      "cell_type": "code",
      "metadata": {
        "colab_type": "code",
        "id": "PY3Kku3PS4pU",
        "colab": {}
      },
      "source": [
        "imdb,info=tf_ds.load(\"imdb_reviews\",with_info=True,as_supervised=True)"
      ],
      "execution_count": 0,
      "outputs": []
    },
    {
      "cell_type": "markdown",
      "metadata": {
        "colab_type": "text",
        "id": "fY7RQKNqS4pX"
      },
      "source": [
        "### Divide the dataset into training and testing set 25k on train and 25 k on test"
      ]
    },
    {
      "cell_type": "code",
      "metadata": {
        "colab_type": "code",
        "id": "KLWMEoauS4pY",
        "colab": {}
      },
      "source": [
        "data_train,data_test=imdb['train'],imdb['test']"
      ],
      "execution_count": 0,
      "outputs": []
    },
    {
      "cell_type": "code",
      "metadata": {
        "colab_type": "code",
        "id": "eGAzwnorS4pc",
        "colab": {}
      },
      "source": [
        "x_train=[] # Sentance of review of training data (data_train)\n",
        "y_train=[] # label of review of training data (data_train)\n",
        "x_test=[] # Sentance of review of testing data (data_test)\n",
        "y_test=[] # label of review of testing data (data_test)"
      ],
      "execution_count": 0,
      "outputs": []
    },
    {
      "cell_type": "markdown",
      "metadata": {
        "colab_type": "text",
        "id": "Teg2x1qQS4pg"
      },
      "source": [
        "### Run the for loop and append each sentance and lables in array"
      ]
    },
    {
      "cell_type": "code",
      "metadata": {
        "colab_type": "code",
        "id": "04KU0D3LS4ph",
        "colab": {}
      },
      "source": [
        "for x,y in data_train:\n",
        "    x_train.append(str(x.numpy()))\n",
        "    y_train.append(str(y.numpy()))"
      ],
      "execution_count": 0,
      "outputs": []
    },
    {
      "cell_type": "code",
      "metadata": {
        "colab_type": "code",
        "id": "dGTxP2nGS4pk",
        "colab": {}
      },
      "source": [
        "for x,y in data_test:\n",
        "    x_test.append(str(x.numpy()))\n",
        "    y_test.append(str(y.numpy()))"
      ],
      "execution_count": 0,
      "outputs": []
    },
    {
      "cell_type": "markdown",
      "metadata": {
        "colab_type": "text",
        "id": "__RZ-CdGS4pn"
      },
      "source": [
        "### Converting all the labels(y_train,y_test) into numpy array"
      ]
    },
    {
      "cell_type": "code",
      "metadata": {
        "colab_type": "code",
        "id": "K9uILGfMS4po",
        "colab": {}
      },
      "source": [
        "y_train_final=np.array(y_train)\n",
        "y_test_final=np.array(y_test)"
      ],
      "execution_count": 0,
      "outputs": []
    },
    {
      "cell_type": "code",
      "metadata": {
        "colab_type": "code",
        "id": "Se0YVJKRS4ps",
        "outputId": "628c2e7a-0b8a-40ec-f19a-b5ad7c4284f6",
        "colab": {
          "base_uri": "https://localhost:8080/",
          "height": 34
        }
      },
      "source": [
        "y_train_final.dtype"
      ],
      "execution_count": 10,
      "outputs": [
        {
          "output_type": "execute_result",
          "data": {
            "text/plain": [
              "dtype('<U1')"
            ]
          },
          "metadata": {
            "tags": []
          },
          "execution_count": 10
        }
      ]
    },
    {
      "cell_type": "code",
      "metadata": {
        "colab_type": "code",
        "id": "EDUq-UGnS4pw",
        "colab": {}
      },
      "source": [
        "y_train_final=y_train_final.astype('int32') \n",
        "y_test_final=y_test_final.astype('int32')"
      ],
      "execution_count": 0,
      "outputs": []
    },
    {
      "cell_type": "markdown",
      "metadata": {
        "colab_type": "text",
        "id": "ZaOuvbe1S4p2"
      },
      "source": [
        "### Declearing the important variable for word imbedding "
      ]
    },
    {
      "cell_type": "code",
      "metadata": {
        "colab_type": "code",
        "id": "BqaZTfj-S4p3",
        "colab": {}
      },
      "source": [
        "vocab_size=15000\n",
        "embed_dim=64\n",
        "max_len=140\n",
        "trunc_type='post'\n",
        "oov_tok=\"<OOV>\"\n",
        "num_epochs = 10\n",
        "batch_size=64"
      ],
      "execution_count": 0,
      "outputs": []
    },
    {
      "cell_type": "markdown",
      "metadata": {
        "colab_type": "text",
        "id": "nWzcG0vBS4p6"
      },
      "source": [
        "### Tokenize the sentance into word  and Pad the data to form the same length of sequience of data"
      ]
    },
    {
      "cell_type": "code",
      "metadata": {
        "colab_type": "code",
        "id": "molSXUPGS4p8",
        "colab": {}
      },
      "source": [
        "from tensorflow.keras.preprocessing.text import Tokenizer\n",
        "from tensorflow.keras.preprocessing.sequence import pad_sequences\n",
        "from tensorflow.keras.optimizers import Adam\n",
        "from tensorflow.keras.callbacks import ModelCheckpoint,EarlyStopping"
      ],
      "execution_count": 0,
      "outputs": []
    },
    {
      "cell_type": "code",
      "metadata": {
        "colab_type": "code",
        "id": "Twc3-OA8S4p_",
        "colab": {}
      },
      "source": [
        "tokenizer=Tokenizer(num_words=vocab_size,oov_token=oov_tok)\n",
        "#fit_on_texts will take the data and encode it\n",
        "tokenizer.fit_on_texts(x_train)\n",
        "#it will provide the word index property in dectionary form\n",
        "word_index=tokenizer.word_index"
      ],
      "execution_count": 0,
      "outputs": []
    },
    {
      "cell_type": "code",
      "metadata": {
        "colab_type": "code",
        "id": "EFqq1y22S4qF",
        "colab": {}
      },
      "source": [
        "x_train_sequences=tokenizer.texts_to_sequences(x_train)\n",
        "x_train_padded=pad_sequences(x_train_sequences,maxlen=max_len,truncating=trunc_type)"
      ],
      "execution_count": 0,
      "outputs": []
    },
    {
      "cell_type": "code",
      "metadata": {
        "colab_type": "code",
        "id": "xdI27iwJS4qK",
        "colab": {}
      },
      "source": [
        "x_test_sequences=tokenizer.texts_to_sequences(x_test)\n",
        "x_test_padded=pad_sequences(x_test_sequences,maxlen=max_len)"
      ],
      "execution_count": 0,
      "outputs": []
    },
    {
      "cell_type": "markdown",
      "metadata": {
        "colab_type": "text",
        "id": "qUZYV-IXS4qN"
      },
      "source": [
        "### Building a keras model"
      ]
    },
    {
      "cell_type": "code",
      "metadata": {
        "colab_type": "code",
        "id": "c6WJZ4zNS4qO",
        "colab": {}
      },
      "source": [
        "model=tf.keras.Sequential([\n",
        "    tf.keras.layers.Embedding(vocab_size,embed_dim,input_length=max_len),\n",
        "    #tf.keras.layers.Bidirectional(tf.keras.layers.LSTM(64, return_sequences=True)),\n",
        "    tf.keras.layers.Bidirectional(tf.keras.layers.LSTM(64)),\n",
        "    tf.keras.layers.Dense(64,activation=\"tanh\"),\n",
        "    tf.keras.layers.Dense(1,activation=\"sigmoid\")    \n",
        "])"
      ],
      "execution_count": 0,
      "outputs": []
    },
    {
      "cell_type": "markdown",
      "metadata": {
        "colab_type": "text",
        "id": "DfYNSiI3S4qS"
      },
      "source": [
        "### How can we use the vector"
      ]
    },
    {
      "cell_type": "code",
      "metadata": {
        "colab_type": "code",
        "id": "zNCTTHwlS4qT",
        "outputId": "a986d637-c769-4447-a85e-2b5056501d3f",
        "colab": {
          "base_uri": "https://localhost:8080/",
          "height": 289
        }
      },
      "source": [
        "optimizer = Adam(lr=0.0001, beta_1=0.9, beta_2=0.999, decay=0.001)\n",
        "model.compile(loss='binary_crossentropy',optimizer=optimizer,metrics=['accuracy'])\n",
        "model.summary()"
      ],
      "execution_count": 18,
      "outputs": [
        {
          "output_type": "stream",
          "text": [
            "Model: \"sequential\"\n",
            "_________________________________________________________________\n",
            "Layer (type)                 Output Shape              Param #   \n",
            "=================================================================\n",
            "embedding (Embedding)        (None, 140, 64)           960000    \n",
            "_________________________________________________________________\n",
            "bidirectional (Bidirectional (None, 128)               66048     \n",
            "_________________________________________________________________\n",
            "dense (Dense)                (None, 64)                8256      \n",
            "_________________________________________________________________\n",
            "dense_1 (Dense)              (None, 1)                 65        \n",
            "=================================================================\n",
            "Total params: 1,034,369\n",
            "Trainable params: 1,034,369\n",
            "Non-trainable params: 0\n",
            "_________________________________________________________________\n"
          ],
          "name": "stdout"
        }
      ]
    },
    {
      "cell_type": "code",
      "metadata": {
        "colab_type": "code",
        "id": "dVebmUQrS4qW",
        "colab": {}
      },
      "source": [
        "earlyStopping = EarlyStopping(monitor='val_loss', mode='min', verbose=1, patience=10, min_delta=0.01) \n",
        "\n",
        "modelCheckpoint = ModelCheckpoint('word_embedding_lstm.hdf5', monitor='val_acc', verbose=1, save_best_only=True, mode='max')"
      ],
      "execution_count": 0,
      "outputs": []
    },
    {
      "cell_type": "code",
      "metadata": {
        "colab_type": "code",
        "id": "UO5oaNuwS4qY",
        "outputId": "1591c19e-e3e0-4669-e0c9-b29ee0f26129",
        "colab": {
          "base_uri": "https://localhost:8080/",
          "height": 816
        }
      },
      "source": [
        "history=model.fit(x_train_padded, y_train_final,batch_size = batch_size,callbacks=[earlyStopping,modelCheckpoint], epochs=num_epochs, validation_data=(x_test_padded, y_test_final))"
      ],
      "execution_count": 20,
      "outputs": [
        {
          "output_type": "stream",
          "text": [
            "Train on 25000 samples, validate on 25000 samples\n",
            "Epoch 1/10\n",
            "WARNING:tensorflow:From /usr/local/lib/python3.6/dist-packages/tensorflow_core/python/ops/nn_impl.py:183: where (from tensorflow.python.ops.array_ops) is deprecated and will be removed in a future version.\n",
            "Instructions for updating:\n",
            "Use tf.where in 2.0, which has the same broadcast rule as np.where\n"
          ],
          "name": "stdout"
        },
        {
          "output_type": "stream",
          "text": [
            "WARNING:tensorflow:From /usr/local/lib/python3.6/dist-packages/tensorflow_core/python/ops/nn_impl.py:183: where (from tensorflow.python.ops.array_ops) is deprecated and will be removed in a future version.\n",
            "Instructions for updating:\n",
            "Use tf.where in 2.0, which has the same broadcast rule as np.where\n"
          ],
          "name": "stderr"
        },
        {
          "output_type": "stream",
          "text": [
            "24960/25000 [============================>.] - ETA: 0s - loss: 0.6589 - acc: 0.5773\n",
            "Epoch 00001: val_acc improved from -inf to 0.78072, saving model to word_embedding_lstm.hdf5\n",
            "25000/25000 [==============================] - 238s 10ms/sample - loss: 0.6586 - acc: 0.5776 - val_loss: 0.4688 - val_acc: 0.7807\n",
            "Epoch 2/10\n",
            "24960/25000 [============================>.] - ETA: 0s - loss: 0.3852 - acc: 0.8339\n",
            "Epoch 00002: val_acc improved from 0.78072 to 0.83956, saving model to word_embedding_lstm.hdf5\n",
            "25000/25000 [==============================] - 232s 9ms/sample - loss: 0.3853 - acc: 0.8338 - val_loss: 0.3595 - val_acc: 0.8396\n",
            "Epoch 3/10\n",
            "24960/25000 [============================>.] - ETA: 0s - loss: 0.2861 - acc: 0.8876\n",
            "Epoch 00003: val_acc improved from 0.83956 to 0.85200, saving model to word_embedding_lstm.hdf5\n",
            "25000/25000 [==============================] - 243s 10ms/sample - loss: 0.2862 - acc: 0.8876 - val_loss: 0.3404 - val_acc: 0.8520\n",
            "Epoch 4/10\n",
            "24960/25000 [============================>.] - ETA: 0s - loss: 0.2395 - acc: 0.9098\n",
            "Epoch 00004: val_acc did not improve from 0.85200\n",
            "25000/25000 [==============================] - 230s 9ms/sample - loss: 0.2398 - acc: 0.9098 - val_loss: 0.3733 - val_acc: 0.8430\n",
            "Epoch 5/10\n",
            "24960/25000 [============================>.] - ETA: 0s - loss: 0.2073 - acc: 0.9242\n",
            "Epoch 00005: val_acc did not improve from 0.85200\n",
            "25000/25000 [==============================] - 229s 9ms/sample - loss: 0.2073 - acc: 0.9243 - val_loss: 0.3602 - val_acc: 0.8492\n",
            "Epoch 6/10\n",
            "24960/25000 [============================>.] - ETA: 0s - loss: 0.1840 - acc: 0.9346\n",
            "Epoch 00006: val_acc did not improve from 0.85200\n",
            "25000/25000 [==============================] - 229s 9ms/sample - loss: 0.1838 - acc: 0.9347 - val_loss: 0.3905 - val_acc: 0.8430\n",
            "Epoch 7/10\n",
            "24960/25000 [============================>.] - ETA: 0s - loss: 0.1650 - acc: 0.9431\n",
            "Epoch 00007: val_acc did not improve from 0.85200\n",
            "25000/25000 [==============================] - 231s 9ms/sample - loss: 0.1650 - acc: 0.9431 - val_loss: 0.3982 - val_acc: 0.8434\n",
            "Epoch 8/10\n",
            "24960/25000 [============================>.] - ETA: 0s - loss: 0.1492 - acc: 0.9511\n",
            "Epoch 00008: val_acc did not improve from 0.85200\n",
            "25000/25000 [==============================] - 229s 9ms/sample - loss: 0.1491 - acc: 0.9511 - val_loss: 0.4284 - val_acc: 0.8386\n",
            "Epoch 9/10\n",
            "24960/25000 [============================>.] - ETA: 0s - loss: 0.1345 - acc: 0.9569\n",
            "Epoch 00009: val_acc did not improve from 0.85200\n",
            "25000/25000 [==============================] - 232s 9ms/sample - loss: 0.1343 - acc: 0.9570 - val_loss: 0.4483 - val_acc: 0.8354\n",
            "Epoch 10/10\n",
            "24960/25000 [============================>.] - ETA: 0s - loss: 0.1227 - acc: 0.9619\n",
            "Epoch 00010: val_acc did not improve from 0.85200\n",
            "25000/25000 [==============================] - 232s 9ms/sample - loss: 0.1230 - acc: 0.9618 - val_loss: 0.4914 - val_acc: 0.8325\n"
          ],
          "name": "stdout"
        }
      ]
    },
    {
      "cell_type": "code",
      "metadata": {
        "colab_type": "code",
        "id": "dnfXLOujVEd5",
        "colab": {}
      },
      "source": [
        "#history=model.fit(x_train_padded, y_train_final,epochs=num_epochs, validation_data=(x_test_padded, y_test_final))"
      ],
      "execution_count": 0,
      "outputs": []
    },
    {
      "cell_type": "code",
      "metadata": {
        "colab_type": "code",
        "id": "ue16s38tS4qb",
        "outputId": "0b951f26-f019-42fc-855f-0a77f7878cf6",
        "colab": {
          "base_uri": "https://localhost:8080/",
          "height": 279
        }
      },
      "source": [
        "import matplotlib.pyplot as plt \n",
        "plt.plot(history.history['loss'], label='Training') \n",
        "plt.plot(history.history['val_loss'], label='Validation') \n",
        "plt.xlabel(\"Number of Epochs\")\n",
        "plt.ylabel(\"Loss\")\n",
        "plt.legend()\n",
        "plt.show()"
      ],
      "execution_count": 22,
      "outputs": [
        {
          "output_type": "display_data",
          "data": {
            "image/png": "[encoded data removed]",
            "text/plain": [
              "<Figure size 432x288 with 1 Axes>"
            ]
          },
          "metadata": {
            "tags": []
          }
        }
      ]
    },
    {
      "cell_type": "code",
      "metadata": {
        "id": "Z_ZugKj6T_ZD",
        "colab_type": "code",
        "colab": {
          "base_uri": "https://localhost:8080/",
          "height": 279
        },
        "outputId": "7121c362-a6f7-4aaf-d0c4-ecc0dd8948ac"
      },
      "source": [
        "plt.plot(history.history['acc'], label='Training') \n",
        "plt.plot(history.history['val_acc'], label='Validation') \n",
        "plt.xlabel(\"Number of Epochs\")\n",
        "plt.ylabel(\"Accuracy\")\n",
        "plt.legend()\n",
        "plt.show()"
      ],
      "execution_count": 23,
      "outputs": [
        {
          "output_type": "display_data",
          "data": {
            "image/png": "[encoded data removed]",
            "text/plain": [
              "<Figure size 432x288 with 1 Axes>"
            ]
          },
          "metadata": {
            "tags": []
          }
        }
      ]
    },
    {
      "cell_type": "code",
      "metadata": {
        "colab_type": "code",
        "id": "u7n_U-sZS4qf",
        "outputId": "36f776a2-4f5f-4a25-b7e5-0ab5aadc5251",
        "colab": {
          "base_uri": "https://localhost:8080/",
          "height": 34
        }
      },
      "source": [
        "e = model.layers[0]\n",
        "weights = e.get_weights()[0]\n",
        "print(weights.shape) # shape: (vocab_size, embedding_dim)"
      ],
      "execution_count": 24,
      "outputs": [
        {
          "output_type": "stream",
          "text": [
            "(15000, 64)\n"
          ],
          "name": "stdout"
        }
      ]
    },
    {
      "cell_type": "code",
      "metadata": {
        "colab_type": "code",
        "id": "N5zt2mjwS4qi",
        "outputId": "c102b94b-0c92-4a9c-9b0d-5af49f7fbddb",
        "colab": {
          "base_uri": "https://localhost:8080/",
          "height": 71
        }
      },
      "source": [
        "reverse_word_index = dict([(value, key) for (key, value) in word_index.items()])\n",
        "\n",
        "def decode_review(text):\n",
        "    return ' '.join([reverse_word_index.get(i, '?') for i in text])\n",
        "\n",
        "print(decode_review(x_train_padded[1]))\n",
        "print(x_train[1])"
      ],
      "execution_count": 25,
      "outputs": [
        {
          "output_type": "stream",
          "text": [
            "? ? ? ? ? ? ? ? ? ? ? ? ? ? ? ? ? ? ? ? ? ? ? ? ? ? ? b'i have been known to fall asleep during films but this is usually due to a combination of things including really tired being warm and comfortable on the <OOV> and having just eaten a lot however on this occasion i fell asleep because the film was rubbish the plot development was constant constantly slow and boring things seemed to happen but with no explanation of what was causing them or why i admit i may have missed part of the film but i watched the majority of it and everything just seemed to happen of its own <OOV> without any real concern for anything else i cant recommend this film at all '\n",
            "b'I have been known to fall asleep during films, but this is usually due to a combination of things including, really tired, being warm and comfortable on the sette and having just eaten a lot. However on this occasion I fell asleep because the film was rubbish. The plot development was constant. Constantly slow and boring. Things seemed to happen, but with no explanation of what was causing them or why. I admit, I may have missed part of the film, but i watched the majority of it and everything just seemed to happen of its own accord without any real concern for anything else. I cant recommend this film at all.'\n"
          ],
          "name": "stdout"
        }
      ]
    },
    {
      "cell_type": "markdown",
      "metadata": {
        "colab_type": "text",
        "id": "8rdQHckSS4qk"
      },
      "source": [
        "### here we are just revesing the order of word and number (word:number to number:word)"
      ]
    },
    {
      "cell_type": "code",
      "metadata": {
        "colab_type": "code",
        "id": "dhFQq4B9S4qm",
        "colab": {}
      },
      "source": [
        "import io\n",
        "\n",
        "out_v = io.open('vecs.tsv', 'w', encoding='utf-8')\n",
        "out_m = io.open('meta.tsv', 'w', encoding='utf-8')\n",
        "for word_num in range(1, vocab_size):\n",
        "  word = reverse_word_index[word_num]\n",
        "  embeddings = weights[word_num]\n",
        "  out_m.write(word + \"\\n\")\n",
        "  out_v.write('\\t'.join([str(x) for x in embeddings]) + \"\\n\")\n",
        "out_v.close()\n",
        "out_m.close()"
      ],
      "execution_count": 0,
      "outputs": []
    },
    {
      "cell_type": "code",
      "metadata": {
        "colab_type": "code",
        "id": "eGvcxaIjS4qo",
        "outputId": "cd3a741b-b6d9-4587-8cd7-7cd69234e86c",
        "colab": {
          "base_uri": "https://localhost:8080/",
          "height": 34
        }
      },
      "source": [
        "sentence = \"I think this is good.\"\n",
        "sequence = tokenizer.texts_to_sequences(sentence)\n",
        "print(sequence)"
      ],
      "execution_count": 27,
      "outputs": [
        {
          "output_type": "stream",
          "text": [
            "[[11], [], [790], [2019], [11], [2929], [2184], [], [790], [2019], [11], [579], [], [11], [579], [], [1275], [1003], [1003], [956], []]\n"
          ],
          "name": "stdout"
        }
      ]
    }
  ]
}