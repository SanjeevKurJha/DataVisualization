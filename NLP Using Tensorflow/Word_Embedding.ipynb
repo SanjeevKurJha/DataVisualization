{
 "cells": [
  {
   "cell_type": "markdown",
   "metadata": {
    "colab_type": "text",
    "id": "Xoq0MRc_S4pH"
   },
   "source": [
    "### IMDB Dataset [URL](http://ai.stanford.edu/~amaas/data/sentiment/) for Sentiment analysis for movies reviews \n",
    "\n",
    "### Word embedding projection [URL](http://projector.tensorflow.org/)"
   ]
  },
  {
   "cell_type": "code",
   "execution_count": 1,
   "metadata": {
    "colab": {},
    "colab_type": "code",
    "id": "35WoXpwlS4pK"
   },
   "outputs": [],
   "source": [
    "import tensorflow as tf\n",
    "tf.enable_eager_execution()\n",
    "import numpy as np"
   ]
  },
  {
   "cell_type": "markdown",
   "metadata": {
    "colab_type": "text",
    "id": "FXfEPJcyS4pO"
   },
   "source": [
    "### Install the tenser flow dataset using below pip code\n",
    "pip install -q tensorflow-datasets"
   ]
  },
  {
   "cell_type": "markdown",
   "metadata": {
    "colab_type": "text",
    "id": "weieOHW9S4pP"
   },
   "source": [
    "### Import Imdb review dataset from tensorflow library"
   ]
  },
  {
   "cell_type": "code",
   "execution_count": 2,
   "metadata": {
    "colab": {},
    "colab_type": "code",
    "id": "6bTJwkVSS4pQ"
   },
   "outputs": [],
   "source": [
    "import tensorflow_datasets as tf_ds"
   ]
  },
  {
   "cell_type": "code",
   "execution_count": 3,
   "metadata": {
    "colab": {},
    "colab_type": "code",
    "id": "PY3Kku3PS4pU"
   },
   "outputs": [],
   "source": [
    "imdb,info=tf_ds.load(\"imdb_reviews\",with_info=True,as_supervised=True)"
   ]
  },
  {
   "cell_type": "markdown",
   "metadata": {
    "colab_type": "text",
    "id": "fY7RQKNqS4pX"
   },
   "source": [
    "### Divide the dataset into training and testing set 25k on train and 25 k on test"
   ]
  },
  {
   "cell_type": "code",
   "execution_count": 4,
   "metadata": {
    "colab": {},
    "colab_type": "code",
    "id": "KLWMEoauS4pY"
   },
   "outputs": [],
   "source": [
    "data_train,data_test=imdb['train'],imdb['test']"
   ]
  },
  {
   "cell_type": "code",
   "execution_count": 5,
   "metadata": {
    "colab": {},
    "colab_type": "code",
    "id": "eGAzwnorS4pc"
   },
   "outputs": [],
   "source": [
    "x_train=[] # Sentance of review of training data (data_train)\n",
    "y_train=[] # label of review of training data (data_train)\n",
    "x_test=[] # Sentance of review of testing data (data_test)\n",
    "y_test=[] # label of review of testing data (data_test)"
   ]
  },
  {
   "cell_type": "markdown",
   "metadata": {
    "colab_type": "text",
    "id": "Teg2x1qQS4pg"
   },
   "source": [
    "### Run the for loop and append each sentance and lables in array"
   ]
  },
  {
   "cell_type": "code",
   "execution_count": 6,
   "metadata": {
    "colab": {},
    "colab_type": "code",
    "id": "04KU0D3LS4ph"
   },
   "outputs": [],
   "source": [
    "for x,y in data_train:\n",
    "    x_train.append(str(x.numpy()))\n",
    "    y_train.append(str(y.numpy()))"
   ]
  },
  {
   "cell_type": "code",
   "execution_count": 7,
   "metadata": {
    "colab": {},
    "colab_type": "code",
    "id": "dGTxP2nGS4pk"
   },
   "outputs": [],
   "source": [
    "for x,y in data_test:\n",
    "    x_test.append(str(x.numpy()))\n",
    "    y_test.append(str(y.numpy()))"
   ]
  },
  {
   "cell_type": "markdown",
   "metadata": {
    "colab_type": "text",
    "id": "__RZ-CdGS4pn"
   },
   "source": [
    "### Converting all the labels(y_train,y_test) into numpy array"
   ]
  },
  {
   "cell_type": "code",
   "execution_count": 8,
   "metadata": {
    "colab": {},
    "colab_type": "code",
    "id": "K9uILGfMS4po"
   },
   "outputs": [],
   "source": [
    "y_train_final=np.array(y_train)\n",
    "y_test_final=np.array(y_test)"
   ]
  },
  {
   "cell_type": "code",
   "execution_count": 9,
   "metadata": {
    "colab": {
     "base_uri": "https://localhost:8080/",
     "height": 34
    },
    "colab_type": "code",
    "id": "Se0YVJKRS4ps",
    "outputId": "23ef6934-eaed-4d16-d1d3-1b59c1c3e01b"
   },
   "outputs": [
    {
     "data": {
      "text/plain": [
       "dtype('<U1')"
      ]
     },
     "execution_count": 9,
     "metadata": {},
     "output_type": "execute_result"
    }
   ],
   "source": [
    "y_train_final.dtype"
   ]
  },
  {
   "cell_type": "code",
   "execution_count": 10,
   "metadata": {
    "colab": {},
    "colab_type": "code",
    "id": "EDUq-UGnS4pw"
   },
   "outputs": [],
   "source": [
    "y_train_final=y_train_final.astype('int32') \n",
    "y_test_final=y_test_final.astype('int32')"
   ]
  },
  {
   "cell_type": "markdown",
   "metadata": {
    "colab_type": "text",
    "id": "ZaOuvbe1S4p2"
   },
   "source": [
    "### Declearing the important variable for word imbedding "
   ]
  },
  {
   "cell_type": "code",
   "execution_count": 11,
   "metadata": {
    "colab": {},
    "colab_type": "code",
    "id": "BqaZTfj-S4p3"
   },
   "outputs": [],
   "source": [
    "vocab_size=15000\n",
    "embed_dim=20\n",
    "max_len=140\n",
    "trunc_type='post'\n",
    "oov_tok=\"<OOV>\"\n",
    "num_epochs = 150"
   ]
  },
  {
   "cell_type": "markdown",
   "metadata": {
    "colab_type": "text",
    "id": "nWzcG0vBS4p6"
   },
   "source": [
    "### Tokenize the sentance into word  and Pad the data to form the same length of sequience of data"
   ]
  },
  {
   "cell_type": "code",
   "execution_count": 12,
   "metadata": {
    "colab": {},
    "colab_type": "code",
    "id": "molSXUPGS4p8"
   },
   "outputs": [],
   "source": [
    "from tensorflow.keras.preprocessing.text import Tokenizer\n",
    "from tensorflow.keras.preprocessing.sequence import pad_sequences\n",
    "from tensorflow.keras.optimizers import Adam\n",
    "from tensorflow.keras.callbacks import ModelCheckpoint,EarlyStopping"
   ]
  },
  {
   "cell_type": "code",
   "execution_count": 13,
   "metadata": {
    "colab": {},
    "colab_type": "code",
    "id": "Twc3-OA8S4p_"
   },
   "outputs": [],
   "source": [
    "tokenizer=Tokenizer(num_words=vocab_size,oov_token=oov_tok)\n",
    "#fit_on_texts will take the data and encode it\n",
    "tokenizer.fit_on_texts(x_train)\n",
    "#it will provide the word index property in dectionary form\n",
    "word_index=tokenizer.word_index"
   ]
  },
  {
   "cell_type": "code",
   "execution_count": 14,
   "metadata": {
    "colab": {},
    "colab_type": "code",
    "id": "EFqq1y22S4qF"
   },
   "outputs": [],
   "source": [
    "x_train_sequences=tokenizer.texts_to_sequences(x_train)\n",
    "x_train_padded=pad_sequences(x_train_sequences,maxlen=max_len,truncating=trunc_type)"
   ]
  },
  {
   "cell_type": "code",
   "execution_count": 15,
   "metadata": {
    "colab": {},
    "colab_type": "code",
    "id": "xdI27iwJS4qK"
   },
   "outputs": [],
   "source": [
    "x_test_sequences=tokenizer.texts_to_sequences(x_test)\n",
    "x_test_padded=pad_sequences(x_test_sequences,maxlen=max_len)"
   ]
  },
  {
   "cell_type": "markdown",
   "metadata": {
    "colab_type": "text",
    "id": "qUZYV-IXS4qN"
   },
   "source": [
    "### Building a keras model"
   ]
  },
  {
   "cell_type": "code",
   "execution_count": 16,
   "metadata": {
    "colab": {},
    "colab_type": "code",
    "id": "c6WJZ4zNS4qO"
   },
   "outputs": [],
   "source": [
    "model=tf.keras.Sequential([\n",
    "    tf.keras.layers.Embedding(vocab_size,embed_dim,input_length=max_len),\n",
    "    tf.keras.layers.Flatten(),\n",
    "    tf.keras.layers.Dense(6,activation=\"tanh\"),\n",
    "    tf.keras.layers.Dense(1,activation=\"sigmoid\")    \n",
    "])"
   ]
  },
  {
   "cell_type": "markdown",
   "metadata": {
    "colab_type": "text",
    "id": "DfYNSiI3S4qS"
   },
   "source": [
    "### How can we use the vector"
   ]
  },
  {
   "cell_type": "code",
   "execution_count": 17,
   "metadata": {
    "colab": {
     "base_uri": "https://localhost:8080/",
     "height": 289
    },
    "colab_type": "code",
    "id": "zNCTTHwlS4qT",
    "outputId": "5f9d5c02-c55c-4220-885b-e48ea5a1de0b"
   },
   "outputs": [
    {
     "name": "stdout",
     "output_type": "stream",
     "text": [
      "Model: \"sequential\"\n",
      "_________________________________________________________________\n",
      "Layer (type)                 Output Shape              Param #   \n",
      "=================================================================\n",
      "embedding (Embedding)        (None, 140, 20)           300000    \n",
      "_________________________________________________________________\n",
      "flatten (Flatten)            (None, 2800)              0         \n",
      "_________________________________________________________________\n",
      "dense (Dense)                (None, 6)                 16806     \n",
      "_________________________________________________________________\n",
      "dense_1 (Dense)              (None, 1)                 7         \n",
      "=================================================================\n",
      "Total params: 316,813\n",
      "Trainable params: 316,813\n",
      "Non-trainable params: 0\n",
      "_________________________________________________________________\n"
     ]
    }
   ],
   "source": [
    "optimizer = Adam(lr=0.0001, beta_1=0.9, beta_2=0.999, decay=0.001)\n",
    "model.compile(loss='binary_crossentropy',optimizer=optimizer,metrics=['accuracy'])\n",
    "model.summary()"
   ]
  },
  {
   "cell_type": "code",
   "execution_count": 18,
   "metadata": {
    "colab": {},
    "colab_type": "code",
    "id": "dVebmUQrS4qW"
   },
   "outputs": [],
   "source": [
    "earlyStopping = EarlyStopping(monitor='val_loss', mode='min', verbose=1, patience=10, min_delta=0.01) \n",
    "\n",
    "modelCheckpoint = ModelCheckpoint('word_embedding.hdf5', monitor='val_acc', verbose=1, save_best_only=True, mode='max')"
   ]
  },
  {
   "cell_type": "code",
   "execution_count": 19,
   "metadata": {
    "colab": {
     "base_uri": "https://localhost:8080/",
     "height": 1000
    },
    "colab_type": "code",
    "id": "UO5oaNuwS4qY",
    "outputId": "3c85fb34-68d9-4522-9eef-7bb6a39015a5"
   },
   "outputs": [
    {
     "name": "stdout",
     "output_type": "stream",
     "text": [
      "Train on 25000 samples, validate on 25000 samples\n",
      "Epoch 1/150\n",
      "WARNING:tensorflow:From C:\\Users\\Sanjeev\\Anaconda3\\envs\\convo\\lib\\site-packages\\tensorflow_core\\python\\ops\\nn_impl.py:183: where (from tensorflow.python.ops.array_ops) is deprecated and will be removed in a future version.\n",
      "Instructions for updating:\n",
      "Use tf.where in 2.0, which has the same broadcast rule as np.where\n"
     ]
    },
    {
     "name": "stderr",
     "output_type": "stream",
     "text": [
      "WARNING:tensorflow:From C:\\Users\\Sanjeev\\Anaconda3\\envs\\convo\\lib\\site-packages\\tensorflow_core\\python\\ops\\nn_impl.py:183: where (from tensorflow.python.ops.array_ops) is deprecated and will be removed in a future version.\n",
      "Instructions for updating:\n",
      "Use tf.where in 2.0, which has the same broadcast rule as np.where\n"
     ]
    },
    {
     "name": "stdout",
     "output_type": "stream",
     "text": [
      "24992/25000 [============================>.] - ETA: 0s - loss: 0.6897 - acc: 0.5377\n",
      "Epoch 00001: val_acc improved from -inf to 0.58056, saving model to word_embedding.hdf5\n",
      "25000/25000 [==============================] - 6s 241us/sample - loss: 0.6897 - acc: 0.5378 - val_loss: 0.6858 - val_acc: 0.5806\n",
      "Epoch 2/150\n",
      "24960/25000 [============================>.] - ETA: 0s - loss: 0.6696 - acc: 0.6630\n",
      "Epoch 00002: val_acc improved from 0.58056 to 0.66516, saving model to word_embedding.hdf5\n",
      "25000/25000 [==============================] - 5s 209us/sample - loss: 0.6696 - acc: 0.6631 - val_loss: 0.6621 - val_acc: 0.6652\n",
      "Epoch 3/150\n",
      "24704/25000 [============================>.] - ETA: 0s - loss: 0.6330 - acc: 0.7198\n",
      "Epoch 00003: val_acc improved from 0.66516 to 0.71828, saving model to word_embedding.hdf5\n",
      "25000/25000 [==============================] - 5s 191us/sample - loss: 0.6327 - acc: 0.7204 - val_loss: 0.6222 - val_acc: 0.7183\n",
      "Epoch 4/150\n",
      "24768/25000 [============================>.] - ETA: 0s - loss: 0.5877 - acc: 0.7567\n",
      "Epoch 00004: val_acc improved from 0.71828 to 0.75380, saving model to word_embedding.hdf5\n",
      "25000/25000 [==============================] - 5s 192us/sample - loss: 0.5877 - acc: 0.7562 - val_loss: 0.5807 - val_acc: 0.7538\n",
      "Epoch 5/150\n",
      "24896/25000 [============================>.] - ETA: 0s - loss: 0.5465 - acc: 0.7847\n",
      "Epoch 00005: val_acc improved from 0.75380 to 0.77556, saving model to word_embedding.hdf5\n",
      "25000/25000 [==============================] - 5s 217us/sample - loss: 0.5465 - acc: 0.7846 - val_loss: 0.5451 - val_acc: 0.7756\n",
      "Epoch 6/150\n",
      "24672/25000 [============================>.] - ETA: 0s - loss: 0.5125 - acc: 0.8035\n",
      "Epoch 00006: val_acc improved from 0.77556 to 0.79456, saving model to word_embedding.hdf5\n",
      "25000/25000 [==============================] - 5s 192us/sample - loss: 0.5121 - acc: 0.8041 - val_loss: 0.5162 - val_acc: 0.7946\n",
      "Epoch 7/150\n",
      "24640/25000 [============================>.] - ETA: 0s - loss: 0.4843 - acc: 0.8185\n",
      "Epoch 00007: val_acc improved from 0.79456 to 0.80612, saving model to word_embedding.hdf5\n",
      "25000/25000 [==============================] - 5s 200us/sample - loss: 0.4841 - acc: 0.8188 - val_loss: 0.4935 - val_acc: 0.8061\n",
      "Epoch 8/150\n",
      "24992/25000 [============================>.] - ETA: 0s - loss: 0.4613 - acc: 0.8295\n",
      "Epoch 00008: val_acc improved from 0.80612 to 0.81500, saving model to word_embedding.hdf5\n",
      "25000/25000 [==============================] - 5s 213us/sample - loss: 0.4613 - acc: 0.8294 - val_loss: 0.4742 - val_acc: 0.8150\n",
      "Epoch 9/150\n",
      "24800/25000 [============================>.] - ETA: 0s - loss: 0.4424 - acc: 0.8376\n",
      "Epoch 00009: val_acc improved from 0.81500 to 0.82008, saving model to word_embedding.hdf5\n",
      "25000/25000 [==============================] - 5s 198us/sample - loss: 0.4425 - acc: 0.8376 - val_loss: 0.4588 - val_acc: 0.8201\n",
      "Epoch 10/150\n",
      "24992/25000 [============================>.] - ETA: 0s - loss: 0.4269 - acc: 0.8442\n",
      "Epoch 00010: val_acc improved from 0.82008 to 0.82320, saving model to word_embedding.hdf5\n",
      "25000/25000 [==============================] - 5s 194us/sample - loss: 0.4269 - acc: 0.8443 - val_loss: 0.4458 - val_acc: 0.8232\n",
      "Epoch 11/150\n",
      "24896/25000 [============================>.] - ETA: 0s - loss: 0.4135 - acc: 0.8488\n",
      "Epoch 00011: val_acc improved from 0.82320 to 0.82716, saving model to word_embedding.hdf5\n",
      "25000/25000 [==============================] - 5s 215us/sample - loss: 0.4136 - acc: 0.8488 - val_loss: 0.4353 - val_acc: 0.8272\n",
      "Epoch 12/150\n",
      "24832/25000 [============================>.] - ETA: 0s - loss: 0.4024 - acc: 0.8529\n",
      "Epoch 00012: val_acc improved from 0.82716 to 0.82916, saving model to word_embedding.hdf5\n",
      "25000/25000 [==============================] - 5s 195us/sample - loss: 0.4023 - acc: 0.8531 - val_loss: 0.4264 - val_acc: 0.8292\n",
      "Epoch 13/150\n",
      "24832/25000 [============================>.] - ETA: 0s - loss: 0.3923 - acc: 0.8569\n",
      "Epoch 00013: val_acc improved from 0.82916 to 0.83228, saving model to word_embedding.hdf5\n",
      "25000/25000 [==============================] - 5s 198us/sample - loss: 0.3924 - acc: 0.8568 - val_loss: 0.4187 - val_acc: 0.8323\n",
      "Epoch 14/150\n",
      "24928/25000 [============================>.] - ETA: 0s - loss: 0.3836 - acc: 0.8601\n",
      "Epoch 00014: val_acc improved from 0.83228 to 0.83464, saving model to word_embedding.hdf5\n",
      "25000/25000 [==============================] - 5s 217us/sample - loss: 0.3837 - acc: 0.8600 - val_loss: 0.4119 - val_acc: 0.8346\n",
      "Epoch 15/150\n",
      "24864/25000 [============================>.] - ETA: 0s - loss: 0.3760 - acc: 0.8624\n",
      "Epoch 00015: val_acc improved from 0.83464 to 0.83704, saving model to word_embedding.hdf5\n",
      "25000/25000 [==============================] - 5s 197us/sample - loss: 0.3761 - acc: 0.8624 - val_loss: 0.4059 - val_acc: 0.8370\n",
      "Epoch 16/150\n",
      "24896/25000 [============================>.] - ETA: 0s - loss: 0.3690 - acc: 0.8644\n",
      "Epoch 00016: val_acc improved from 0.83704 to 0.83820, saving model to word_embedding.hdf5\n",
      "25000/25000 [==============================] - 5s 198us/sample - loss: 0.3692 - acc: 0.8644 - val_loss: 0.4006 - val_acc: 0.8382\n",
      "Epoch 17/150\n",
      "24832/25000 [============================>.] - ETA: 0s - loss: 0.3629 - acc: 0.8672\n",
      "Epoch 00017: val_acc improved from 0.83820 to 0.84012, saving model to word_embedding.hdf5\n",
      "25000/25000 [==============================] - 5s 199us/sample - loss: 0.3630 - acc: 0.8669 - val_loss: 0.3958 - val_acc: 0.8401\n",
      "Epoch 18/150\n",
      "24864/25000 [============================>.] - ETA: 0s - loss: 0.3573 - acc: 0.8690\n",
      "Epoch 00018: val_acc improved from 0.84012 to 0.84228, saving model to word_embedding.hdf5\n",
      "25000/25000 [==============================] - 5s 216us/sample - loss: 0.3573 - acc: 0.8689 - val_loss: 0.3915 - val_acc: 0.8423\n",
      "Epoch 19/150\n",
      "24608/25000 [============================>.] - ETA: 0s - loss: 0.3524 - acc: 0.8710\n",
      "Epoch 00019: val_acc improved from 0.84228 to 0.84292, saving model to word_embedding.hdf5\n",
      "25000/25000 [==============================] - 5s 199us/sample - loss: 0.3522 - acc: 0.8711 - val_loss: 0.3879 - val_acc: 0.8429\n",
      "Epoch 20/150\n",
      "24768/25000 [============================>.] - ETA: 0s - loss: 0.3474 - acc: 0.8727\n",
      "Epoch 00020: val_acc improved from 0.84292 to 0.84368, saving model to word_embedding.hdf5\n",
      "25000/25000 [==============================] - 5s 202us/sample - loss: 0.3474 - acc: 0.8726 - val_loss: 0.3846 - val_acc: 0.8437\n",
      "Epoch 21/150\n",
      "24864/25000 [============================>.] - ETA: 0s - loss: 0.3432 - acc: 0.8738\n",
      "Epoch 00021: val_acc improved from 0.84368 to 0.84480, saving model to word_embedding.hdf5\n",
      "25000/25000 [==============================] - 6s 222us/sample - loss: 0.3430 - acc: 0.8739 - val_loss: 0.3814 - val_acc: 0.8448\n",
      "Epoch 22/150\n",
      "24864/25000 [============================>.] - ETA: 0s - loss: 0.3388 - acc: 0.8754\n",
      "Epoch 00022: val_acc improved from 0.84480 to 0.84568, saving model to word_embedding.hdf5\n",
      "25000/25000 [==============================] - 5s 202us/sample - loss: 0.3389 - acc: 0.8753 - val_loss: 0.3784 - val_acc: 0.8457\n",
      "Epoch 23/150\n",
      "24768/25000 [============================>.] - ETA: 0s - loss: 0.3352 - acc: 0.8773\n",
      "Epoch 00023: val_acc improved from 0.84568 to 0.84668, saving model to word_embedding.hdf5\n",
      "25000/25000 [==============================] - 5s 206us/sample - loss: 0.3351 - acc: 0.8774 - val_loss: 0.3757 - val_acc: 0.8467\n",
      "Epoch 24/150\n",
      "24768/25000 [============================>.] - ETA: 0s - loss: 0.3316 - acc: 0.8786\n",
      "Epoch 00024: val_acc improved from 0.84668 to 0.84752, saving model to word_embedding.hdf5\n",
      "25000/25000 [==============================] - 6s 222us/sample - loss: 0.3315 - acc: 0.8786 - val_loss: 0.3733 - val_acc: 0.8475\n",
      "Epoch 25/150\n",
      "24928/25000 [============================>.] - ETA: 0s - loss: 0.3281 - acc: 0.8802\n",
      "Epoch 00025: val_acc improved from 0.84752 to 0.84776, saving model to word_embedding.hdf5\n",
      "25000/25000 [==============================] - 5s 209us/sample - loss: 0.3282 - acc: 0.8802 - val_loss: 0.3711 - val_acc: 0.8478\n",
      "Epoch 26/150\n",
      "24832/25000 [============================>.] - ETA: 0s - loss: 0.3250 - acc: 0.8817\n",
      "Epoch 00026: val_acc improved from 0.84776 to 0.84888, saving model to word_embedding.hdf5\n",
      "25000/25000 [==============================] - 5s 203us/sample - loss: 0.3250 - acc: 0.8817 - val_loss: 0.3688 - val_acc: 0.8489\n"
     ]
    },
    {
     "name": "stdout",
     "output_type": "stream",
     "text": [
      "Epoch 27/150\n",
      "24576/25000 [============================>.] - ETA: 0s - loss: 0.3217 - acc: 0.8829\n",
      "Epoch 00027: val_acc improved from 0.84888 to 0.84904, saving model to word_embedding.hdf5\n",
      "25000/25000 [==============================] - 7s 276us/sample - loss: 0.3220 - acc: 0.8830 - val_loss: 0.3671 - val_acc: 0.8490\n",
      "Epoch 28/150\n",
      "24704/25000 [============================>.] - ETA: 0s - loss: 0.3192 - acc: 0.8835\n",
      "Epoch 00028: val_acc improved from 0.84904 to 0.85020, saving model to word_embedding.hdf5\n",
      "25000/25000 [==============================] - 5s 191us/sample - loss: 0.3192 - acc: 0.8835 - val_loss: 0.3651 - val_acc: 0.8502\n",
      "Epoch 29/150\n",
      "24832/25000 [============================>.] - ETA: 0s - loss: 0.3162 - acc: 0.8847\n",
      "Epoch 00029: val_acc improved from 0.85020 to 0.85080, saving model to word_embedding.hdf5\n",
      "25000/25000 [==============================] - 5s 195us/sample - loss: 0.3165 - acc: 0.8843 - val_loss: 0.3634 - val_acc: 0.8508\n",
      "Epoch 30/150\n",
      "24832/25000 [============================>.] - ETA: 0s - loss: 0.3142 - acc: 0.8856\n",
      "Epoch 00030: val_acc improved from 0.85080 to 0.85128, saving model to word_embedding.hdf5\n",
      "25000/25000 [==============================] - 5s 209us/sample - loss: 0.3139 - acc: 0.8858 - val_loss: 0.3616 - val_acc: 0.8513\n",
      "Epoch 31/150\n",
      "24896/25000 [============================>.] - ETA: 0s - loss: 0.3116 - acc: 0.8863\n",
      "Epoch 00031: val_acc improved from 0.85128 to 0.85156, saving model to word_embedding.hdf5\n",
      "25000/25000 [==============================] - 5s 199us/sample - loss: 0.3115 - acc: 0.8864 - val_loss: 0.3601 - val_acc: 0.8516\n",
      "Epoch 32/150\n",
      "24992/25000 [============================>.] - ETA: 0s - loss: 0.3092 - acc: 0.8875\n",
      "Epoch 00032: val_acc improved from 0.85156 to 0.85204, saving model to word_embedding.hdf5\n",
      "25000/25000 [==============================] - 5s 198us/sample - loss: 0.3092 - acc: 0.8876 - val_loss: 0.3588 - val_acc: 0.8520\n",
      "Epoch 33/150\n",
      "24800/25000 [============================>.] - ETA: 0s - loss: 0.3071 - acc: 0.8886\n",
      "Epoch 00033: val_acc improved from 0.85204 to 0.85224, saving model to word_embedding.hdf5\n",
      "25000/25000 [==============================] - 5s 213us/sample - loss: 0.3070 - acc: 0.8886 - val_loss: 0.3574 - val_acc: 0.8522\n",
      "Epoch 34/150\n",
      "24832/25000 [============================>.] - ETA: 0s - loss: 0.3050 - acc: 0.8893\n",
      "Epoch 00034: val_acc improved from 0.85224 to 0.85264, saving model to word_embedding.hdf5\n",
      "25000/25000 [==============================] - 5s 195us/sample - loss: 0.3048 - acc: 0.8894 - val_loss: 0.3561 - val_acc: 0.8526\n",
      "Epoch 35/150\n",
      "24704/25000 [============================>.] - ETA: 0s - loss: 0.3025 - acc: 0.8904\n",
      "Epoch 00035: val_acc improved from 0.85264 to 0.85324, saving model to word_embedding.hdf5\n",
      "25000/25000 [==============================] - 5s 200us/sample - loss: 0.3028 - acc: 0.8902 - val_loss: 0.3548 - val_acc: 0.8532\n",
      "Epoch 36/150\n",
      "24736/25000 [============================>.] - ETA: 0s - loss: 0.3008 - acc: 0.8915\n",
      "Epoch 00036: val_acc improved from 0.85324 to 0.85336, saving model to word_embedding.hdf5\n",
      "25000/25000 [==============================] - 5s 218us/sample - loss: 0.3008 - acc: 0.8914 - val_loss: 0.3537 - val_acc: 0.8534\n",
      "Epoch 37/150\n",
      "24672/25000 [============================>.] - ETA: 0s - loss: 0.2991 - acc: 0.8919\n",
      "Epoch 00037: val_acc improved from 0.85336 to 0.85360, saving model to word_embedding.hdf5\n",
      "25000/25000 [==============================] - 5s 197us/sample - loss: 0.2989 - acc: 0.8920 - val_loss: 0.3526 - val_acc: 0.8536\n",
      "Epoch 38/150\n",
      "24704/25000 [============================>.] - ETA: 0s - loss: 0.2968 - acc: 0.8930\n",
      "Epoch 00038: val_acc improved from 0.85360 to 0.85412, saving model to word_embedding.hdf5\n",
      "25000/25000 [==============================] - 5s 198us/sample - loss: 0.2971 - acc: 0.8926 - val_loss: 0.3515 - val_acc: 0.8541\n",
      "Epoch 39/150\n",
      "24832/25000 [============================>.] - ETA: 0s - loss: 0.2955 - acc: 0.8929\n",
      "Epoch 00039: val_acc did not improve from 0.85412\n",
      "25000/25000 [==============================] - 5s 219us/sample - loss: 0.2953 - acc: 0.8930 - val_loss: 0.3507 - val_acc: 0.8541\n",
      "Epoch 40/150\n",
      "24992/25000 [============================>.] - ETA: 0s - loss: 0.2936 - acc: 0.8938\n",
      "Epoch 00040: val_acc improved from 0.85412 to 0.85440, saving model to word_embedding.hdf5\n",
      "25000/25000 [==============================] - 5s 199us/sample - loss: 0.2936 - acc: 0.8938 - val_loss: 0.3496 - val_acc: 0.8544\n",
      "Epoch 41/150\n",
      "24704/25000 [============================>.] - ETA: 0s - loss: 0.2919 - acc: 0.8947\n",
      "Epoch 00041: val_acc improved from 0.85440 to 0.85488, saving model to word_embedding.hdf5\n",
      "25000/25000 [==============================] - 5s 198us/sample - loss: 0.2920 - acc: 0.8946 - val_loss: 0.3486 - val_acc: 0.8549\n",
      "Epoch 42/150\n",
      "24992/25000 [============================>.] - ETA: 0s - loss: 0.2904 - acc: 0.8949\n",
      "Epoch 00042: val_acc did not improve from 0.85488\n",
      "25000/25000 [==============================] - 5s 218us/sample - loss: 0.2904 - acc: 0.8949 - val_loss: 0.3477 - val_acc: 0.8548\n",
      "Epoch 43/150\n",
      "24992/25000 [============================>.] - ETA: 0s - loss: 0.2888 - acc: 0.8956\n",
      "Epoch 00043: val_acc improved from 0.85488 to 0.85536, saving model to word_embedding.hdf5\n",
      "25000/25000 [==============================] - 5s 199us/sample - loss: 0.2888 - acc: 0.8956 - val_loss: 0.3469 - val_acc: 0.8554\n",
      "Epoch 44/150\n",
      "24896/25000 [============================>.] - ETA: 0s - loss: 0.2873 - acc: 0.8961\n",
      "Epoch 00044: val_acc improved from 0.85536 to 0.85560, saving model to word_embedding.hdf5\n",
      "25000/25000 [==============================] - 5s 204us/sample - loss: 0.2873 - acc: 0.8961 - val_loss: 0.3460 - val_acc: 0.8556\n",
      "Epoch 45/150\n",
      "24992/25000 [============================>.] - ETA: 0s - loss: 0.2858 - acc: 0.8966\n",
      "Epoch 00045: val_acc improved from 0.85560 to 0.85608, saving model to word_embedding.hdf5\n",
      "25000/25000 [==============================] - 6s 223us/sample - loss: 0.2859 - acc: 0.8966 - val_loss: 0.3453 - val_acc: 0.8561\n",
      "Epoch 46/150\n",
      "24768/25000 [============================>.] - ETA: 0s - loss: 0.2848 - acc: 0.8970\n",
      "Epoch 00046: val_acc improved from 0.85608 to 0.85636, saving model to word_embedding.hdf5\n",
      "25000/25000 [==============================] - 5s 202us/sample - loss: 0.2845 - acc: 0.8973 - val_loss: 0.3446 - val_acc: 0.8564\n",
      "Epoch 47/150\n",
      "24832/25000 [============================>.] - ETA: 0s - loss: 0.2834 - acc: 0.8978\n",
      "Epoch 00047: val_acc improved from 0.85636 to 0.85664, saving model to word_embedding.hdf5\n",
      "25000/25000 [==============================] - 5s 197us/sample - loss: 0.2831 - acc: 0.8980 - val_loss: 0.3438 - val_acc: 0.8566\n",
      "Epoch 48/150\n",
      "24768/25000 [============================>.] - ETA: 0s - loss: 0.2816 - acc: 0.8989\n",
      "Epoch 00048: val_acc improved from 0.85664 to 0.85700, saving model to word_embedding.hdf5\n",
      "25000/25000 [==============================] - 6s 223us/sample - loss: 0.2818 - acc: 0.8986 - val_loss: 0.3431 - val_acc: 0.8570\n",
      "Epoch 00048: early stopping\n"
     ]
    }
   ],
   "source": [
    "history=model.fit(x_train_padded, y_train_final,batch_size = 32,callbacks=[earlyStopping,modelCheckpoint], epochs=num_epochs, validation_data=(x_test_padded, y_test_final))"
   ]
  },
  {
   "cell_type": "code",
   "execution_count": 20,
   "metadata": {
    "colab": {},
    "colab_type": "code",
    "id": "dnfXLOujVEd5"
   },
   "outputs": [],
   "source": [
    "#history=model.fit(x_train_padded, y_train_final,epochs=num_epochs, validation_data=(x_test_padded, y_test_final))"
   ]
  },
  {
   "cell_type": "code",
   "execution_count": 21,
   "metadata": {
    "colab": {
     "base_uri": "https://localhost:8080/",
     "height": 266
    },
    "colab_type": "code",
    "id": "ue16s38tS4qb",
    "outputId": "8b392902-f4af-469b-90b6-144003953711"
   },
   "outputs": [
    {
     "data": {
      "image/png": "[encoded data removed]",
      "text/plain": [
       "<Figure size 432x288 with 1 Axes>"
      ]
     },
     "metadata": {
      "needs_background": "light"
     },
     "output_type": "display_data"
    }
   ],
   "source": [
    "from matplotlib import pyplot \n",
    "pyplot.plot(history.history['loss'], label='Training') \n",
    "pyplot.plot(history.history['val_loss'], label='Validation') \n",
    "pyplot.legend()\n",
    "pyplot.show()"
   ]
  },
  {
   "cell_type": "code",
   "execution_count": 22,
   "metadata": {
    "colab": {
     "base_uri": "https://localhost:8080/",
     "height": 34
    },
    "colab_type": "code",
    "id": "u7n_U-sZS4qf",
    "outputId": "f80cd175-ab1f-46db-bc0b-8b55fad672c1"
   },
   "outputs": [
    {
     "name": "stdout",
     "output_type": "stream",
     "text": [
      "(15000, 20)\n"
     ]
    }
   ],
   "source": [
    "e = model.layers[0]\n",
    "weights = e.get_weights()[0]\n",
    "print(weights.shape) # shape: (vocab_size, embedding_dim)"
   ]
  },
  {
   "cell_type": "code",
   "execution_count": 23,
   "metadata": {
    "colab": {
     "base_uri": "https://localhost:8080/",
     "height": 71
    },
    "colab_type": "code",
    "id": "N5zt2mjwS4qi",
    "outputId": "7d86580d-9701-421f-c0e5-c6f63fcdfdc2"
   },
   "outputs": [
    {
     "name": "stdout",
     "output_type": "stream",
     "text": [
      "b perhaps because i was so young innocent and brainwashed when i saw it this movie was the cause of many sleepless nights for me i haven't seen it since i was in seventh grade at a <OOV> school so i am not sure what effect it would have on me now however i will say that it left an impression on me and most of my friends it did serve its purpose at least until we were old enough and knowledgeable enough to analyze and create our own opinions i was particularly terrified of what the newly converted post rapture christians had to endure when not receiving the mark of the beast i don't want to spoil the movie for those who haven't seen it so i will not mention details of the scenes but i can still picture\n",
      "b\"Perhaps because I was so young, innocent and BRAINWASHED when I saw it, this movie was the cause of many sleepless nights for me. I haven't seen it since I was in seventh grade at a Presbyterian school, so I am not sure what effect it would have on me now. However, I will say that it left an impression on me... and most of my friends. It did serve its purpose, at least until we were old enough and knowledgeable enough to analyze and create our own opinions. I was particularly terrified of what the newly-converted post-rapture Christians had to endure when not receiving the mark of the beast. I don't want to spoil the movie for those who haven't seen it so I will not mention details of the scenes, but I can still picture them in my head... and it's been 19 years.\"\n"
     ]
    }
   ],
   "source": [
    "reverse_word_index = dict([(value, key) for (key, value) in word_index.items()])\n",
    "\n",
    "def decode_review(text):\n",
    "    return ' '.join([reverse_word_index.get(i, '?') for i in text])\n",
    "\n",
    "print(decode_review(x_train_padded[1]))\n",
    "print(x_train[1])"
   ]
  },
  {
   "cell_type": "markdown",
   "metadata": {
    "colab_type": "text",
    "id": "8rdQHckSS4qk"
   },
   "source": [
    "### here we are just revesing the order of word and number (word:number to number:word)"
   ]
  },
  {
   "cell_type": "code",
   "execution_count": 24,
   "metadata": {
    "colab": {},
    "colab_type": "code",
    "id": "dhFQq4B9S4qm"
   },
   "outputs": [],
   "source": [
    "import io\n",
    "\n",
    "out_v = io.open('vecs.tsv', 'w', encoding='utf-8')\n",
    "out_m = io.open('meta.tsv', 'w', encoding='utf-8')\n",
    "for word_num in range(1, vocab_size):\n",
    "  word = reverse_word_index[word_num]\n",
    "  embeddings = weights[word_num]\n",
    "  out_m.write(word + \"\\n\")\n",
    "  out_v.write('\\t'.join([str(x) for x in embeddings]) + \"\\n\")\n",
    "out_v.close()\n",
    "out_m.close()"
   ]
  },
  {
   "cell_type": "code",
   "execution_count": 25,
   "metadata": {
    "colab": {
     "base_uri": "https://localhost:8080/",
     "height": 34
    },
    "colab_type": "code",
    "id": "eGvcxaIjS4qo",
    "outputId": "16c2d90f-be4d-4d02-f925-e045e67b510f"
   },
   "outputs": [
    {
     "name": "stdout",
     "output_type": "stream",
     "text": [
      "[[11], [], [790], [2012], [11], [2920], [2188], [], [790], [2012], [11], [579], [], [11], [579], [], [1277], [1003], [1003], [960], []]\n"
     ]
    }
   ],
   "source": [
    "sentence = \"I think this is good.\"\n",
    "sequence = tokenizer.texts_to_sequences(sentence)\n",
    "print(sequence)"
   ]
  }
 ],
 "metadata": {
  "colab": {
   "collapsed_sections": [],
   "name": "Word_Embedding.ipynb",
   "provenance": []
  },
  "kernelspec": {
   "display_name": "Python 3",
   "language": "python",
   "name": "python3"
  },
  "language_info": {
   "codemirror_mode": {
    "name": "ipython",
    "version": 3
   },
   "file_extension": ".py",
   "mimetype": "text/x-python",
   "name": "python",
   "nbconvert_exporter": "python",
   "pygments_lexer": "ipython3",
   "version": "3.6.4"
  }
 },
 "nbformat": 4,
 "nbformat_minor": 1
}
