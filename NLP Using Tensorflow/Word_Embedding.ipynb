{
 "cells": [
  {
   "cell_type": "markdown",
   "metadata": {
    "colab_type": "text",
    "id": "Xoq0MRc_S4pH"
   },
   "source": [
    "### IMDB Dataset [URL](http://ai.stanford.edu/~amaas/data/sentiment/) for Sentiment analysis for movies reviews \n",
    "\n",
    "### Word embedding projection [URL](http://projector.tensorflow.org/)"
   ]
  },
  {
   "cell_type": "code",
   "execution_count": 1,
   "metadata": {
    "colab": {},
    "colab_type": "code",
    "id": "35WoXpwlS4pK"
   },
   "outputs": [],
   "source": [
    "import tensorflow as tf\n",
    "tf.enable_eager_execution()\n",
    "import numpy as np"
   ]
  },
  {
   "cell_type": "markdown",
   "metadata": {
    "colab_type": "text",
    "id": "FXfEPJcyS4pO"
   },
   "source": [
    "### Install the tenser flow dataset using below pip code\n",
    "pip install -q tensorflow-datasets"
   ]
  },
  {
   "cell_type": "markdown",
   "metadata": {
    "colab_type": "text",
    "id": "weieOHW9S4pP"
   },
   "source": [
    "### Import Imdb review dataset from tensorflow library"
   ]
  },
  {
   "cell_type": "code",
   "execution_count": 2,
   "metadata": {
    "colab": {},
    "colab_type": "code",
    "id": "6bTJwkVSS4pQ"
   },
   "outputs": [],
   "source": [
    "import tensorflow_datasets as tf_ds"
   ]
  },
  {
   "cell_type": "code",
   "execution_count": 3,
   "metadata": {
    "colab": {},
    "colab_type": "code",
    "id": "PY3Kku3PS4pU"
   },
   "outputs": [],
   "source": [
    "imdb,info=tf_ds.load(\"imdb_reviews\",with_info=True,as_supervised=True)"
   ]
  },
  {
   "cell_type": "markdown",
   "metadata": {
    "colab_type": "text",
    "id": "fY7RQKNqS4pX"
   },
   "source": [
    "### Divide the dataset into training and testing set 25k on train and 25 k on test"
   ]
  },
  {
   "cell_type": "code",
   "execution_count": 4,
   "metadata": {
    "colab": {},
    "colab_type": "code",
    "id": "KLWMEoauS4pY"
   },
   "outputs": [],
   "source": [
    "data_train,data_test=imdb['train'],imdb['test']"
   ]
  },
  {
   "cell_type": "code",
   "execution_count": 5,
   "metadata": {
    "colab": {},
    "colab_type": "code",
    "id": "eGAzwnorS4pc"
   },
   "outputs": [],
   "source": [
    "x_train=[] # Sentance of review of training data (data_train)\n",
    "y_train=[] # label of review of training data (data_train)\n",
    "x_test=[] # Sentance of review of testing data (data_test)\n",
    "y_test=[] # label of review of testing data (data_test)"
   ]
  },
  {
   "cell_type": "markdown",
   "metadata": {
    "colab_type": "text",
    "id": "Teg2x1qQS4pg"
   },
   "source": [
    "### Run the for loop and append each sentance and lables in array"
   ]
  },
  {
   "cell_type": "code",
   "execution_count": 6,
   "metadata": {
    "colab": {},
    "colab_type": "code",
    "id": "04KU0D3LS4ph"
   },
   "outputs": [],
   "source": [
    "for x,y in data_train:\n",
    "    x_train.append(str(x.numpy()))\n",
    "    y_train.append(str(y.numpy()))"
   ]
  },
  {
   "cell_type": "code",
   "execution_count": 7,
   "metadata": {
    "colab": {},
    "colab_type": "code",
    "id": "dGTxP2nGS4pk"
   },
   "outputs": [],
   "source": [
    "for x,y in data_test:\n",
    "    x_test.append(str(x.numpy()))\n",
    "    y_test.append(str(y.numpy()))"
   ]
  },
  {
   "cell_type": "markdown",
   "metadata": {
    "colab_type": "text",
    "id": "__RZ-CdGS4pn"
   },
   "source": [
    "### Converting all the labels(y_train,y_test) into numpy array"
   ]
  },
  {
   "cell_type": "code",
   "execution_count": 8,
   "metadata": {
    "colab": {},
    "colab_type": "code",
    "id": "K9uILGfMS4po"
   },
   "outputs": [],
   "source": [
    "y_train_final=np.array(y_train)\n",
    "y_test_final=np.array(y_test)"
   ]
  },
  {
   "cell_type": "code",
   "execution_count": 9,
   "metadata": {
    "colab": {
     "base_uri": "https://localhost:8080/",
     "height": 34
    },
    "colab_type": "code",
    "id": "Se0YVJKRS4ps",
    "outputId": "23ef6934-eaed-4d16-d1d3-1b59c1c3e01b"
   },
   "outputs": [
    {
     "data": {
      "text/plain": [
       "dtype('<U1')"
      ]
     },
     "execution_count": 9,
     "metadata": {},
     "output_type": "execute_result"
    }
   ],
   "source": [
    "y_train_final.dtype"
   ]
  },
  {
   "cell_type": "code",
   "execution_count": 10,
   "metadata": {
    "colab": {},
    "colab_type": "code",
    "id": "EDUq-UGnS4pw"
   },
   "outputs": [],
   "source": [
    "y_train_final=y_train_final.astype('int32') \n",
    "y_test_final=y_test_final.astype('int32')"
   ]
  },
  {
   "cell_type": "markdown",
   "metadata": {
    "colab_type": "text",
    "id": "ZaOuvbe1S4p2"
   },
   "source": [
    "### Declearing the important variable for word imbedding "
   ]
  },
  {
   "cell_type": "code",
   "execution_count": 11,
   "metadata": {
    "colab": {},
    "colab_type": "code",
    "id": "BqaZTfj-S4p3"
   },
   "outputs": [],
   "source": [
    "vocab_size=15000\n",
    "embed_dim=32\n",
    "max_len=140\n",
    "trunc_type='post'\n",
    "oov_tok=\"<OOV>\"\n",
    "num_epochs = 150\n",
    "batch_size=32"
   ]
  },
  {
   "cell_type": "markdown",
   "metadata": {
    "colab_type": "text",
    "id": "nWzcG0vBS4p6"
   },
   "source": [
    "### Tokenize the sentance into word  and Pad the data to form the same length of sequience of data"
   ]
  },
  {
   "cell_type": "code",
   "execution_count": 12,
   "metadata": {
    "colab": {},
    "colab_type": "code",
    "id": "molSXUPGS4p8"
   },
   "outputs": [],
   "source": [
    "from tensorflow.keras.preprocessing.text import Tokenizer\n",
    "from tensorflow.keras.preprocessing.sequence import pad_sequences\n",
    "from tensorflow.keras.optimizers import Adam\n",
    "from tensorflow.keras.callbacks import ModelCheckpoint,EarlyStopping"
   ]
  },
  {
   "cell_type": "code",
   "execution_count": 13,
   "metadata": {
    "colab": {},
    "colab_type": "code",
    "id": "Twc3-OA8S4p_"
   },
   "outputs": [],
   "source": [
    "tokenizer=Tokenizer(num_words=vocab_size,oov_token=oov_tok)\n",
    "#fit_on_texts will take the data and encode it\n",
    "tokenizer.fit_on_texts(x_train)\n",
    "#it will provide the word index property in dectionary form\n",
    "word_index=tokenizer.word_index"
   ]
  },
  {
   "cell_type": "code",
   "execution_count": 14,
   "metadata": {
    "colab": {},
    "colab_type": "code",
    "id": "EFqq1y22S4qF"
   },
   "outputs": [],
   "source": [
    "x_train_sequences=tokenizer.texts_to_sequences(x_train)\n",
    "x_train_padded=pad_sequences(x_train_sequences,maxlen=max_len,truncating=trunc_type)"
   ]
  },
  {
   "cell_type": "code",
   "execution_count": 15,
   "metadata": {
    "colab": {},
    "colab_type": "code",
    "id": "xdI27iwJS4qK"
   },
   "outputs": [],
   "source": [
    "x_test_sequences=tokenizer.texts_to_sequences(x_test)\n",
    "x_test_padded=pad_sequences(x_test_sequences,maxlen=max_len)"
   ]
  },
  {
   "cell_type": "markdown",
   "metadata": {
    "colab_type": "text",
    "id": "qUZYV-IXS4qN"
   },
   "source": [
    "### Building a keras model"
   ]
  },
  {
   "cell_type": "code",
   "execution_count": 16,
   "metadata": {
    "colab": {},
    "colab_type": "code",
    "id": "c6WJZ4zNS4qO"
   },
   "outputs": [],
   "source": [
    "model=tf.keras.Sequential([\n",
    "    tf.keras.layers.Embedding(vocab_size,embed_dim,input_length=max_len),\n",
    "    tf.keras.layers.Flatten(),\n",
    "    tf.keras.layers.Dense(6,activation=\"tanh\"),\n",
    "    tf.keras.layers.Dense(1,activation=\"sigmoid\")    \n",
    "])"
   ]
  },
  {
   "cell_type": "markdown",
   "metadata": {
    "colab_type": "text",
    "id": "DfYNSiI3S4qS"
   },
   "source": [
    "### How can we use the vector"
   ]
  },
  {
   "cell_type": "code",
   "execution_count": 17,
   "metadata": {
    "colab": {
     "base_uri": "https://localhost:8080/",
     "height": 289
    },
    "colab_type": "code",
    "id": "zNCTTHwlS4qT",
    "outputId": "5f9d5c02-c55c-4220-885b-e48ea5a1de0b"
   },
   "outputs": [
    {
     "name": "stdout",
     "output_type": "stream",
     "text": [
      "Model: \"sequential\"\n",
      "_________________________________________________________________\n",
      "Layer (type)                 Output Shape              Param #   \n",
      "=================================================================\n",
      "embedding (Embedding)        (None, 140, 32)           480000    \n",
      "_________________________________________________________________\n",
      "flatten (Flatten)            (None, 4480)              0         \n",
      "_________________________________________________________________\n",
      "dense (Dense)                (None, 6)                 26886     \n",
      "_________________________________________________________________\n",
      "dense_1 (Dense)              (None, 1)                 7         \n",
      "=================================================================\n",
      "Total params: 506,893\n",
      "Trainable params: 506,893\n",
      "Non-trainable params: 0\n",
      "_________________________________________________________________\n"
     ]
    }
   ],
   "source": [
    "optimizer = Adam(lr=0.0001, beta_1=0.9, beta_2=0.999, decay=0.001)\n",
    "model.compile(loss='binary_crossentropy',optimizer=optimizer,metrics=['accuracy'])\n",
    "model.summary()"
   ]
  },
  {
   "cell_type": "code",
   "execution_count": 18,
   "metadata": {
    "colab": {},
    "colab_type": "code",
    "id": "dVebmUQrS4qW"
   },
   "outputs": [],
   "source": [
    "earlyStopping = EarlyStopping(monitor='val_loss', mode='min', verbose=1, patience=10, min_delta=0.01) \n",
    "\n",
    "modelCheckpoint = ModelCheckpoint('word_embedding.hdf5', monitor='val_acc', verbose=1, save_best_only=True, mode='max')"
   ]
  },
  {
   "cell_type": "code",
   "execution_count": 19,
   "metadata": {
    "colab": {
     "base_uri": "https://localhost:8080/",
     "height": 1000
    },
    "colab_type": "code",
    "id": "UO5oaNuwS4qY",
    "outputId": "3c85fb34-68d9-4522-9eef-7bb6a39015a5"
   },
   "outputs": [
    {
     "name": "stdout",
     "output_type": "stream",
     "text": [
      "Train on 25000 samples, validate on 25000 samples\n",
      "Epoch 1/150\n",
      "WARNING:tensorflow:From C:\\Users\\Sanjeev\\Anaconda3\\envs\\convo\\lib\\site-packages\\tensorflow_core\\python\\ops\\nn_impl.py:183: where (from tensorflow.python.ops.array_ops) is deprecated and will be removed in a future version.\n",
      "Instructions for updating:\n",
      "Use tf.where in 2.0, which has the same broadcast rule as np.where\n"
     ]
    },
    {
     "name": "stderr",
     "output_type": "stream",
     "text": [
      "WARNING:tensorflow:From C:\\Users\\Sanjeev\\Anaconda3\\envs\\convo\\lib\\site-packages\\tensorflow_core\\python\\ops\\nn_impl.py:183: where (from tensorflow.python.ops.array_ops) is deprecated and will be removed in a future version.\n",
      "Instructions for updating:\n",
      "Use tf.where in 2.0, which has the same broadcast rule as np.where\n"
     ]
    },
    {
     "name": "stdout",
     "output_type": "stream",
     "text": [
      "24864/25000 [============================>.] - ETA: 0s - loss: 0.6910 - acc: 0.5301\n",
      "Epoch 00001: val_acc improved from -inf to 0.57172, saving model to word_embedding.hdf5\n",
      "25000/25000 [==============================] - 8s 308us/sample - loss: 0.6910 - acc: 0.5299 - val_loss: 0.6879 - val_acc: 0.5717\n",
      "Epoch 2/150\n",
      "24800/25000 [============================>.] - ETA: 0s - loss: 0.6741 - acc: 0.6638\n",
      "Epoch 00002: val_acc improved from 0.57172 to 0.65808, saving model to word_embedding.hdf5\n",
      "25000/25000 [==============================] - 6s 249us/sample - loss: 0.6740 - acc: 0.6638 - val_loss: 0.6700 - val_acc: 0.6581\n",
      "Epoch 3/150\n",
      "24896/25000 [============================>.] - ETA: 0s - loss: 0.6426 - acc: 0.7250\n",
      "Epoch 00003: val_acc improved from 0.65808 to 0.70404, saving model to word_embedding.hdf5\n",
      "25000/25000 [==============================] - 6s 247us/sample - loss: 0.6426 - acc: 0.7249 - val_loss: 0.6360 - val_acc: 0.7040\n",
      "Epoch 4/150\n",
      "24928/25000 [============================>.] - ETA: 0s - loss: 0.6011 - acc: 0.7559\n",
      "Epoch 00004: val_acc improved from 0.70404 to 0.73708, saving model to word_embedding.hdf5\n",
      "25000/25000 [==============================] - 7s 266us/sample - loss: 0.6011 - acc: 0.7560 - val_loss: 0.5975 - val_acc: 0.7371\n",
      "Epoch 5/150\n",
      "24992/25000 [============================>.] - ETA: 0s - loss: 0.5610 - acc: 0.7804\n",
      "Epoch 00005: val_acc improved from 0.73708 to 0.76332, saving model to word_embedding.hdf5\n",
      "25000/25000 [==============================] - 6s 248us/sample - loss: 0.5610 - acc: 0.7803 - val_loss: 0.5627 - val_acc: 0.7633\n",
      "Epoch 6/150\n",
      "24832/25000 [============================>.] - ETA: 0s - loss: 0.5269 - acc: 0.7988\n",
      "Epoch 00006: val_acc improved from 0.76332 to 0.78304, saving model to word_embedding.hdf5\n",
      "25000/25000 [==============================] - 6s 248us/sample - loss: 0.5265 - acc: 0.7992 - val_loss: 0.5336 - val_acc: 0.7830\n",
      "Epoch 7/150\n",
      "24832/25000 [============================>.] - ETA: 0s - loss: 0.4978 - acc: 0.8150\n",
      "Epoch 00007: val_acc improved from 0.78304 to 0.79576, saving model to word_embedding.hdf5\n",
      "25000/25000 [==============================] - 6s 223us/sample - loss: 0.4978 - acc: 0.8150 - val_loss: 0.5099 - val_acc: 0.7958\n",
      "Epoch 8/150\n",
      "24704/25000 [============================>.] - ETA: 0s - loss: 0.4738 - acc: 0.8276\n",
      "Epoch 00008: val_acc improved from 0.79576 to 0.80528, saving model to word_embedding.hdf5\n",
      "25000/25000 [==============================] - 6s 227us/sample - loss: 0.4739 - acc: 0.8276 - val_loss: 0.4903 - val_acc: 0.8053\n",
      "Epoch 9/150\n",
      "24928/25000 [============================>.] - ETA: 0s - loss: 0.4541 - acc: 0.8367\n",
      "Epoch 00009: val_acc improved from 0.80528 to 0.81272, saving model to word_embedding.hdf5\n",
      "25000/25000 [==============================] - 7s 263us/sample - loss: 0.4539 - acc: 0.8370 - val_loss: 0.4740 - val_acc: 0.8127\n",
      "Epoch 10/150\n",
      "24960/25000 [============================>.] - ETA: 0s - loss: 0.4372 - acc: 0.8444\n",
      "Epoch 00010: val_acc improved from 0.81272 to 0.81796, saving model to word_embedding.hdf5\n",
      "25000/25000 [==============================] - 6s 246us/sample - loss: 0.4371 - acc: 0.8445 - val_loss: 0.4604 - val_acc: 0.8180\n",
      "Epoch 11/150\n",
      "24960/25000 [============================>.] - ETA: 0s - loss: 0.4227 - acc: 0.8501\n",
      "Epoch 00011: val_acc improved from 0.81796 to 0.82124, saving model to word_embedding.hdf5\n",
      "25000/25000 [==============================] - 6s 245us/sample - loss: 0.4227 - acc: 0.8502 - val_loss: 0.4489 - val_acc: 0.8212\n",
      "Epoch 12/150\n",
      "24800/25000 [============================>.] - ETA: 0s - loss: 0.4101 - acc: 0.8546\n",
      "Epoch 00012: val_acc improved from 0.82124 to 0.82504, saving model to word_embedding.hdf5\n",
      "25000/25000 [==============================] - 7s 266us/sample - loss: 0.4102 - acc: 0.8544 - val_loss: 0.4389 - val_acc: 0.8250\n",
      "Epoch 13/150\n",
      "24864/25000 [============================>.] - ETA: 0s - loss: 0.3992 - acc: 0.8594\n",
      "Epoch 00013: val_acc improved from 0.82504 to 0.82724, saving model to word_embedding.hdf5\n",
      "25000/25000 [==============================] - 6s 254us/sample - loss: 0.3994 - acc: 0.8592 - val_loss: 0.4306 - val_acc: 0.8272\n",
      "Epoch 14/150\n",
      "24736/25000 [============================>.] - ETA: 0s - loss: 0.3897 - acc: 0.8626\n",
      "Epoch 00014: val_acc improved from 0.82724 to 0.82992, saving model to word_embedding.hdf5\n",
      "25000/25000 [==============================] - 7s 266us/sample - loss: 0.3898 - acc: 0.8624 - val_loss: 0.4231 - val_acc: 0.8299\n",
      "Epoch 15/150\n",
      "24992/25000 [============================>.] - ETA: 0s - loss: 0.3813 - acc: 0.8663\n",
      "Epoch 00015: val_acc improved from 0.82992 to 0.83280, saving model to word_embedding.hdf5\n",
      "25000/25000 [==============================] - 6s 246us/sample - loss: 0.3813 - acc: 0.8664 - val_loss: 0.4167 - val_acc: 0.8328\n",
      "Epoch 16/150\n",
      "24960/25000 [============================>.] - ETA: 0s - loss: 0.3735 - acc: 0.8695\n",
      "Epoch 00016: val_acc improved from 0.83280 to 0.83508, saving model to word_embedding.hdf5\n",
      "25000/25000 [==============================] - 6s 248us/sample - loss: 0.3736 - acc: 0.8694 - val_loss: 0.4110 - val_acc: 0.8351\n",
      "Epoch 17/150\n",
      "24736/25000 [============================>.] - ETA: 0s - loss: 0.3666 - acc: 0.8719\n",
      "Epoch 00017: val_acc improved from 0.83508 to 0.83688, saving model to word_embedding.hdf5\n",
      "25000/25000 [==============================] - 7s 264us/sample - loss: 0.3667 - acc: 0.8721 - val_loss: 0.4057 - val_acc: 0.8369\n",
      "Epoch 18/150\n",
      "24864/25000 [============================>.] - ETA: 0s - loss: 0.3603 - acc: 0.8747\n",
      "Epoch 00018: val_acc improved from 0.83688 to 0.83864, saving model to word_embedding.hdf5\n",
      "25000/25000 [==============================] - 6s 246us/sample - loss: 0.3603 - acc: 0.8746 - val_loss: 0.4012 - val_acc: 0.8386\n",
      "Epoch 19/150\n",
      "24768/25000 [============================>.] - ETA: 0s - loss: 0.3543 - acc: 0.8764\n",
      "Epoch 00019: val_acc improved from 0.83864 to 0.84020, saving model to word_embedding.hdf5\n",
      "25000/25000 [==============================] - 7s 266us/sample - loss: 0.3545 - acc: 0.8763 - val_loss: 0.3970 - val_acc: 0.8402\n",
      "Epoch 20/150\n",
      "24768/25000 [============================>.] - ETA: 0s - loss: 0.3495 - acc: 0.8783\n",
      "Epoch 00020: val_acc improved from 0.84020 to 0.84176, saving model to word_embedding.hdf5\n",
      "25000/25000 [==============================] - 6s 246us/sample - loss: 0.3492 - acc: 0.8785 - val_loss: 0.3932 - val_acc: 0.8418\n",
      "Epoch 21/150\n",
      "24896/25000 [============================>.] - ETA: 0s - loss: 0.3443 - acc: 0.8801\n",
      "Epoch 00021: val_acc improved from 0.84176 to 0.84292, saving model to word_embedding.hdf5\n",
      "25000/25000 [==============================] - 6s 249us/sample - loss: 0.3442 - acc: 0.8802 - val_loss: 0.3897 - val_acc: 0.8429\n",
      "Epoch 22/150\n",
      "24800/25000 [============================>.] - ETA: 0s - loss: 0.3396 - acc: 0.8817\n",
      "Epoch 00022: val_acc improved from 0.84292 to 0.84380, saving model to word_embedding.hdf5\n",
      "25000/25000 [==============================] - 7s 266us/sample - loss: 0.3396 - acc: 0.8817 - val_loss: 0.3866 - val_acc: 0.8438\n",
      "Epoch 23/150\n",
      "24960/25000 [============================>.] - ETA: 0s - loss: 0.3353 - acc: 0.8833\n",
      "Epoch 00023: val_acc improved from 0.84380 to 0.84472, saving model to word_embedding.hdf5\n",
      "25000/25000 [==============================] - 6s 246us/sample - loss: 0.3352 - acc: 0.8833 - val_loss: 0.3835 - val_acc: 0.8447\n",
      "Epoch 24/150\n",
      "24736/25000 [============================>.] - ETA: 0s - loss: 0.3309 - acc: 0.8850\n",
      "Epoch 00024: val_acc improved from 0.84472 to 0.84536, saving model to word_embedding.hdf5\n",
      "25000/25000 [==============================] - 7s 272us/sample - loss: 0.3312 - acc: 0.8848 - val_loss: 0.3809 - val_acc: 0.8454\n",
      "Epoch 25/150\n",
      "24832/25000 [============================>.] - ETA: 0s - loss: 0.3274 - acc: 0.8866\n",
      "Epoch 00025: val_acc improved from 0.84536 to 0.84624, saving model to word_embedding.hdf5\n",
      "25000/25000 [==============================] - 6s 246us/sample - loss: 0.3274 - acc: 0.8866 - val_loss: 0.3783 - val_acc: 0.8462\n",
      "Epoch 26/150\n",
      "24992/25000 [============================>.] - ETA: 0s - loss: 0.3238 - acc: 0.8873\n",
      "Epoch 00026: val_acc improved from 0.84624 to 0.84676, saving model to word_embedding.hdf5\n",
      "25000/25000 [==============================] - 6s 256us/sample - loss: 0.3238 - acc: 0.8874 - val_loss: 0.3760 - val_acc: 0.8468\n"
     ]
    },
    {
     "name": "stdout",
     "output_type": "stream",
     "text": [
      "Epoch 27/150\n",
      "24736/25000 [============================>.] - ETA: 0s - loss: 0.3202 - acc: 0.8893\n",
      "Epoch 00027: val_acc improved from 0.84676 to 0.84744, saving model to word_embedding.hdf5\n",
      "25000/25000 [==============================] - 8s 325us/sample - loss: 0.3204 - acc: 0.8893 - val_loss: 0.3738 - val_acc: 0.8474\n",
      "Epoch 28/150\n",
      "24768/25000 [============================>.] - ETA: 0s - loss: 0.3171 - acc: 0.8907\n",
      "Epoch 00028: val_acc improved from 0.84744 to 0.84800, saving model to word_embedding.hdf5\n",
      "25000/25000 [==============================] - 6s 258us/sample - loss: 0.3171 - acc: 0.8907 - val_loss: 0.3717 - val_acc: 0.8480\n",
      "Epoch 29/150\n",
      "24768/25000 [============================>.] - ETA: 0s - loss: 0.3143 - acc: 0.8915\n",
      "Epoch 00029: val_acc improved from 0.84800 to 0.84832, saving model to word_embedding.hdf5\n",
      "25000/25000 [==============================] - 7s 283us/sample - loss: 0.3141 - acc: 0.8916 - val_loss: 0.3700 - val_acc: 0.8483\n",
      "Epoch 30/150\n",
      "24736/25000 [============================>.] - ETA: 0s - loss: 0.3114 - acc: 0.8927\n",
      "Epoch 00030: val_acc improved from 0.84832 to 0.84936, saving model to word_embedding.hdf5\n",
      "25000/25000 [==============================] - 6s 259us/sample - loss: 0.3111 - acc: 0.8929 - val_loss: 0.3681 - val_acc: 0.8494\n",
      "Epoch 31/150\n",
      "24992/25000 [============================>.] - ETA: 0s - loss: 0.3083 - acc: 0.8940\n",
      "Epoch 00031: val_acc improved from 0.84936 to 0.84984, saving model to word_embedding.hdf5\n",
      "25000/25000 [==============================] - 7s 266us/sample - loss: 0.3083 - acc: 0.8940 - val_loss: 0.3663 - val_acc: 0.8498\n",
      "Epoch 32/150\n",
      "24896/25000 [============================>.] - ETA: 0s - loss: 0.3059 - acc: 0.8948\n",
      "Epoch 00032: val_acc improved from 0.84984 to 0.85048, saving model to word_embedding.hdf5\n",
      "25000/25000 [==============================] - 6s 248us/sample - loss: 0.3057 - acc: 0.8949 - val_loss: 0.3648 - val_acc: 0.8505\n",
      "Epoch 33/150\n",
      "24832/25000 [============================>.] - ETA: 0s - loss: 0.3030 - acc: 0.8965\n",
      "Epoch 00033: val_acc improved from 0.85048 to 0.85128, saving model to word_embedding.hdf5\n",
      "25000/25000 [==============================] - 6s 249us/sample - loss: 0.3031 - acc: 0.8964 - val_loss: 0.3633 - val_acc: 0.8513\n",
      "Epoch 34/150\n",
      "24768/25000 [============================>.] - ETA: 0s - loss: 0.3007 - acc: 0.8971\n",
      "Epoch 00034: val_acc improved from 0.85128 to 0.85168, saving model to word_embedding.hdf5\n",
      "25000/25000 [==============================] - 7s 261us/sample - loss: 0.3007 - acc: 0.8971 - val_loss: 0.3618 - val_acc: 0.8517\n",
      "Epoch 35/150\n",
      "24768/25000 [============================>.] - ETA: 0s - loss: 0.2983 - acc: 0.8982\n",
      "Epoch 00035: val_acc improved from 0.85168 to 0.85224, saving model to word_embedding.hdf5\n",
      "25000/25000 [==============================] - 7s 267us/sample - loss: 0.2983 - acc: 0.8981 - val_loss: 0.3604 - val_acc: 0.8522\n",
      "Epoch 36/150\n",
      "24864/25000 [============================>.] - ETA: 0s - loss: 0.2961 - acc: 0.8991\n",
      "Epoch 00036: val_acc improved from 0.85224 to 0.85276, saving model to word_embedding.hdf5\n",
      "25000/25000 [==============================] - 7s 271us/sample - loss: 0.2960 - acc: 0.8992 - val_loss: 0.3591 - val_acc: 0.8528\n",
      "Epoch 37/150\n",
      "24992/25000 [============================>.] - ETA: 0s - loss: 0.2938 - acc: 0.8999\n",
      "Epoch 00037: val_acc improved from 0.85276 to 0.85352, saving model to word_embedding.hdf5\n",
      "25000/25000 [==============================] - 6s 249us/sample - loss: 0.2938 - acc: 0.8999 - val_loss: 0.3579 - val_acc: 0.8535\n",
      "Epoch 38/150\n",
      "24960/25000 [============================>.] - ETA: 0s - loss: 0.2918 - acc: 0.9003\n",
      "Epoch 00038: val_acc improved from 0.85352 to 0.85388, saving model to word_embedding.hdf5\n",
      "25000/25000 [==============================] - 6s 256us/sample - loss: 0.2917 - acc: 0.9003 - val_loss: 0.3567 - val_acc: 0.8539\n",
      "Epoch 39/150\n",
      "24832/25000 [============================>.] - ETA: 0s - loss: 0.2895 - acc: 0.9015\n",
      "Epoch 00039: val_acc improved from 0.85388 to 0.85432, saving model to word_embedding.hdf5\n",
      "25000/25000 [==============================] - 7s 280us/sample - loss: 0.2897 - acc: 0.9013 - val_loss: 0.3555 - val_acc: 0.8543\n",
      "Epoch 40/150\n",
      "24832/25000 [============================>.] - ETA: 0s - loss: 0.2875 - acc: 0.9019\n",
      "Epoch 00040: val_acc improved from 0.85432 to 0.85448, saving model to word_embedding.hdf5\n",
      "25000/25000 [==============================] - 7s 271us/sample - loss: 0.2877 - acc: 0.9019 - val_loss: 0.3546 - val_acc: 0.8545\n",
      "Epoch 41/150\n",
      "24928/25000 [============================>.] - ETA: 0s - loss: 0.2858 - acc: 0.9026\n",
      "Epoch 00041: val_acc improved from 0.85448 to 0.85480, saving model to word_embedding.hdf5\n",
      "25000/25000 [==============================] - 7s 265us/sample - loss: 0.2858 - acc: 0.9025 - val_loss: 0.3536 - val_acc: 0.8548\n",
      "Epoch 42/150\n",
      "24992/25000 [============================>.] - ETA: 0s - loss: 0.2839 - acc: 0.9034\n",
      "Epoch 00042: val_acc improved from 0.85480 to 0.85548, saving model to word_embedding.hdf5\n",
      "25000/25000 [==============================] - 6s 250us/sample - loss: 0.2840 - acc: 0.9033 - val_loss: 0.3526 - val_acc: 0.8555\n",
      "Epoch 43/150\n",
      "24992/25000 [============================>.] - ETA: 0s - loss: 0.2822 - acc: 0.9044\n",
      "Epoch 00043: val_acc improved from 0.85548 to 0.85572, saving model to word_embedding.hdf5\n",
      "25000/25000 [==============================] - 6s 251us/sample - loss: 0.2822 - acc: 0.9045 - val_loss: 0.3516 - val_acc: 0.8557\n",
      "Epoch 44/150\n",
      "24864/25000 [============================>.] - ETA: 0s - loss: 0.2803 - acc: 0.9052\n",
      "Epoch 00044: val_acc improved from 0.85572 to 0.85580, saving model to word_embedding.hdf5\n",
      "25000/25000 [==============================] - 6s 259us/sample - loss: 0.2805 - acc: 0.9052 - val_loss: 0.3508 - val_acc: 0.8558\n",
      "Epoch 45/150\n",
      "24960/25000 [============================>.] - ETA: 0s - loss: 0.2788 - acc: 0.9056\n",
      "Epoch 00045: val_acc improved from 0.85580 to 0.85584, saving model to word_embedding.hdf5\n",
      "25000/25000 [==============================] - 6s 246us/sample - loss: 0.2788 - acc: 0.9056 - val_loss: 0.3499 - val_acc: 0.8558\n",
      "Epoch 46/150\n",
      "24896/25000 [============================>.] - ETA: 0s - loss: 0.2771 - acc: 0.9067\n",
      "Epoch 00046: val_acc did not improve from 0.85584\n",
      "25000/25000 [==============================] - 7s 262us/sample - loss: 0.2772 - acc: 0.9066 - val_loss: 0.3491 - val_acc: 0.8557\n",
      "Epoch 00046: early stopping\n"
     ]
    }
   ],
   "source": [
    "history=model.fit(x_train_padded, y_train_final,batch_size = batch_size,callbacks=[earlyStopping,modelCheckpoint], epochs=num_epochs, validation_data=(x_test_padded, y_test_final))"
   ]
  },
  {
   "cell_type": "code",
   "execution_count": 20,
   "metadata": {
    "colab": {},
    "colab_type": "code",
    "id": "dnfXLOujVEd5"
   },
   "outputs": [],
   "source": [
    "#history=model.fit(x_train_padded, y_train_final,epochs=num_epochs, validation_data=(x_test_padded, y_test_final))"
   ]
  },
  {
   "cell_type": "code",
   "execution_count": 21,
   "metadata": {
    "colab": {
     "base_uri": "https://localhost:8080/",
     "height": 266
    },
    "colab_type": "code",
    "id": "ue16s38tS4qb",
    "outputId": "8b392902-f4af-469b-90b6-144003953711"
   },
   "outputs": [
    {
     "data": {
      "image/png": "[encoded data removed]",
      "text/plain": [
       "<Figure size 432x288 with 1 Axes>"
      ]
     },
     "metadata": {
      "needs_background": "light"
     },
     "output_type": "display_data"
    }
   ],
   "source": [
    "import matplotlib.pyplot as plt \n",
    "plt.plot(history.history['loss'], label='Training') \n",
    "plt.plot(history.history['val_loss'], label='Validation') \n",
    "plt.xlabel(\"Number of Epochs\")\n",
    "plt.ylabel(\"Loss\")\n",
    "plt.legend()\n",
    "plt.show()"
   ]
  },
  {
   "cell_type": "code",
   "execution_count": 22,
   "metadata": {},
   "outputs": [
    {
     "data": {
      "image/png": "[encoded data removed]",
      "text/plain": [
       "<Figure size 432x288 with 1 Axes>"
      ]
     },
     "metadata": {
      "needs_background": "light"
     },
     "output_type": "display_data"
    }
   ],
   "source": [
    "plt.plot(history.history['acc'], label='Training') \n",
    "plt.plot(history.history['val_acc'], label='Validation') \n",
    "plt.xlabel(\"Number of Epochs\")\n",
    "plt.ylabel(\"Accuracy\")\n",
    "plt.legend()\n",
    "plt.show()"
   ]
  },
  {
   "cell_type": "code",
   "execution_count": 23,
   "metadata": {
    "colab": {
     "base_uri": "https://localhost:8080/",
     "height": 34
    },
    "colab_type": "code",
    "id": "u7n_U-sZS4qf",
    "outputId": "f80cd175-ab1f-46db-bc0b-8b55fad672c1"
   },
   "outputs": [
    {
     "name": "stdout",
     "output_type": "stream",
     "text": [
      "(15000, 32)\n"
     ]
    }
   ],
   "source": [
    "e = model.layers[0]\n",
    "weights = e.get_weights()[0]\n",
    "print(weights.shape) # shape: (vocab_size, embedding_dim)"
   ]
  },
  {
   "cell_type": "code",
   "execution_count": 24,
   "metadata": {
    "colab": {
     "base_uri": "https://localhost:8080/",
     "height": 71
    },
    "colab_type": "code",
    "id": "N5zt2mjwS4qi",
    "outputId": "7d86580d-9701-421f-c0e5-c6f63fcdfdc2"
   },
   "outputs": [
    {
     "name": "stdout",
     "output_type": "stream",
     "text": [
      "b perhaps because i was so young innocent and brainwashed when i saw it this movie was the cause of many sleepless nights for me i haven't seen it since i was in seventh grade at a <OOV> school so i am not sure what effect it would have on me now however i will say that it left an impression on me and most of my friends it did serve its purpose at least until we were old enough and knowledgeable enough to analyze and create our own opinions i was particularly terrified of what the newly converted post rapture christians had to endure when not receiving the mark of the beast i don't want to spoil the movie for those who haven't seen it so i will not mention details of the scenes but i can still picture\n",
      "b\"Perhaps because I was so young, innocent and BRAINWASHED when I saw it, this movie was the cause of many sleepless nights for me. I haven't seen it since I was in seventh grade at a Presbyterian school, so I am not sure what effect it would have on me now. However, I will say that it left an impression on me... and most of my friends. It did serve its purpose, at least until we were old enough and knowledgeable enough to analyze and create our own opinions. I was particularly terrified of what the newly-converted post-rapture Christians had to endure when not receiving the mark of the beast. I don't want to spoil the movie for those who haven't seen it so I will not mention details of the scenes, but I can still picture them in my head... and it's been 19 years.\"\n"
     ]
    }
   ],
   "source": [
    "reverse_word_index = dict([(value, key) for (key, value) in word_index.items()])\n",
    "\n",
    "def decode_review(text):\n",
    "    return ' '.join([reverse_word_index.get(i, '?') for i in text])\n",
    "\n",
    "print(decode_review(x_train_padded[1]))\n",
    "print(x_train[1])"
   ]
  },
  {
   "cell_type": "markdown",
   "metadata": {
    "colab_type": "text",
    "id": "8rdQHckSS4qk"
   },
   "source": [
    "### here we are just revesing the order of word and number (word:number to number:word)"
   ]
  },
  {
   "cell_type": "code",
   "execution_count": 25,
   "metadata": {
    "colab": {},
    "colab_type": "code",
    "id": "dhFQq4B9S4qm"
   },
   "outputs": [],
   "source": [
    "import io\n",
    "\n",
    "out_v = io.open('vecs.tsv', 'w', encoding='utf-8')\n",
    "out_m = io.open('meta.tsv', 'w', encoding='utf-8')\n",
    "for word_num in range(1, vocab_size):\n",
    "  word = reverse_word_index[word_num]\n",
    "  embeddings = weights[word_num]\n",
    "  out_m.write(word + \"\\n\")\n",
    "  out_v.write('\\t'.join([str(x) for x in embeddings]) + \"\\n\")\n",
    "out_v.close()\n",
    "out_m.close()"
   ]
  },
  {
   "cell_type": "code",
   "execution_count": 26,
   "metadata": {
    "colab": {
     "base_uri": "https://localhost:8080/",
     "height": 34
    },
    "colab_type": "code",
    "id": "eGvcxaIjS4qo",
    "outputId": "16c2d90f-be4d-4d02-f925-e045e67b510f"
   },
   "outputs": [
    {
     "name": "stdout",
     "output_type": "stream",
     "text": [
      "[[11], [], [790], [2012], [11], [2920], [2188], [], [790], [2012], [11], [579], [], [11], [579], [], [1277], [1003], [1003], [960], []]\n"
     ]
    }
   ],
   "source": [
    "sentence = \"I think this is good.\"\n",
    "sequence = tokenizer.texts_to_sequences(sentence)\n",
    "print(sequence)"
   ]
  }
 ],
 "metadata": {
  "colab": {
   "collapsed_sections": [],
   "name": "Word_Embedding.ipynb",
   "provenance": []
  },
  "kernelspec": {
   "display_name": "Python 3",
   "language": "python",
   "name": "python3"
  },
  "language_info": {
   "codemirror_mode": {
    "name": "ipython",
    "version": 3
   },
   "file_extension": ".py",
   "mimetype": "text/x-python",
   "name": "python",
   "nbconvert_exporter": "python",
   "pygments_lexer": "ipython3",
   "version": "3.6.4"
  }
 },
 "nbformat": 4,
 "nbformat_minor": 1
}
