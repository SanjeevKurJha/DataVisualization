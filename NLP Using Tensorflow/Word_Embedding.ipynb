{
 "cells": [
  {
   "cell_type": "markdown",
   "metadata": {},
   "source": [
    "### IMDB Dataset [URL](http://ai.stanford.edu/~amaas/data/sentiment/) for Sentiment analysis for movies reviews \n",
    "\n",
    "### Word embedding projection [URL](http://projector.tensorflow.org/)"
   ]
  },
  {
   "cell_type": "code",
   "execution_count": 1,
   "metadata": {},
   "outputs": [],
   "source": [
    "import tensorflow as tf\n",
    "tf.enable_eager_execution()\n",
    "import numpy as np"
   ]
  },
  {
   "cell_type": "markdown",
   "metadata": {},
   "source": [
    "### Install the tenser flow dataset using below pip code\n",
    "pip install -q tensorflow-datasets"
   ]
  },
  {
   "cell_type": "markdown",
   "metadata": {},
   "source": [
    "### Import Imdb review dataset from tensorflow library"
   ]
  },
  {
   "cell_type": "code",
   "execution_count": 2,
   "metadata": {},
   "outputs": [],
   "source": [
    "import tensorflow_datasets as tf_ds"
   ]
  },
  {
   "cell_type": "code",
   "execution_count": 3,
   "metadata": {},
   "outputs": [],
   "source": [
    "imdb,info=tf_ds.load(\"imdb_reviews\",with_info=True,as_supervised=True)"
   ]
  },
  {
   "cell_type": "markdown",
   "metadata": {},
   "source": [
    "### Divide the dataset into training and testing set 25k on train and 25 k on test"
   ]
  },
  {
   "cell_type": "code",
   "execution_count": 4,
   "metadata": {},
   "outputs": [],
   "source": [
    "data_train,data_test=imdb['train'],imdb['test']"
   ]
  },
  {
   "cell_type": "code",
   "execution_count": 5,
   "metadata": {},
   "outputs": [],
   "source": [
    "x_train=[] # Sentance of review of training data (data_train)\n",
    "y_train=[] # label of review of training data (data_train)\n",
    "x_test=[] # Sentance of review of testing data (data_test)\n",
    "y_test=[] # label of review of testing data (data_test)"
   ]
  },
  {
   "cell_type": "markdown",
   "metadata": {},
   "source": [
    "### Run the for loop and append each sentance and lables in array"
   ]
  },
  {
   "cell_type": "code",
   "execution_count": 6,
   "metadata": {},
   "outputs": [],
   "source": [
    "for x,y in data_train:\n",
    "    x_train.append(str(x.numpy()))\n",
    "    y_train.append(str(y.numpy()))"
   ]
  },
  {
   "cell_type": "code",
   "execution_count": 7,
   "metadata": {},
   "outputs": [],
   "source": [
    "for x,y in data_test:\n",
    "    x_test.append(str(x.numpy()))\n",
    "    y_test.append(str(y.numpy()))"
   ]
  },
  {
   "cell_type": "markdown",
   "metadata": {},
   "source": [
    "### Converting all the labels(y_train,y_test) into numpy array"
   ]
  },
  {
   "cell_type": "code",
   "execution_count": 8,
   "metadata": {},
   "outputs": [],
   "source": [
    "y_train_final=np.array(y_train)\n",
    "y_test_final=np.array(y_test)"
   ]
  },
  {
   "cell_type": "code",
   "execution_count": 9,
   "metadata": {},
   "outputs": [
    {
     "data": {
      "text/plain": [
       "dtype('<U1')"
      ]
     },
     "execution_count": 9,
     "metadata": {},
     "output_type": "execute_result"
    }
   ],
   "source": [
    "y_train_final.dtype"
   ]
  },
  {
   "cell_type": "code",
   "execution_count": 10,
   "metadata": {},
   "outputs": [],
   "source": [
    "y_train_final=y_train_final.astype('int32') \n",
    "y_test_final=y_test_final.astype('int32')"
   ]
  },
  {
   "cell_type": "code",
   "execution_count": null,
   "metadata": {},
   "outputs": [],
   "source": []
  },
  {
   "cell_type": "markdown",
   "metadata": {},
   "source": [
    "### Declearing the important variable for word imbedding "
   ]
  },
  {
   "cell_type": "code",
   "execution_count": 11,
   "metadata": {},
   "outputs": [],
   "source": [
    "vocab_size=10000\n",
    "embed_dim=16\n",
    "max_len=120\n",
    "trunc_type='post'\n",
    "oov_tok=\"<OOV>\"\n",
    "num_epochs = 10"
   ]
  },
  {
   "cell_type": "markdown",
   "metadata": {},
   "source": [
    "### Tokenize the sentance into word  and Pad the data to form the same length of sequience of data"
   ]
  },
  {
   "cell_type": "code",
   "execution_count": 12,
   "metadata": {},
   "outputs": [],
   "source": [
    "from tensorflow.keras.preprocessing.text import Tokenizer\n",
    "from tensorflow.keras.preprocessing.sequence import pad_sequences\n",
    "from tensorflow.keras.optimizers import Adam\n",
    "from tensorflow.keras.callbacks import ModelCheckpoint,EarlyStopping"
   ]
  },
  {
   "cell_type": "code",
   "execution_count": 13,
   "metadata": {},
   "outputs": [],
   "source": [
    "tokenizer=Tokenizer(num_words=vocab_size,oov_token=oov_tok)\n",
    "#fit_on_texts will take the data and encode it\n",
    "tokenizer.fit_on_texts(x_train)\n",
    "#it will provide the word index property in dectionary form\n",
    "word_index=tokenizer.word_index"
   ]
  },
  {
   "cell_type": "code",
   "execution_count": 14,
   "metadata": {},
   "outputs": [],
   "source": [
    "x_train_sequences=tokenizer.texts_to_sequences(x_train)\n",
    "x_train_padded=pad_sequences(x_train_sequences,maxlen=max_len,truncating=trunc_type)"
   ]
  },
  {
   "cell_type": "code",
   "execution_count": 15,
   "metadata": {},
   "outputs": [],
   "source": [
    "#fit_on_texts will take the data and encode it\n",
    "tokenizer.fit_on_texts(x_test)\n",
    "#it will provide the word index property in dectionary form\n",
    "word_index=tokenizer.word_index"
   ]
  },
  {
   "cell_type": "code",
   "execution_count": 16,
   "metadata": {},
   "outputs": [],
   "source": [
    "x_test_sequences=tokenizer.texts_to_sequences(x_test)\n",
    "x_test_padded=pad_sequences(x_test_sequences,maxlen=max_len)"
   ]
  },
  {
   "cell_type": "markdown",
   "metadata": {},
   "source": [
    "### Building a keras model"
   ]
  },
  {
   "cell_type": "code",
   "execution_count": 17,
   "metadata": {},
   "outputs": [],
   "source": [
    "model=tf.keras.Sequential([\n",
    "    tf.keras.layers.Embedding(vocab_size,embed_dim,input_length=max_len),\n",
    "    tf.keras.layers.Flatten(),\n",
    "    tf.keras.layers.Dense(12,activation=\"tanh\"),\n",
    "    tf.keras.layers.Dense(8,activation=\"tanh\"),\n",
    "    tf.keras.layers.Dense(6,activation=\"tanh\"),\n",
    "    tf.keras.layers.Dense(1,activation=\"sigmoid\")    \n",
    "])"
   ]
  },
  {
   "cell_type": "markdown",
   "metadata": {},
   "source": [
    "### How can we use the vector"
   ]
  },
  {
   "cell_type": "code",
   "execution_count": 18,
   "metadata": {},
   "outputs": [
    {
     "name": "stdout",
     "output_type": "stream",
     "text": [
      "Model: \"sequential\"\n",
      "_________________________________________________________________\n",
      "Layer (type)                 Output Shape              Param #   \n",
      "=================================================================\n",
      "embedding (Embedding)        (None, 120, 16)           160000    \n",
      "_________________________________________________________________\n",
      "flatten (Flatten)            (None, 1920)              0         \n",
      "_________________________________________________________________\n",
      "dense (Dense)                (None, 12)                23052     \n",
      "_________________________________________________________________\n",
      "dense_1 (Dense)              (None, 8)                 104       \n",
      "_________________________________________________________________\n",
      "dense_2 (Dense)              (None, 6)                 54        \n",
      "_________________________________________________________________\n",
      "dense_3 (Dense)              (None, 1)                 7         \n",
      "=================================================================\n",
      "Total params: 183,217\n",
      "Trainable params: 183,217\n",
      "Non-trainable params: 0\n",
      "_________________________________________________________________\n"
     ]
    }
   ],
   "source": [
    "optimizer = Adam(lr=0.0001, beta_1=0.9, beta_2=0.999, decay=0.001)\n",
    "model.compile(loss='binary_crossentropy',optimizer=optimizer,metrics=['accuracy'])\n",
    "model.summary()"
   ]
  },
  {
   "cell_type": "code",
   "execution_count": 27,
   "metadata": {},
   "outputs": [],
   "source": [
    "earlyStopping = EarlyStopping(monitor='val_loss', mode='min', verbose=1, patience=10, min_delta=0.01) \n",
    "\n",
    "modelCheckpoint = ModelCheckpoint('word_embedding.hdf5', monitor='val_acc', verbose=1, save_best_only=True, mode='max')"
   ]
  },
  {
   "cell_type": "code",
   "execution_count": 28,
   "metadata": {},
   "outputs": [
    {
     "name": "stdout",
     "output_type": "stream",
     "text": [
      "Train on 25000 samples, validate on 25000 samples\n",
      "Epoch 1/10\n",
      "24864/25000 [============================>.] - ETA: 0s - loss: 0.3270 - acc: 0.8788\n",
      "Epoch 00001: val_acc improved from -inf to 0.61232, saving model to word_embedding.hdf5\n",
      "25000/25000 [==============================] - 5s 200us/sample - loss: 0.3271 - acc: 0.8788 - val_loss: 0.7007 - val_acc: 0.6123\n",
      "Epoch 2/10\n",
      "24864/25000 [============================>.] - ETA: 0s - loss: 0.3161 - acc: 0.8817\n",
      "Epoch 00002: val_acc did not improve from 0.61232\n",
      "25000/25000 [==============================] - 4s 172us/sample - loss: 0.3159 - acc: 0.8819 - val_loss: 0.7101 - val_acc: 0.6098\n",
      "Epoch 3/10\n",
      "24736/25000 [============================>.] - ETA: 0s - loss: 0.3059 - acc: 0.8864\n",
      "Epoch 00003: val_acc did not improve from 0.61232\n",
      "25000/25000 [==============================] - 4s 172us/sample - loss: 0.3062 - acc: 0.8863 - val_loss: 0.7175 - val_acc: 0.6087\n",
      "Epoch 4/10\n",
      "24800/25000 [============================>.] - ETA: 0s - loss: 0.2977 - acc: 0.8902\n",
      "Epoch 00004: val_acc did not improve from 0.61232\n",
      "25000/25000 [==============================] - 4s 171us/sample - loss: 0.2975 - acc: 0.8904 - val_loss: 0.7257 - val_acc: 0.6072\n",
      "Epoch 5/10\n",
      "24640/25000 [============================>.] - ETA: 0s - loss: 0.2892 - acc: 0.8938\n",
      "Epoch 00005: val_acc did not improve from 0.61232\n",
      "25000/25000 [==============================] - 5s 194us/sample - loss: 0.2895 - acc: 0.8936 - val_loss: 0.7333 - val_acc: 0.6064\n",
      "Epoch 6/10\n",
      "24672/25000 [============================>.] - ETA: 0s - loss: 0.2821 - acc: 0.8974\n",
      "Epoch 00006: val_acc did not improve from 0.61232\n",
      "25000/25000 [==============================] - 4s 171us/sample - loss: 0.2823 - acc: 0.8971 - val_loss: 0.7408 - val_acc: 0.6059\n",
      "Epoch 7/10\n",
      "24640/25000 [============================>.] - ETA: 0s - loss: 0.2756 - acc: 0.9007\n",
      "Epoch 00007: val_acc did not improve from 0.61232\n",
      "25000/25000 [==============================] - 4s 173us/sample - loss: 0.2756 - acc: 0.9006 - val_loss: 0.7483 - val_acc: 0.6044\n",
      "Epoch 8/10\n",
      "24992/25000 [============================>.] - ETA: 0s - loss: 0.2694 - acc: 0.9038\n",
      "Epoch 00008: val_acc did not improve from 0.61232\n",
      "25000/25000 [==============================] - 5s 195us/sample - loss: 0.2694 - acc: 0.9038 - val_loss: 0.7546 - val_acc: 0.6033\n",
      "Epoch 9/10\n",
      "24800/25000 [============================>.] - ETA: 0s - loss: 0.2638 - acc: 0.9062\n",
      "Epoch 00009: val_acc did not improve from 0.61232\n",
      "25000/25000 [==============================] - 4s 174us/sample - loss: 0.2637 - acc: 0.9061 - val_loss: 0.7625 - val_acc: 0.6023\n",
      "Epoch 10/10\n",
      "24768/25000 [============================>.] - ETA: 0s - loss: 0.2583 - acc: 0.9086\n",
      "Epoch 00010: val_acc did not improve from 0.61232\n",
      "25000/25000 [==============================] - 4s 171us/sample - loss: 0.2583 - acc: 0.9085 - val_loss: 0.7690 - val_acc: 0.6012\n"
     ]
    }
   ],
   "source": [
    "history=model.fit(x_train_padded, y_train_final,batch_size = 32,callbacks=[earlyStopping,modelCheckpoint], epochs=num_epochs, validation_data=(x_test_padded, y_test_final))"
   ]
  },
  {
   "cell_type": "code",
   "execution_count": 21,
   "metadata": {},
   "outputs": [
    {
     "data": {
      "image/png": "[encoded data removed]",
      "text/plain": [
       "<Figure size 432x288 with 1 Axes>"
      ]
     },
     "metadata": {
      "needs_background": "light"
     },
     "output_type": "display_data"
    }
   ],
   "source": [
    "from matplotlib import pyplot \n",
    "pyplot.plot(history.history['loss'], label='Training') \n",
    "pyplot.plot(history.history['val_loss'], label='Validation') \n",
    "pyplot.legend()\n",
    "pyplot.show()"
   ]
  },
  {
   "cell_type": "markdown",
   "metadata": {},
   "source": [
    "### from the above grapg we can clearly say our model is overfitted so we need to improve the model"
   ]
  },
  {
   "cell_type": "code",
   "execution_count": 22,
   "metadata": {},
   "outputs": [
    {
     "name": "stdout",
     "output_type": "stream",
     "text": [
      "(10000, 16)\n"
     ]
    }
   ],
   "source": [
    "e = model.layers[0]\n",
    "weights = e.get_weights()[0]\n",
    "print(weights.shape) # shape: (vocab_size, embedding_dim)"
   ]
  },
  {
   "cell_type": "code",
   "execution_count": 23,
   "metadata": {},
   "outputs": [
    {
     "name": "stdout",
     "output_type": "stream",
     "text": [
      "b 'll into i was so horror loves and <OOV> very i almost it this for was the channel of seen <OOV> cinderella movie were i disappointment many it since i was in underused adult at a <OOV> perhaps so i kind not sure some mess it would have on were now however i other say that it let an 80 on were and most of my full it know rings them pieces at interesting stupid we me funny fact and <OOV> fact to noel and brings our comedy carradine i was extremely accomplish of some the settle mister ben herd timothy had to blew very not psychology the total of the 14 i part want to versions the for\n",
      "b\"Perhaps because I was so young, innocent and BRAINWASHED when I saw it, this movie was the cause of many sleepless nights for me. I haven't seen it since I was in seventh grade at a Presbyterian school, so I am not sure what effect it would have on me now. However, I will say that it left an impression on me... and most of my friends. It did serve its purpose, at least until we were old enough and knowledgeable enough to analyze and create our own opinions. I was particularly terrified of what the newly-converted post-rapture Christians had to endure when not receiving the mark of the beast. I don't want to spoil the movie for those who haven't seen it so I will not mention details of the scenes, but I can still picture them in my head... and it's been 19 years.\"\n"
     ]
    }
   ],
   "source": [
    "reverse_word_index = dict([(value, key) for (key, value) in word_index.items()])\n",
    "\n",
    "def decode_review(text):\n",
    "    return ' '.join([reverse_word_index.get(i, '?') for i in text])\n",
    "\n",
    "print(decode_review(x_train_padded[1]))\n",
    "print(x_train[1])"
   ]
  },
  {
   "cell_type": "markdown",
   "metadata": {},
   "source": [
    "### here we are just revesing the order of word and number (word:number to number:word)"
   ]
  },
  {
   "cell_type": "code",
   "execution_count": 24,
   "metadata": {},
   "outputs": [],
   "source": [
    "import io\n",
    "\n",
    "out_v = io.open('vecs.tsv', 'w', encoding='utf-8')\n",
    "out_m = io.open('meta.tsv', 'w', encoding='utf-8')\n",
    "for word_num in range(1, vocab_size):\n",
    "  word = reverse_word_index[word_num]\n",
    "  embeddings = weights[word_num]\n",
    "  out_m.write(word + \"\\n\")\n",
    "  out_v.write('\\t'.join([str(x) for x in embeddings]) + \"\\n\")\n",
    "out_v.close()\n",
    "out_m.close()"
   ]
  },
  {
   "cell_type": "code",
   "execution_count": 26,
   "metadata": {},
   "outputs": [
    {
     "name": "stdout",
     "output_type": "stream",
     "text": [
      "[[11], [], [775], [2132], [11], [2841], [1925], [], [775], [2132], [11], [574], [], [11], [574], [], [1260], [939], [939], [922], []]\n"
     ]
    }
   ],
   "source": [
    "sentence = \"I think this is good.\"\n",
    "sequence = tokenizer.texts_to_sequences(sentence)\n",
    "print(sequence)"
   ]
  },
  {
   "cell_type": "code",
   "execution_count": null,
   "metadata": {},
   "outputs": [],
   "source": []
  }
 ],
 "metadata": {
  "kernelspec": {
   "display_name": "Python 3",
   "language": "python",
   "name": "python3"
  },
  "language_info": {
   "codemirror_mode": {
    "name": "ipython",
    "version": 3
   },
   "file_extension": ".py",
   "mimetype": "text/x-python",
   "name": "python",
   "nbconvert_exporter": "python",
   "pygments_lexer": "ipython3",
   "version": "3.6.4"
  }
 },
 "nbformat": 4,
 "nbformat_minor": 2
}
