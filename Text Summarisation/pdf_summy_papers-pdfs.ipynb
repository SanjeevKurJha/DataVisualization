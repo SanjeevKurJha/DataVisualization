{
 "cells": [
  {
   "cell_type": "markdown",
   "id": "93e23ff3",
   "metadata": {},
   "source": [
    "# TextRank algorithm\n",
    "\n",
    "1.TextRank is an extractive summarization technique.\n",
    "\n",
    "2.It is based on the concept that words which occur more frequently are significant.\n",
    "\n",
    "3.Hence , the sentences containing highly frequent words are important .\n",
    "\n",
    "4.Based on this , the algorithm assigns scores to each sentence in the text . \n",
    "\n",
    "5.The top-ranked sentences make it to the summary.\n",
    "\n",
    "pip install PyMuPDF\n",
    "pip install frontend\n",
    "pip install pdfplumber\n",
    "pip install PyMuPDF\n",
    "pip install fitz\n",
    "pip install rouge==1.0.0\n",
    "pip install streamlit==0.80.0\n",
    "pip install gensim==4.0.1\n",
    "pip install altair==4.1.0\n",
    "pip install pandas==1.2.3\n",
    "pip install sumy==0.8.1\n",
    "pip install gensim==3.8.3"
   ]
  },
  {
   "cell_type": "code",
   "execution_count": 1,
   "id": "9d197d47",
   "metadata": {},
   "outputs": [],
   "source": [
    "#pip install bs4"
   ]
  },
  {
   "cell_type": "code",
   "execution_count": 2,
   "id": "ebf2089b",
   "metadata": {
    "scrolled": true
   },
   "outputs": [],
   "source": [
    "#pip install bert-score"
   ]
  },
  {
   "cell_type": "code",
   "execution_count": 52,
   "id": "d257098d",
   "metadata": {},
   "outputs": [],
   "source": [
    "import numpy\n",
    "import tensorflow as tf \n",
    "##Print many staement at same time using the below command\n",
    "from IPython.core.interactiveshell import InteractiveShell\n",
    "InteractiveShell.ast_node_interactivity = \"all\""
   ]
  },
  {
   "cell_type": "code",
   "execution_count": 4,
   "id": "4b2d29e3",
   "metadata": {},
   "outputs": [],
   "source": [
    "#pip install PyMuPDF\n",
    "import fitz\n",
    "import glob\n",
    "import pdfplumber\n",
    "import re\n",
    "\n",
    "#pip install sacrebleu\n",
    "import re\n",
    "from bs4 import BeautifulSoup\n",
    "from nltk.translate.bleu_score import sentence_bleu\n",
    "import gensim\n",
    "from gensim.summarization import summarize\n",
    "from rouge import Rouge\n",
    "\n",
    "\n",
    "import bert_score\n",
    "from bert_score import score\n",
    "import matplotlib.pyplot as plt\n",
    "from bert_score import BERTScorer"
   ]
  },
  {
   "cell_type": "code",
   "execution_count": 5,
   "id": "e1344ba0",
   "metadata": {},
   "outputs": [],
   "source": [
    "F1_textrank=''\n",
    "F1_luhan=''\n",
    "F1_kl=''\n",
    "F1_lex=''\n",
    "F1_lsa=''"
   ]
  },
  {
   "cell_type": "code",
   "execution_count": 6,
   "id": "029c1aba",
   "metadata": {
    "scrolled": false
   },
   "outputs": [
    {
     "name": "stdout",
     "output_type": "stream",
     "text": [
      "+++++++++++++++++++++++++++++++++++++++++++ ./data/1811.12015.pdf\n",
      "number of pages: 19\n",
      "+++++++++++++++++++++++++++++++++++++++++++ ./data/2006.12720.pdf\n",
      "number of pages: 16\n",
      "+++++++++++++++++++++++++++++++++++++++++++ ./data/2106.07909 (1).pdf\n",
      "number of pages: 22\n"
     ]
    }
   ],
   "source": [
    "pdf_dir = \"./data\"\n",
    "\n",
    "pdf_files = glob.glob(\"%s/*.pdf\" % pdf_dir)\n",
    "all_abstracts = \"\"\n",
    "for filename in pdf_files:\n",
    "    print(\"+++++++++++++++++++++++++++++++++++++++++++\",filename)\n",
    "    doc = fitz.open(filename)\n",
    "    print (\"number of pages: %i\" % doc.pageCount)\n",
    "\n",
    "    page1 = doc.loadPage(0)\n",
    "    page1text = page1.getText(\"text\")\n",
    "\n",
    "    page2 = doc.loadPage(1)\n",
    "    page2text = page2.getText(\"text\")\n",
    "\n",
    "    try:\n",
    "        try:\n",
    "            Abstract = page1text.split(\"Introduction\",1)[1]\n",
    "            partitioned_string = page2text.split('Data')[0]\n",
    "        except:\n",
    "            Abstract = page1text.split(\"Introduction\",1)[1]\n",
    "            partitioned_string = Abstract.split('Data')[0]\n",
    "    except Exception as IndexError:\n",
    "        try:\n",
    "            Abstract = page2text.split(\"Introduction\",1)[1]\n",
    "            partitioned_string = Abstract.split('Data')[0]\n",
    "        except:\n",
    "            Abstract = page2text.split(\"Introduction\",1)[1]\n",
    "            partitioned_string = Abstract.split('Data')[0]\n",
    "    partitioned_string = re.sub('\\S+@\\S+',\"\",partitioned_string)\n",
    "    partitioned_string = re.sub(r'[0-9]',\"\",partitioned_string)\n",
    "    #partitioned_string = \" \".join(re.findall(r\"[a-zA-Z0-9]+\",partitioned_string ))\n",
    "    all_abstracts += partitioned_string"
   ]
  },
  {
   "cell_type": "code",
   "execution_count": 7,
   "id": "e5e4ba28",
   "metadata": {},
   "outputs": [],
   "source": [
    "def clean_text(text):\n",
    "    text = BeautifulSoup(text, \"lxml\").get_text()\n",
    "    # Removing the @\n",
    "    text = re.sub(r\"@[A-Za-z0-9]+\", ' ', text)\n",
    "    # Removing the URL links\n",
    "    text = re.sub(r\"https?://[A-Za-z0-9./]+\", ' ', text)\n",
    "    # Keeping only letters\n",
    "    text = re.sub(r\"[^a-zA-Z.!?']\", ' ', text)\n",
    "    # Removing additional whitespaces\n",
    "    text = re.sub(r\" +\", ' ', text)\n",
    "    return text"
   ]
  },
  {
   "cell_type": "code",
   "execution_count": 8,
   "id": "00e9b142",
   "metadata": {},
   "outputs": [],
   "source": [
    "original_text = all_abstracts "
   ]
  },
  {
   "cell_type": "code",
   "execution_count": 9,
   "id": "ade0628d",
   "metadata": {},
   "outputs": [],
   "source": [
    "textRank_summary = summarize(original_text)"
   ]
  },
  {
   "cell_type": "markdown",
   "id": "fd5f3b1d",
   "metadata": {},
   "source": [
    "## Matrices Evalution"
   ]
  },
  {
   "cell_type": "markdown",
   "id": "9971b4a6",
   "metadata": {},
   "source": [
    "### Rouge"
   ]
  },
  {
   "cell_type": "code",
   "execution_count": 10,
   "id": "403e6110",
   "metadata": {},
   "outputs": [],
   "source": [
    "r = Rouge()\n",
    "score_text=r.get_scores(textRank_summary, original_text)"
   ]
  },
  {
   "cell_type": "code",
   "execution_count": 11,
   "id": "a5ab44cf",
   "metadata": {},
   "outputs": [],
   "source": [
    "file = open('textRank__org.txt', 'w')\n",
    "file.write(original_text)\n",
    "file.close()\n",
    "\n",
    "file = open('textRank_hyps.txt', 'w')\n",
    "file.write(textRank_summary)\n",
    "file.close()"
   ]
  },
  {
   "cell_type": "code",
   "execution_count": 12,
   "id": "7bfaf974",
   "metadata": {},
   "outputs": [],
   "source": [
    "with open(\"textRank_hyps.txt\") as f:\n",
    "    cands = [line.strip() for line in f]\n",
    "\n",
    "with open(\"textRank__org.txt\") as f:\n",
    "    refs = [[line.strip() for line in f]]"
   ]
  },
  {
   "cell_type": "markdown",
   "id": "a41290d5",
   "metadata": {},
   "source": [
    "### Blue Score"
   ]
  },
  {
   "cell_type": "code",
   "execution_count": 13,
   "id": "59fe2dc7",
   "metadata": {
    "scrolled": false
   },
   "outputs": [
    {
     "name": "stdout",
     "output_type": "stream",
     "text": [
      "BLEU score -> 5.037094777266818e-156\n"
     ]
    },
    {
     "name": "stderr",
     "output_type": "stream",
     "text": [
      "/opt/anaconda3/envs/NLG/lib/python3.8/site-packages/nltk/translate/bleu_score.py:516: UserWarning: \n",
      "The hypothesis contains 0 counts of 3-gram overlaps.\n",
      "Therefore the BLEU score evaluates to 0, independently of\n",
      "how many N-gram overlaps of lower order it contains.\n",
      "Consider using lower n-gram order or use SmoothingFunction()\n",
      "  warnings.warn(_msg)\n",
      "\n",
      "/opt/anaconda3/envs/NLG/lib/python3.8/site-packages/nltk/translate/bleu_score.py:516: UserWarning: \n",
      "The hypothesis contains 0 counts of 4-gram overlaps.\n",
      "Therefore the BLEU score evaluates to 0, independently of\n",
      "how many N-gram overlaps of lower order it contains.\n",
      "Consider using lower n-gram order or use SmoothingFunction()\n",
      "  warnings.warn(_msg)\n",
      "\n"
     ]
    }
   ],
   "source": [
    "blue_score_textrank=sentence_bleu(refs, cands)\n",
    "print('BLEU score -> {}'.format(sentence_bleu(refs, cands)))"
   ]
  },
  {
   "cell_type": "code",
   "execution_count": 14,
   "id": "9d30c223",
   "metadata": {
    "scrolled": true
   },
   "outputs": [
    {
     "name": "stdout",
     "output_type": "stream",
     "text": [
      "Individual 1-gram: 0.039184\n",
      "Individual 2-gram: 0.006369\n",
      "Individual 3-gram: 0.000000\n",
      "Individual 4-gram: 0.000000\n"
     ]
    }
   ],
   "source": [
    "print('Individual 1-gram: %f' % sentence_bleu(refs, cands, weights=(1, 0, 0, 0)))\n",
    "print('Individual 2-gram: %f' % sentence_bleu(refs, cands, weights=(0, 1, 0, 0)))\n",
    "print('Individual 3-gram: %f' % sentence_bleu(refs, cands, weights=(0, 0, 1, 0)))\n",
    "print('Individual 4-gram: %f' % sentence_bleu(refs, cands, weights=(0, 0, 0, 1)))"
   ]
  },
  {
   "cell_type": "markdown",
   "id": "c02f9564",
   "metadata": {},
   "source": [
    "### Bert Score"
   ]
  },
  {
   "cell_type": "code",
   "execution_count": 15,
   "id": "28a8ad21",
   "metadata": {
    "scrolled": true
   },
   "outputs": [
    {
     "name": "stderr",
     "output_type": "stream",
     "text": [
      "Some weights of the model checkpoint at roberta-large were not used when initializing RobertaModel: ['lm_head.decoder.weight', 'lm_head.dense.weight', 'lm_head.layer_norm.bias', 'lm_head.bias', 'lm_head.layer_norm.weight', 'lm_head.dense.bias']\n",
      "- This IS expected if you are initializing RobertaModel from the checkpoint of a model trained on another task or with another architecture (e.g. initializing a BertForSequenceClassification model from a BertForPreTraining model).\n",
      "- This IS NOT expected if you are initializing RobertaModel from the checkpoint of a model that you expect to be exactly identical (initializing a BertForSequenceClassification model from a BertForSequenceClassification model).\n",
      "Warning: Empty reference sentence detected; setting raw BERTScores to 0.\n",
      "Warning: Empty reference sentence detected; setting raw BERTScores to 0.\n"
     ]
    },
    {
     "data": {
      "image/png": "[encoded data removed]",
      "text/plain": [
       "<Figure size 432x288 with 1 Axes>"
      ]
     },
     "metadata": {
      "needs_background": "light"
     },
     "output_type": "display_data"
    }
   ],
   "source": [
    "if len(cands)==1:\n",
    "    P, R, F1 = score(cands, refs, lang='en', rescale_with_baseline=True)\n",
    "    F1_textrank=F1\n",
    "    plt.hist(F1, bins=20)\n",
    "    plt.xlabel(\"score\")\n",
    "    plt.ylabel(\"counts\")\n",
    "    plt.show()\n",
    "\n",
    "if len(cands)>1:\n",
    "    scorer = BERTScorer(lang=\"en\", rescale_with_baseline=True)\n",
    "    P, R, F1 = scorer.score(cands, refs)\n",
    "    F1_textrank=F1\n",
    "    plt.hist(F1, bins=20)\n",
    "    plt.xlabel(\"score\")\n",
    "    plt.ylabel(\"counts\")\n",
    "    plt.show()"
   ]
  },
  {
   "cell_type": "markdown",
   "id": "c4a00d9e",
   "metadata": {},
   "source": [
    "# Text Summarization with Sumy\n"
   ]
  },
  {
   "cell_type": "markdown",
   "id": "3f18f2c6",
   "metadata": {},
   "source": [
    "# LexRank\n",
    "1.A sentence which is similar to many other sentences of the text has a high probability of being important. \n",
    "\n",
    "2.The approach of LexRank is that a particular sentence is recommended by other similar sentences and hence is ranked higher.\n",
    "\n",
    "3.Higher the rank, higher is the priority of being included in the summarized text."
   ]
  },
  {
   "cell_type": "code",
   "execution_count": 16,
   "id": "70110ed6",
   "metadata": {},
   "outputs": [],
   "source": [
    "# Importing the parser and tokenizer\n",
    "from sumy.parsers.plaintext import PlaintextParser\n",
    "from sumy.nlp.tokenizers import Tokenizer"
   ]
  },
  {
   "cell_type": "code",
   "execution_count": 17,
   "id": "7fc47c76",
   "metadata": {},
   "outputs": [],
   "source": [
    "# Initializing the parser\n",
    "my_parser = PlaintextParser.from_string(original_text,Tokenizer('english'))"
   ]
  },
  {
   "cell_type": "code",
   "execution_count": 18,
   "id": "6614cc42",
   "metadata": {},
   "outputs": [],
   "source": [
    "# Import the LexRank summarizer\n",
    "from sumy.summarizers.lex_rank import LexRankSummarizer"
   ]
  },
  {
   "cell_type": "code",
   "execution_count": 19,
   "id": "944d46af",
   "metadata": {
    "scrolled": false
   },
   "outputs": [],
   "source": [
    "# Creating a summary of 3 sentences.\n",
    "lex_rank_summarizer = LexRankSummarizer()\n",
    "lexrank_summary = lex_rank_summarizer(my_parser.document,sentences_count=10)\n",
    "\n",
    "lex_summary = \"\"\n",
    "# Printing the summary\n",
    "for sentence in lexrank_summary:\n",
    "    lex_summary +=str(sentence)"
   ]
  },
  {
   "cell_type": "markdown",
   "id": "e0ba0f8f",
   "metadata": {},
   "source": [
    "### Matrices Evaluation"
   ]
  },
  {
   "cell_type": "markdown",
   "id": "4975f88b",
   "metadata": {},
   "source": [
    "### Rouge Score"
   ]
  },
  {
   "cell_type": "code",
   "execution_count": 20,
   "id": "9ab7273d",
   "metadata": {
    "scrolled": false
   },
   "outputs": [],
   "source": [
    "r = Rouge()\n",
    "score_lexRank=r.get_scores(lex_summary, original_text)"
   ]
  },
  {
   "cell_type": "code",
   "execution_count": 21,
   "id": "f452a570",
   "metadata": {},
   "outputs": [],
   "source": [
    "file = open('lexRank_hyps.txt', 'w')\n",
    "file.write(lex_summary)\n",
    "file.close()"
   ]
  },
  {
   "cell_type": "code",
   "execution_count": 22,
   "id": "8cad0a2d",
   "metadata": {},
   "outputs": [],
   "source": [
    "with open(\"lexRank_hyps.txt\") as f:\n",
    "    cands_lex = [line.strip() for line in f]"
   ]
  },
  {
   "cell_type": "markdown",
   "id": "1d282df3",
   "metadata": {},
   "source": [
    "### Blue Score"
   ]
  },
  {
   "cell_type": "code",
   "execution_count": 24,
   "id": "3659f9f4",
   "metadata": {},
   "outputs": [
    {
     "name": "stdout",
     "output_type": "stream",
     "text": [
      "BLEU score -> 0\n"
     ]
    }
   ],
   "source": [
    "blue_score_lex=sentence_bleu(refs, cands_lex)\n",
    "print('BLEU score -> {}'.format(sentence_bleu(refs, cands_lex)))\n"
   ]
  },
  {
   "cell_type": "markdown",
   "id": "8cab2d18",
   "metadata": {},
   "source": [
    "### Bert Score"
   ]
  },
  {
   "cell_type": "code",
   "execution_count": 28,
   "id": "2aa03650",
   "metadata": {
    "scrolled": true
   },
   "outputs": [
    {
     "name": "stderr",
     "output_type": "stream",
     "text": [
      "Some weights of the model checkpoint at roberta-large were not used when initializing RobertaModel: ['lm_head.decoder.weight', 'lm_head.dense.weight', 'lm_head.layer_norm.bias', 'lm_head.bias', 'lm_head.layer_norm.weight', 'lm_head.dense.bias']\n",
      "- This IS expected if you are initializing RobertaModel from the checkpoint of a model trained on another task or with another architecture (e.g. initializing a BertForSequenceClassification model from a BertForPreTraining model).\n",
      "- This IS NOT expected if you are initializing RobertaModel from the checkpoint of a model that you expect to be exactly identical (initializing a BertForSequenceClassification model from a BertForSequenceClassification model).\n",
      "Warning: Empty reference sentence detected; setting raw BERTScores to 0.\n",
      "Warning: Empty reference sentence detected; setting raw BERTScores to 0.\n"
     ]
    },
    {
     "data": {
      "image/png": "[encoded data removed]",
      "text/plain": [
       "<Figure size 432x288 with 1 Axes>"
      ]
     },
     "metadata": {
      "needs_background": "light"
     },
     "output_type": "display_data"
    }
   ],
   "source": [
    "if len(cands_lex)==1:\n",
    "    P, R, F1 = score(cands_lex, refs, lang='en', rescale_with_baseline=True)\n",
    "    F1_lex=F1\n",
    "    plt.hist(F1, bins=20)\n",
    "    plt.xlabel(\"score\")\n",
    "    plt.ylabel(\"counts\")\n",
    "    plt.show()\n",
    "if len(cands_lex)>1:\n",
    "    scorer = BERTScorer(lang=\"en\", rescale_with_baseline=True)\n",
    "    P, R, F1 = scorer.score(cands_lex, refs)\n",
    "    F1_lex=F1\n",
    "    plt.hist(F1, bins=20)\n",
    "    plt.xlabel(\"score\")\n",
    "    plt.ylabel(\"counts\")\n",
    "    plt.show()"
   ]
  },
  {
   "cell_type": "markdown",
   "id": "e55e2b7d",
   "metadata": {},
   "source": [
    "# LSA (Latent semantic analysis)\n",
    "Latent Semantic Analysis is a unsupervised learning algorithm that can be used for extractive text summarization.\n",
    "\n",
    "It extracts semantically significant sentences by applying singular value decomposition(SVD) to the matrix of term-document frequency."
   ]
  },
  {
   "cell_type": "code",
   "execution_count": 29,
   "id": "53ba9547",
   "metadata": {},
   "outputs": [],
   "source": [
    "# Import the summarizer\n",
    "from sumy.summarizers.lsa import LsaSummarizer"
   ]
  },
  {
   "cell_type": "code",
   "execution_count": 30,
   "id": "c924cd91",
   "metadata": {
    "scrolled": true
   },
   "outputs": [],
   "source": [
    "# creating the summarizer\n",
    "lsa_summarizer=LsaSummarizer()\n",
    "lsa_summary= lsa_summarizer(my_parser.document,10)\n",
    "lsa_summary_text = \"\"\n",
    "# Printing the summary\n",
    "for sentence in lsa_summary:\n",
    "    lsa_summary_text +=str(sentence)"
   ]
  },
  {
   "cell_type": "markdown",
   "id": "8d9471f5",
   "metadata": {},
   "source": [
    "## Matrices Evalution "
   ]
  },
  {
   "cell_type": "code",
   "execution_count": 32,
   "id": "7eadf297",
   "metadata": {
    "scrolled": true
   },
   "outputs": [
    {
     "name": "stdout",
     "output_type": "stream",
     "text": [
      "Roug Score:\n",
      "BLEU score -> 0\n",
      "Bert Score:\n"
     ]
    },
    {
     "name": "stderr",
     "output_type": "stream",
     "text": [
      "Some weights of the model checkpoint at roberta-large were not used when initializing RobertaModel: ['lm_head.decoder.weight', 'lm_head.dense.weight', 'lm_head.layer_norm.bias', 'lm_head.bias', 'lm_head.layer_norm.weight', 'lm_head.dense.bias']\n",
      "- This IS expected if you are initializing RobertaModel from the checkpoint of a model trained on another task or with another architecture (e.g. initializing a BertForSequenceClassification model from a BertForPreTraining model).\n",
      "- This IS NOT expected if you are initializing RobertaModel from the checkpoint of a model that you expect to be exactly identical (initializing a BertForSequenceClassification model from a BertForSequenceClassification model).\n",
      "Warning: Empty reference sentence detected; setting raw BERTScores to 0.\n",
      "Warning: Empty reference sentence detected; setting raw BERTScores to 0.\n"
     ]
    },
    {
     "data": {
      "image/png": "[encoded data removed]",
      "text/plain": [
       "<Figure size 432x288 with 1 Axes>"
      ]
     },
     "metadata": {
      "needs_background": "light"
     },
     "output_type": "display_data"
    }
   ],
   "source": [
    "print(\"Roug Score:\")\n",
    "r = Rouge()\n",
    "score_lsa=r.get_scores(lsa_summary_text, original_text)\n",
    "\n",
    "file = open('lsaRank__org.txt', 'w')\n",
    "file.write(original_text)\n",
    "file.close()\n",
    "\n",
    "file = open('lsaRank_hyps.txt', 'w')\n",
    "file.write(lsa_summary_text)\n",
    "file.close()\n",
    "\n",
    "\n",
    "with open(\"lsaRank_hyps.txt\") as f:\n",
    "    cands_lsa = [line.strip() for line in f]\n",
    "\n",
    "with open(\"lsaRank__org.txt\") as f:\n",
    "    refs_lsa = [[line.strip() for line in f]]\n",
    "\n",
    "\n",
    "print('BLEU score -> {}'.format(sentence_bleu(refs_lsa, cands_lex)))\n",
    "blue_score_lsa=sentence_bleu(refs_lsa, cands_lex)\n",
    "\n",
    "print(\"Bert Score:\")\n",
    "if len(cands_lsa)==1:\n",
    "    P, R, F1 = score(cands_lsa, refs_lsa, lang='en', rescale_with_baseline=True)\n",
    "    F1_lsa=F1\n",
    "    plt.hist(F1, bins=20)\n",
    "    plt.xlabel(\"score\")\n",
    "    plt.ylabel(\"counts\")\n",
    "    plt.show()\n",
    "if len(cands_lsa)>1:\n",
    "    scorer = BERTScorer(lang=\"en\", rescale_with_baseline=True)\n",
    "    P, R, F1 = scorer.score(cands_lsa, refs_lsa)\n",
    "    F1_lsa=F1\n",
    "    plt.hist(F1, bins=20)\n",
    "    plt.xlabel(\"score\")\n",
    "    plt.ylabel(\"counts\")\n",
    "    plt.show()"
   ]
  },
  {
   "cell_type": "markdown",
   "id": "52b98076",
   "metadata": {},
   "source": [
    "# Luhn\n",
    "\n",
    "Luhn Summarization algorithm’s approach is based on TF-IDF (Term Frequency-Inverse Document Frequency). It is useful when very low frequent words as well as highly frequent words(stopwords) are both not significant.\n",
    "\n",
    "Based on this, sentence scoring is carried out and the high ranking sentences make it to the summary."
   ]
  },
  {
   "cell_type": "code",
   "execution_count": 33,
   "id": "e337ed7a",
   "metadata": {},
   "outputs": [],
   "source": [
    "# Import the summarizer\n",
    "from sumy.summarizers.luhn import LuhnSummarizer"
   ]
  },
  {
   "cell_type": "code",
   "execution_count": 34,
   "id": "dbac5548",
   "metadata": {
    "scrolled": true
   },
   "outputs": [],
   "source": [
    "#  Creating the summarizer\n",
    "luhn_summarizer = LuhnSummarizer()\n",
    "luhn_summary = luhn_summarizer(my_parser.document,sentences_count=10)\n",
    "\n",
    "summary_luhn = \"\"\n",
    "# Printing the summary\n",
    "for sentence in luhn_summary:\n",
    "    summary_luhn +=str(sentence)"
   ]
  },
  {
   "cell_type": "code",
   "execution_count": 35,
   "id": "30815959",
   "metadata": {},
   "outputs": [
    {
     "name": "stdout",
     "output_type": "stream",
     "text": [
      "Roug Score:\n"
     ]
    }
   ],
   "source": [
    "print(\"Roug Score:\")\n",
    "r = Rouge()\n",
    "score_luhan=r.get_scores(summary_luhn, original_text)"
   ]
  },
  {
   "cell_type": "code",
   "execution_count": 36,
   "id": "46eae880",
   "metadata": {},
   "outputs": [
    {
     "name": "stdout",
     "output_type": "stream",
     "text": [
      "BLEU score -> 0\n",
      "Bert Score:\n"
     ]
    },
    {
     "name": "stderr",
     "output_type": "stream",
     "text": [
      "Some weights of the model checkpoint at roberta-large were not used when initializing RobertaModel: ['lm_head.decoder.weight', 'lm_head.dense.weight', 'lm_head.layer_norm.bias', 'lm_head.bias', 'lm_head.layer_norm.weight', 'lm_head.dense.bias']\n",
      "- This IS expected if you are initializing RobertaModel from the checkpoint of a model trained on another task or with another architecture (e.g. initializing a BertForSequenceClassification model from a BertForPreTraining model).\n",
      "- This IS NOT expected if you are initializing RobertaModel from the checkpoint of a model that you expect to be exactly identical (initializing a BertForSequenceClassification model from a BertForSequenceClassification model).\n",
      "Warning: Empty reference sentence detected; setting raw BERTScores to 0.\n",
      "Warning: Empty reference sentence detected; setting raw BERTScores to 0.\n"
     ]
    },
    {
     "data": {
      "image/png": "[encoded data removed]",
      "text/plain": [
       "<Figure size 432x288 with 1 Axes>"
      ]
     },
     "metadata": {
      "needs_background": "light"
     },
     "output_type": "display_data"
    }
   ],
   "source": [
    "\n",
    "\n",
    "file = open('luhan__org.txt', 'w')\n",
    "file.write(original_text)\n",
    "file.close()\n",
    "\n",
    "file = open('luhan_hyps.txt', 'w')\n",
    "file.write(summary_luhn)\n",
    "file.close()\n",
    "\n",
    "\n",
    "with open(\"luhan_hyps.txt\") as f:\n",
    "    cands_luhan = [line.strip() for line in f]\n",
    "\n",
    "with open(\"luhan__org.txt\") as f:\n",
    "    refs_luhan = [[line.strip() for line in f]]\n",
    "\n",
    "\n",
    "print('BLEU score -> {}'.format(sentence_bleu(refs_luhan, cands_luhan)))\n",
    "blue_score_luhan=sentence_bleu(refs_luhan, cands_luhan)\n",
    "\n",
    "print(\"Bert Score:\")\n",
    "if len(cands_luhan)==1:\n",
    "    P, R, F1 = score(cands_luhan, refs_luhan, lang='en', rescale_with_baseline=True)\n",
    "    F1_luhan=F1\n",
    "    plt.hist(F1, bins=20)\n",
    "    plt.xlabel(\"score\")\n",
    "    plt.ylabel(\"counts\")\n",
    "    plt.show()\n",
    "if len(cands_luhan)>1:\n",
    "    scorer = BERTScorer(lang=\"en\", rescale_with_baseline=True)\n",
    "    P, R, F1 = scorer.score(cands_luhan, refs_luhan)\n",
    "    F1_luhan=F1\n",
    "    plt.hist(F1, bins=20)\n",
    "    plt.xlabel(\"score\")\n",
    "    plt.ylabel(\"counts\")\n",
    "    plt.show()"
   ]
  },
  {
   "cell_type": "markdown",
   "id": "28884abc",
   "metadata": {},
   "source": [
    "# KL-Sum\n",
    "\n",
    "Another extractive method is the KL-Sum algorithm.\n",
    "\n",
    "It selects sentences based on similarity of word distribution as the original text. \n",
    "\n",
    "It aims to lower the KL-divergence criteria (learn more). \n",
    "\n",
    "It uses greedy optimization approach and keeps adding sentences till the KL-divergence decreases."
   ]
  },
  {
   "cell_type": "code",
   "execution_count": 37,
   "id": "24f3fdf5",
   "metadata": {},
   "outputs": [],
   "source": [
    "# Import the summarizer\n",
    "from sumy.summarizers.kl import KLSummarizer"
   ]
  },
  {
   "cell_type": "code",
   "execution_count": 38,
   "id": "6165b082",
   "metadata": {
    "scrolled": true
   },
   "outputs": [],
   "source": [
    "# Instantiating the  KLSummarizer\n",
    "kl_summarizer = KLSummarizer()\n",
    "kl_summary = kl_summarizer(my_parser.document,sentences_count = 10)\n",
    "\n",
    "summary_kl_sum = \"\"\n",
    "# Printing the summary\n",
    "for sentence in kl_summary:\n",
    "    summary_kl_sum +=str(sentence)\n"
   ]
  },
  {
   "cell_type": "code",
   "execution_count": 39,
   "id": "7a305b05",
   "metadata": {
    "scrolled": true
   },
   "outputs": [
    {
     "name": "stdout",
     "output_type": "stream",
     "text": [
      "Roug Score:\n",
      "BLEU score -> 0\n",
      "Bert Score:\n"
     ]
    },
    {
     "name": "stderr",
     "output_type": "stream",
     "text": [
      "Some weights of the model checkpoint at roberta-large were not used when initializing RobertaModel: ['lm_head.decoder.weight', 'lm_head.dense.weight', 'lm_head.layer_norm.bias', 'lm_head.bias', 'lm_head.layer_norm.weight', 'lm_head.dense.bias']\n",
      "- This IS expected if you are initializing RobertaModel from the checkpoint of a model trained on another task or with another architecture (e.g. initializing a BertForSequenceClassification model from a BertForPreTraining model).\n",
      "- This IS NOT expected if you are initializing RobertaModel from the checkpoint of a model that you expect to be exactly identical (initializing a BertForSequenceClassification model from a BertForSequenceClassification model).\n",
      "Warning: Empty reference sentence detected; setting raw BERTScores to 0.\n",
      "Warning: Empty reference sentence detected; setting raw BERTScores to 0.\n"
     ]
    },
    {
     "data": {
      "image/png": "[encoded data removed]",
      "text/plain": [
       "<Figure size 432x288 with 1 Axes>"
      ]
     },
     "metadata": {
      "needs_background": "light"
     },
     "output_type": "display_data"
    }
   ],
   "source": [
    "print(\"Roug Score:\")\n",
    "r = Rouge()\n",
    "score_klsum=r.get_scores(summary_kl_sum, original_text)\n",
    "\n",
    "file = open('klsum__org.txt', 'w')\n",
    "file.write(original_text)\n",
    "file.close()\n",
    "\n",
    "file = open('klsum_hyps.txt', 'w')\n",
    "file.write(summary_kl_sum)\n",
    "file.close()\n",
    "\n",
    "\n",
    "with open(\"klsum_hyps.txt\") as f:\n",
    "    cands_kl = [line.strip() for line in f]\n",
    "\n",
    "with open(\"klsum__org.txt\") as f:\n",
    "    refs_kl = [[line.strip() for line in f]]\n",
    "\n",
    "\n",
    "print('BLEU score -> {}'.format(sentence_bleu(refs_kl, cands_kl)))\n",
    "blue_score_klsum=sentence_bleu(refs_kl, cands_kl)\n",
    "\n",
    "print(\"Bert Score:\")\n",
    "\n",
    "if len(cands_kl)==1:\n",
    "    P, R, F1 = score(cands_kl, refs_kl, lang='en', rescale_with_baseline=True)\n",
    "    F1_kl=F1\n",
    "    plt.hist(F1, bins=20)\n",
    "    plt.xlabel(\"score\")\n",
    "    plt.ylabel(\"counts\")\n",
    "    plt.show()\n",
    "if len(cands_kl)>1:\n",
    "    scorer = BERTScorer(lang=\"en\", rescale_with_baseline=True)\n",
    "    P, R, F1 = scorer.score(cands_kl, refs_kl)\n",
    "    F1_kl=F1\n",
    "    plt.hist(F1, bins=20)\n",
    "    plt.xlabel(\"score\")\n",
    "    plt.ylabel(\"counts\")\n",
    "    plt.show()"
   ]
  },
  {
   "cell_type": "code",
   "execution_count": 40,
   "id": "2d6237a7",
   "metadata": {},
   "outputs": [],
   "source": [
    "import pandas as pd"
   ]
  },
  {
   "cell_type": "code",
   "execution_count": 47,
   "id": "be752b30",
   "metadata": {
    "scrolled": true
   },
   "outputs": [
    {
     "data": {
      "text/html": [
       "<div>\n",
       "<style scoped>\n",
       "    .dataframe tbody tr th:only-of-type {\n",
       "        vertical-align: middle;\n",
       "    }\n",
       "\n",
       "    .dataframe tbody tr th {\n",
       "        vertical-align: top;\n",
       "    }\n",
       "\n",
       "    .dataframe thead th {\n",
       "        text-align: right;\n",
       "    }\n",
       "</style>\n",
       "<table border=\"1\" class=\"dataframe\">\n",
       "  <thead>\n",
       "    <tr style=\"text-align: right;\">\n",
       "      <th>ROUGE-1</th>\n",
       "      <th>f</th>\n",
       "      <th>p</th>\n",
       "      <th>r</th>\n",
       "    </tr>\n",
       "    <tr>\n",
       "      <th>All</th>\n",
       "      <th></th>\n",
       "      <th></th>\n",
       "      <th></th>\n",
       "    </tr>\n",
       "  </thead>\n",
       "  <tbody>\n",
       "    <tr>\n",
       "      <th>Text Rank</th>\n",
       "      <td>0.413</td>\n",
       "      <td>1.000</td>\n",
       "      <td>0.260</td>\n",
       "    </tr>\n",
       "    <tr>\n",
       "      <th>Lex Rank</th>\n",
       "      <td>0.277</td>\n",
       "      <td>1.000</td>\n",
       "      <td>0.161</td>\n",
       "    </tr>\n",
       "    <tr>\n",
       "      <th>LSA</th>\n",
       "      <td>0.238</td>\n",
       "      <td>1.000</td>\n",
       "      <td>0.135</td>\n",
       "    </tr>\n",
       "    <tr>\n",
       "      <th>Luhan</th>\n",
       "      <td>0.462</td>\n",
       "      <td>1.000</td>\n",
       "      <td>0.301</td>\n",
       "    </tr>\n",
       "    <tr>\n",
       "      <th>KL Sum</th>\n",
       "      <td>0.212</td>\n",
       "      <td>0.996</td>\n",
       "      <td>0.118</td>\n",
       "    </tr>\n",
       "  </tbody>\n",
       "</table>\n",
       "</div>"
      ],
      "text/plain": [
       "ROUGE-1        f      p      r\n",
       "All                           \n",
       "Text Rank  0.413  1.000  0.260\n",
       "Lex Rank   0.277  1.000  0.161\n",
       "LSA        0.238  1.000  0.135\n",
       "Luhan      0.462  1.000  0.301\n",
       "KL Sum     0.212  0.996  0.118"
      ]
     },
     "execution_count": 47,
     "metadata": {},
     "output_type": "execute_result"
    }
   ],
   "source": [
    "#wrap rouge score in dataframe\n",
    "df_textRank = pd.DataFrame(score_text[0]['rouge-1'], index=['Text Rank']).apply(lambda x: round(x,3))\n",
    "df_lexRank = pd.DataFrame(score_lexRank[0]['rouge-1'], index=['Lex Rank']).apply(lambda x: round(x,3))\n",
    "df_lsa = pd.DataFrame(score_lsa[0]['rouge-1'], index=['LSA']).apply(lambda x: round(x,3))\n",
    "df_luhan = pd.DataFrame(score_luhan[0]['rouge-1'], index=['Luhan']).apply(lambda x: round(x,3))\n",
    "df_klsum = pd.DataFrame(score_klsum[0]['rouge-1'], index=['KL Sum']).apply(lambda x: round(x,3))\n",
    "#concatenate and display\n",
    "df_all_rough1= pd.concat([df_textRank, df_lexRank, df_lsa,df_luhan,df_klsum]) \n",
    "df_all_rough1.columns.name = 'ROUGE-1'\n",
    "df_all_rough1.index.name = 'All'\n",
    "df_all_rough1[['f', 'p', 'r']]"
   ]
  },
  {
   "cell_type": "code",
   "execution_count": 48,
   "id": "ac42db84",
   "metadata": {
    "scrolled": true
   },
   "outputs": [
    {
     "data": {
      "text/html": [
       "<div>\n",
       "<style scoped>\n",
       "    .dataframe tbody tr th:only-of-type {\n",
       "        vertical-align: middle;\n",
       "    }\n",
       "\n",
       "    .dataframe tbody tr th {\n",
       "        vertical-align: top;\n",
       "    }\n",
       "\n",
       "    .dataframe thead th {\n",
       "        text-align: right;\n",
       "    }\n",
       "</style>\n",
       "<table border=\"1\" class=\"dataframe\">\n",
       "  <thead>\n",
       "    <tr style=\"text-align: right;\">\n",
       "      <th>ROUGE-2</th>\n",
       "      <th>f</th>\n",
       "      <th>p</th>\n",
       "      <th>r</th>\n",
       "    </tr>\n",
       "    <tr>\n",
       "      <th>All</th>\n",
       "      <th></th>\n",
       "      <th></th>\n",
       "      <th></th>\n",
       "    </tr>\n",
       "  </thead>\n",
       "  <tbody>\n",
       "    <tr>\n",
       "      <th>Text Rank</th>\n",
       "      <td>0.392</td>\n",
       "      <td>0.951</td>\n",
       "      <td>0.247</td>\n",
       "    </tr>\n",
       "    <tr>\n",
       "      <th>Lex Rank</th>\n",
       "      <td>0.269</td>\n",
       "      <td>0.973</td>\n",
       "      <td>0.156</td>\n",
       "    </tr>\n",
       "    <tr>\n",
       "      <th>LSA</th>\n",
       "      <td>0.230</td>\n",
       "      <td>0.972</td>\n",
       "      <td>0.131</td>\n",
       "    </tr>\n",
       "    <tr>\n",
       "      <th>Luhan</th>\n",
       "      <td>0.458</td>\n",
       "      <td>0.991</td>\n",
       "      <td>0.298</td>\n",
       "    </tr>\n",
       "    <tr>\n",
       "      <th>KL Sum</th>\n",
       "      <td>0.203</td>\n",
       "      <td>0.959</td>\n",
       "      <td>0.114</td>\n",
       "    </tr>\n",
       "  </tbody>\n",
       "</table>\n",
       "</div>"
      ],
      "text/plain": [
       "ROUGE-2        f      p      r\n",
       "All                           \n",
       "Text Rank  0.392  0.951  0.247\n",
       "Lex Rank   0.269  0.973  0.156\n",
       "LSA        0.230  0.972  0.131\n",
       "Luhan      0.458  0.991  0.298\n",
       "KL Sum     0.203  0.959  0.114"
      ]
     },
     "execution_count": 48,
     "metadata": {},
     "output_type": "execute_result"
    }
   ],
   "source": [
    "#wrap rouge score in dataframe\n",
    "df_textRank = pd.DataFrame(score_text[0]['rouge-2'], index=['Text Rank']).apply(lambda x: round(x,3))\n",
    "df_lexRank = pd.DataFrame(score_lexRank[0]['rouge-2'], index=['Lex Rank']).apply(lambda x: round(x,3))\n",
    "df_lsa = pd.DataFrame(score_lsa[0]['rouge-2'], index=['LSA']).apply(lambda x: round(x,3))\n",
    "df_luhan = pd.DataFrame(score_luhan[0]['rouge-2'], index=['Luhan']).apply(lambda x: round(x,3))\n",
    "df_klsum = pd.DataFrame(score_klsum[0]['rouge-2'], index=['KL Sum']).apply(lambda x: round(x,3))\n",
    "#concatenate and display\n",
    "df_all_rough2= pd.concat([df_textRank, df_lexRank, df_lsa,df_luhan,df_klsum]) \n",
    "df_all_rough2.columns.name = 'ROUGE-2'\n",
    "df_all_rough2.index.name = 'All'\n",
    "df_all_rough2[['f', 'p', 'r']]"
   ]
  },
  {
   "cell_type": "code",
   "execution_count": 49,
   "id": "dba3f662",
   "metadata": {
    "scrolled": false
   },
   "outputs": [
    {
     "data": {
      "text/html": [
       "<div>\n",
       "<style scoped>\n",
       "    .dataframe tbody tr th:only-of-type {\n",
       "        vertical-align: middle;\n",
       "    }\n",
       "\n",
       "    .dataframe tbody tr th {\n",
       "        vertical-align: top;\n",
       "    }\n",
       "\n",
       "    .dataframe thead th {\n",
       "        text-align: right;\n",
       "    }\n",
       "</style>\n",
       "<table border=\"1\" class=\"dataframe\">\n",
       "  <thead>\n",
       "    <tr style=\"text-align: right;\">\n",
       "      <th>ROUGE-L</th>\n",
       "      <th>f</th>\n",
       "      <th>p</th>\n",
       "      <th>r</th>\n",
       "    </tr>\n",
       "    <tr>\n",
       "      <th>All</th>\n",
       "      <th></th>\n",
       "      <th></th>\n",
       "      <th></th>\n",
       "    </tr>\n",
       "  </thead>\n",
       "  <tbody>\n",
       "    <tr>\n",
       "      <th>Text Rank</th>\n",
       "      <td>0.479</td>\n",
       "      <td>1.000</td>\n",
       "      <td>0.315</td>\n",
       "    </tr>\n",
       "    <tr>\n",
       "      <th>Lex Rank</th>\n",
       "      <td>0.372</td>\n",
       "      <td>1.000</td>\n",
       "      <td>0.229</td>\n",
       "    </tr>\n",
       "    <tr>\n",
       "      <th>LSA</th>\n",
       "      <td>0.348</td>\n",
       "      <td>1.000</td>\n",
       "      <td>0.211</td>\n",
       "    </tr>\n",
       "    <tr>\n",
       "      <th>Luhan</th>\n",
       "      <td>0.567</td>\n",
       "      <td>1.000</td>\n",
       "      <td>0.395</td>\n",
       "    </tr>\n",
       "    <tr>\n",
       "      <th>KL Sum</th>\n",
       "      <td>0.332</td>\n",
       "      <td>0.994</td>\n",
       "      <td>0.199</td>\n",
       "    </tr>\n",
       "  </tbody>\n",
       "</table>\n",
       "</div>"
      ],
      "text/plain": [
       "ROUGE-L        f      p      r\n",
       "All                           \n",
       "Text Rank  0.479  1.000  0.315\n",
       "Lex Rank   0.372  1.000  0.229\n",
       "LSA        0.348  1.000  0.211\n",
       "Luhan      0.567  1.000  0.395\n",
       "KL Sum     0.332  0.994  0.199"
      ]
     },
     "execution_count": 49,
     "metadata": {},
     "output_type": "execute_result"
    }
   ],
   "source": [
    "#wrap rouge score in dataframe\n",
    "df_textRank = pd.DataFrame(score_text[0]['rouge-l'], index=['Text Rank']).apply(lambda x: round(x,3))\n",
    "df_lexRank = pd.DataFrame(score_lexRank[0]['rouge-l'], index=['Lex Rank']).apply(lambda x: round(x,3))\n",
    "df_lsa = pd.DataFrame(score_lsa[0]['rouge-l'], index=['LSA']).apply(lambda x: round(x,3))\n",
    "df_luhan = pd.DataFrame(score_luhan[0]['rouge-l'], index=['Luhan']).apply(lambda x: round(x,3))\n",
    "df_klsum = pd.DataFrame(score_klsum[0]['rouge-l'], index=['KL Sum']).apply(lambda x: round(x,3))\n",
    "#concatenate and display\n",
    "df_all_roughL= pd.concat([df_textRank, df_lexRank, df_lsa,df_luhan,df_klsum]) \n",
    "df_all_roughL.columns.name = 'ROUGE-L'\n",
    "df_all_roughL.index.name = 'All'\n",
    "df_all_roughL[['f', 'p', 'r']]"
   ]
  },
  {
   "cell_type": "code",
   "execution_count": 53,
   "id": "1332179e",
   "metadata": {},
   "outputs": [
    {
     "data": {
      "text/html": [
       "<div>\n",
       "<style scoped>\n",
       "    .dataframe tbody tr th:only-of-type {\n",
       "        vertical-align: middle;\n",
       "    }\n",
       "\n",
       "    .dataframe tbody tr th {\n",
       "        vertical-align: top;\n",
       "    }\n",
       "\n",
       "    .dataframe thead th {\n",
       "        text-align: right;\n",
       "    }\n",
       "</style>\n",
       "<table border=\"1\" class=\"dataframe\">\n",
       "  <thead>\n",
       "    <tr style=\"text-align: right;\">\n",
       "      <th>ROUGE-1</th>\n",
       "      <th>f</th>\n",
       "      <th>p</th>\n",
       "      <th>r</th>\n",
       "    </tr>\n",
       "    <tr>\n",
       "      <th>All</th>\n",
       "      <th></th>\n",
       "      <th></th>\n",
       "      <th></th>\n",
       "    </tr>\n",
       "  </thead>\n",
       "  <tbody>\n",
       "    <tr>\n",
       "      <th>Text Rank</th>\n",
       "      <td>0.413</td>\n",
       "      <td>1.000</td>\n",
       "      <td>0.260</td>\n",
       "    </tr>\n",
       "    <tr>\n",
       "      <th>Lex Rank</th>\n",
       "      <td>0.277</td>\n",
       "      <td>1.000</td>\n",
       "      <td>0.161</td>\n",
       "    </tr>\n",
       "    <tr>\n",
       "      <th>LSA</th>\n",
       "      <td>0.238</td>\n",
       "      <td>1.000</td>\n",
       "      <td>0.135</td>\n",
       "    </tr>\n",
       "    <tr>\n",
       "      <th>Luhan</th>\n",
       "      <td>0.462</td>\n",
       "      <td>1.000</td>\n",
       "      <td>0.301</td>\n",
       "    </tr>\n",
       "    <tr>\n",
       "      <th>KL Sum</th>\n",
       "      <td>0.212</td>\n",
       "      <td>0.996</td>\n",
       "      <td>0.118</td>\n",
       "    </tr>\n",
       "  </tbody>\n",
       "</table>\n",
       "</div>"
      ],
      "text/plain": [
       "ROUGE-1        f      p      r\n",
       "All                           \n",
       "Text Rank  0.413  1.000  0.260\n",
       "Lex Rank   0.277  1.000  0.161\n",
       "LSA        0.238  1.000  0.135\n",
       "Luhan      0.462  1.000  0.301\n",
       "KL Sum     0.212  0.996  0.118"
      ]
     },
     "execution_count": 53,
     "metadata": {},
     "output_type": "execute_result"
    },
    {
     "data": {
      "text/html": [
       "<div>\n",
       "<style scoped>\n",
       "    .dataframe tbody tr th:only-of-type {\n",
       "        vertical-align: middle;\n",
       "    }\n",
       "\n",
       "    .dataframe tbody tr th {\n",
       "        vertical-align: top;\n",
       "    }\n",
       "\n",
       "    .dataframe thead th {\n",
       "        text-align: right;\n",
       "    }\n",
       "</style>\n",
       "<table border=\"1\" class=\"dataframe\">\n",
       "  <thead>\n",
       "    <tr style=\"text-align: right;\">\n",
       "      <th>ROUGE-2</th>\n",
       "      <th>f</th>\n",
       "      <th>p</th>\n",
       "      <th>r</th>\n",
       "    </tr>\n",
       "    <tr>\n",
       "      <th>All</th>\n",
       "      <th></th>\n",
       "      <th></th>\n",
       "      <th></th>\n",
       "    </tr>\n",
       "  </thead>\n",
       "  <tbody>\n",
       "    <tr>\n",
       "      <th>Text Rank</th>\n",
       "      <td>0.392</td>\n",
       "      <td>0.951</td>\n",
       "      <td>0.247</td>\n",
       "    </tr>\n",
       "    <tr>\n",
       "      <th>Lex Rank</th>\n",
       "      <td>0.269</td>\n",
       "      <td>0.973</td>\n",
       "      <td>0.156</td>\n",
       "    </tr>\n",
       "    <tr>\n",
       "      <th>LSA</th>\n",
       "      <td>0.230</td>\n",
       "      <td>0.972</td>\n",
       "      <td>0.131</td>\n",
       "    </tr>\n",
       "    <tr>\n",
       "      <th>Luhan</th>\n",
       "      <td>0.458</td>\n",
       "      <td>0.991</td>\n",
       "      <td>0.298</td>\n",
       "    </tr>\n",
       "    <tr>\n",
       "      <th>KL Sum</th>\n",
       "      <td>0.203</td>\n",
       "      <td>0.959</td>\n",
       "      <td>0.114</td>\n",
       "    </tr>\n",
       "  </tbody>\n",
       "</table>\n",
       "</div>"
      ],
      "text/plain": [
       "ROUGE-2        f      p      r\n",
       "All                           \n",
       "Text Rank  0.392  0.951  0.247\n",
       "Lex Rank   0.269  0.973  0.156\n",
       "LSA        0.230  0.972  0.131\n",
       "Luhan      0.458  0.991  0.298\n",
       "KL Sum     0.203  0.959  0.114"
      ]
     },
     "execution_count": 53,
     "metadata": {},
     "output_type": "execute_result"
    },
    {
     "data": {
      "text/html": [
       "<div>\n",
       "<style scoped>\n",
       "    .dataframe tbody tr th:only-of-type {\n",
       "        vertical-align: middle;\n",
       "    }\n",
       "\n",
       "    .dataframe tbody tr th {\n",
       "        vertical-align: top;\n",
       "    }\n",
       "\n",
       "    .dataframe thead th {\n",
       "        text-align: right;\n",
       "    }\n",
       "</style>\n",
       "<table border=\"1\" class=\"dataframe\">\n",
       "  <thead>\n",
       "    <tr style=\"text-align: right;\">\n",
       "      <th>ROUGE-L</th>\n",
       "      <th>f</th>\n",
       "      <th>p</th>\n",
       "      <th>r</th>\n",
       "    </tr>\n",
       "    <tr>\n",
       "      <th>All</th>\n",
       "      <th></th>\n",
       "      <th></th>\n",
       "      <th></th>\n",
       "    </tr>\n",
       "  </thead>\n",
       "  <tbody>\n",
       "    <tr>\n",
       "      <th>Text Rank</th>\n",
       "      <td>0.479</td>\n",
       "      <td>1.000</td>\n",
       "      <td>0.315</td>\n",
       "    </tr>\n",
       "    <tr>\n",
       "      <th>Lex Rank</th>\n",
       "      <td>0.372</td>\n",
       "      <td>1.000</td>\n",
       "      <td>0.229</td>\n",
       "    </tr>\n",
       "    <tr>\n",
       "      <th>LSA</th>\n",
       "      <td>0.348</td>\n",
       "      <td>1.000</td>\n",
       "      <td>0.211</td>\n",
       "    </tr>\n",
       "    <tr>\n",
       "      <th>Luhan</th>\n",
       "      <td>0.567</td>\n",
       "      <td>1.000</td>\n",
       "      <td>0.395</td>\n",
       "    </tr>\n",
       "    <tr>\n",
       "      <th>KL Sum</th>\n",
       "      <td>0.332</td>\n",
       "      <td>0.994</td>\n",
       "      <td>0.199</td>\n",
       "    </tr>\n",
       "  </tbody>\n",
       "</table>\n",
       "</div>"
      ],
      "text/plain": [
       "ROUGE-L        f      p      r\n",
       "All                           \n",
       "Text Rank  0.479  1.000  0.315\n",
       "Lex Rank   0.372  1.000  0.229\n",
       "LSA        0.348  1.000  0.211\n",
       "Luhan      0.567  1.000  0.395\n",
       "KL Sum     0.332  0.994  0.199"
      ]
     },
     "execution_count": 53,
     "metadata": {},
     "output_type": "execute_result"
    }
   ],
   "source": [
    "df_all_rough1\n",
    "df_all_rough2\n",
    "df_all_roughL"
   ]
  },
  {
   "cell_type": "code",
   "execution_count": 44,
   "id": "c18a6a91",
   "metadata": {
    "scrolled": true
   },
   "outputs": [
    {
     "name": "stdout",
     "output_type": "stream",
     "text": [
      "Blue Score: \n",
      "Text Rank: 5.037094777266818e-156\n",
      "Lex Rank: 0\n",
      "LSA: 0\n",
      "Luhn: 0\n",
      "KL Sum: 0\n"
     ]
    }
   ],
   "source": [
    "print(\"Blue Score: \")\n",
    "\n",
    "print('Text Rank: '+str(blue_score_textrank))\n",
    "print('Lex Rank: '+str(blue_score_lex))\n",
    "print('LSA: '+str(blue_score_lsa))\n",
    "print('Luhn: '+str(blue_score_luhan))\n",
    "print('KL Sum: '+str(blue_score_klsum))"
   ]
  },
  {
   "cell_type": "code",
   "execution_count": 45,
   "id": "ddff2244",
   "metadata": {
    "scrolled": true
   },
   "outputs": [],
   "source": [
    "textRank=tf.constant(F1_textrank).numpy()\n",
    "lex=tf.constant(F1_lex).numpy()\n",
    "lsa=tf.constant(F1_lsa).numpy()\n",
    "luhn=tf.constant(F1_luhan).numpy()\n",
    "kl=tf.constant(F1_kl).numpy()\n"
   ]
  },
  {
   "cell_type": "code",
   "execution_count": 46,
   "id": "2034e69b",
   "metadata": {},
   "outputs": [
    {
     "name": "stdout",
     "output_type": "stream",
     "text": [
      "BERT Score:\n",
      "Text Rank: [1.]\n",
      "Lex Rank: [0.16667655]\n",
      "LSA: [0.16026878]\n",
      "Luhn: [0.08607864]\n",
      "KL Sum: [0.20216085]\n"
     ]
    }
   ],
   "source": [
    "print(\"BERT Score:\")\n",
    "print('Text Rank: '+str(textRank))\n",
    "print('Lex Rank: '+str(lex))\n",
    "print('LSA: '+str(lsa))\n",
    "print('Luhn: '+str(luhn))\n",
    "print('KL Sum: '+str(kl))"
   ]
  },
  {
   "cell_type": "code",
   "execution_count": null,
   "id": "3e758c5a",
   "metadata": {},
   "outputs": [],
   "source": []
  },
  {
   "cell_type": "code",
   "execution_count": null,
   "id": "42cbb384",
   "metadata": {},
   "outputs": [],
   "source": []
  }
 ],
 "metadata": {
  "kernelspec": {
   "display_name": "Python 3",
   "language": "python",
   "name": "python3"
  },
  "language_info": {
   "codemirror_mode": {
    "name": "ipython",
    "version": 3
   },
   "file_extension": ".py",
   "mimetype": "text/x-python",
   "name": "python",
   "nbconvert_exporter": "python",
   "pygments_lexer": "ipython3",
   "version": "3.8.10"
  }
 },
 "nbformat": 4,
 "nbformat_minor": 5
}
