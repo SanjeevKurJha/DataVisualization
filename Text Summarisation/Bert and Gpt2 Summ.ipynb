{
 "cells": [
  {
   "cell_type": "code",
   "execution_count": 1,
   "id": "4a2e6eca",
   "metadata": {
    "scrolled": true
   },
   "outputs": [],
   "source": [
    "#pip install bert-extractive-summarizer\n",
    "#pip install torch\n",
    "#pip install rouge\n",
    "#pip install ipywidgets --user\n",
    "#pip install bert-score\n",
    "#pip install nltk\n",
    "# pip install tensorflow\n",
    "#pip install PyMuPDF==1.16.14\n",
    "#pip install frontend \n",
    "#pip install pdfplumber \n",
    "#\n",
    "#pip install fitz"
   ]
  },
  {
   "cell_type": "markdown",
   "id": "25cdb856",
   "metadata": {},
   "source": [
    "pip install PyMuPDF \n",
    "pip install frontend \n",
    "pip install pdfplumber \n",
    "pip install PyMuPDF \n",
    "pip install fitz \n",
    "pip install rouge==1.0.0 \n",
    "pip install streamlit==0.80.0 \n",
    "pip install gensim==4.0.1 \n",
    "pip install altair==4.1.0 \n",
    "pip install pandas==1.2.3 \n",
    "pip install sumy==0.8.1 \n",
    "pip install gensim==3.8.3"
   ]
  },
  {
   "cell_type": "code",
   "execution_count": 2,
   "id": "0d824375",
   "metadata": {},
   "outputs": [],
   "source": [
    "from rouge import Rouge\n",
    "import bert_score\n",
    "from bert_score import score\n",
    "import matplotlib.pyplot as plt\n",
    "from bert_score import BERTScorer\n",
    "import pandas as pd\n",
    "from summarizer import Summarizer\n",
    "from nltk.translate.bleu_score import sentence_bleu\n",
    "import numpy\n",
    "import tensorflow as tf \n",
    "##Print many staement at same time using the below command\n",
    "from IPython.core.interactiveshell import InteractiveShell\n",
    "InteractiveShell.ast_node_interactivity = \"all\"\n",
    "import fitz\n",
    "import glob\n",
    "import pdfplumber\n",
    "import re"
   ]
  },
  {
   "cell_type": "code",
   "execution_count": null,
   "id": "9c526f18",
   "metadata": {},
   "outputs": [],
   "source": []
  },
  {
   "cell_type": "code",
   "execution_count": 3,
   "id": "e6743d2f",
   "metadata": {},
   "outputs": [],
   "source": [
    "F1_Bert=''\n",
    "F1_Gpt2=''"
   ]
  },
  {
   "cell_type": "code",
   "execution_count": 4,
   "id": "c1a6403d",
   "metadata": {},
   "outputs": [
    {
     "name": "stdout",
     "output_type": "stream",
     "text": [
      "+++++++++++++++++++++++++++++++++++++++++++ ./data/1811.12015.pdf\n",
      "number of pages: 19\n",
      "************* Mobile phone indicators and their relation to the socioeconomic organisation of cities • November \n",
      "Within the urban sensing literature, mobile phone data play a prominent role as they form a source of passively\n",
      "collected information (users do not need to make an explicit action to share their locations as would be the case in,\n",
      "for example, location-based services or social networks), for large shares of populations (high shares of the world\n",
      "population now owns a mobile device of any sort), captured at a rather high spatial resolution (in general, the density\n",
      "of cell towers is high in urban areas). Mobile phone data research in an urban context has been applied to a diversity\n",
      "of individual cities, or to international comparison of cities: Paris (Schneider et al., ); Maputo (Batran et al.,\n",
      "), Dhaka (Lu et al., ), Santiago (Dannamann et al., ), Boston and Singapore (Xu et al., ), London,\n",
      "Singapore and Beijing (Zhong et al., ). Research with a focus on a single city, or a set of single cities, bears the\n",
      "advantage that it can easily tap into local knowledge when questioning the obtained, quantitative results. This leads\n",
      "to better insights that can be used in urban planning and policy.\n",
      "I..\n",
      "Mobile phone indicators\n",
      "One problem of the single-city focus in previous research is that it can not ensure that observations made in one\n",
      "city (usually a capital city of large population) remain valid for other cities. As a consequence, it is unclear whether\n",
      "ﬁndings can be generalized over different types of cities. The creation of mobile phone indicators avoids this\n",
      "problem. Since mobile phone indicators are typically calculated for large user samples covering multiple cities,\n",
      "aggregation of individual-level indicators in space allows to compare ﬁndings between cities. In addition, mobile\n",
      "phone indicators can be paired with other datasets so that multi-variate methods can support interpretation. In the\n",
      "case of mobile phone data, creating individual indicators is possible at a nation-wide scale (as datasets are mostly\n",
      "provided by national operators) but it is not a straightforward task. For example, differences in the spatial resolution\n",
      "of observations make it hard to create comparable indicators for individual mobility (Vanhoof et al., c), and it is\n",
      "known that home detection methods, which enable the spatial allocation and aggregation of individual users, still\n",
      "face severe challenges when it comes to validation and error estimation (Vanhoof et al., b,a).\n",
      "Regardless some methodological challenges, creating mobile phone indicators and pairing them with census data\n",
      "is deemed promiscuous by multiple ofﬁcial statistics ofﬁces and has been performed in academic literature on several\n",
      "occasions. Pappalardo et al. (), for example, show how in France a mobile phone indicator on the diversity of\n",
      "movement (the mobility entropy) relates directly to the European Deprivation Index (EDI), Eagle et al. () describe\n",
      "the relation between regional calling patterns and economic development in the UK, Decuyper et al. () discuss\n",
      "the relation between calling and purchase behavior and food security in a Central African country, and Frias-martinez\n",
      "et al. () investigate relations between several mobile phone indicators (call, movement and purchase behavior)\n",
      "and multiple census variables on education, demographics and purchase power in a Latin American country. With\n",
      "the exception of Vanhoof et al. (c), who study relations between mobile phone and census indicators for different\n",
      "urban areas in France, one clear shortcoming of these studies is that their analyses are ﬁxed on the nation-level only,\n",
      "leaving a missed opportunity to explore the empirical relations between human mobility, social interactions, and the\n",
      "socioeconomic organisation of cities.\n",
      "I..\n",
      "Sensitivity of urban scaling laws to city deﬁnitions\n",
      "When intending to compare values of mobile phone indicators between cities, it is important to have a clear deﬁnition\n",
      "of what is considered a city. This is especially true since recent works on urban scaling and Zipf’s law of census data\n",
      "(Arcaute et al., ; Veneri, ; Cottineau et al., ) have shown that the delineation of cities can substantially\n",
      "inﬂuence results and interpretations, mainly because areas either included or not in different delineations have\n",
      "heterogeneous properties. Despite the fact that this issue is traditionally overlooked (sometimes for good reason,\n",
      "because data is only available for a single delineation), it is to suspect that average human activity sensed in general,\n",
      "and mobile phone indicators in particular, are similarly sensitive to city delineation.\n",
      "Proceeding one step further to the relations between mobile phone indicators and census data, one can ask\n",
      "themselves the question to which degree such relations will be inﬂuenced by city deﬁnitions. Indeed, what is unclear\n",
      "from previous work on mobile phone indicators is how statistical relations to census indicators, whether obtained\n",
      "from multi-variate analysis at nation level or in the form of urban scaling laws, are determined by the way cities are\n",
      "deﬁned. Before this question gets answered, empirically produced relations will be insufﬁciently trustworthy to\n",
      "\n",
      "\n",
      "+++++++++++++++++++++++++++++++++++++++++++ ./data/2006.12720.pdf\n",
      "number of pages: 16\n",
      "************* \n",
      "K. BUSHMAN ET AL.\n",
      "these models we can then examine various hypotheses on whether speciﬁc demographics of interest\n",
      "are associated with a change in mobility above and beyond of what was expected from the mobility\n",
      "patterns prior to stay-at-home orders. We focus on two particular demographics, age and race, and\n",
      "show that show that minorities and older people, while signiﬁcantly increasing their stay at home, this\n",
      "increase is smaller compared to that white and younger people. We further provide some possible\n",
      "mechanisms that lead to this observation and show that income disparities can explain a sizable part\n",
      "of this difference. The main contributions of our work can be summarized as follows:\n",
      "• Provide a Granger-causality analysis on the impact of stay-at-home orders on COVID--\n",
      "related fatalities\n",
      "• Design a framework for quantifying adherence to social distancing according to various de-\n",
      "mographics\n",
      "• Design a dynamic dashboard to visualize both the raw mobility data as well as, the results\n",
      "from our analysis.\n",
      "We believe that our work can provide critical information to local ofﬁcials and policy makers. The\n",
      "rest of the paper is organized as follows. Section  provides a description of the data we used for our\n",
      "analysis, as well as, a brief review on related to our study literature. Section  provides our Granger-\n",
      "causality analysis, while Section  introduces our framework for identifying the relationship between\n",
      "social distancing compliance and demographics. We conclude our work and discuss its limitations and\n",
      "directions for future work in Section .\n",
      ". \n",
      "+++++++++++++++++++++++++++++++++++++++++++ ./data/2106.07909 (1).pdf\n",
      "number of pages: 22\n",
      "************* A PREPRINT - JUNE , \n",
      "transportation data [], taxi trips [], socioeconomic indicators (per capita income, education rate, unemployment\n",
      "rate and deprivation index) [], sale price of residential properties []. Yes, this work also ﬁts into the trends, using\n",
      "the selling prices of properties.\n",
      "In this paper, we explore relations between mobile phone indicators and measures of socioeconomic status based\n",
      "on housing prices. In doing so, we perform statistical analysis on mobility indicators derived from a CDR dataset\n",
      "and information of property prices in Budapest. Assuming that housing prices characterize on a certain level the\n",
      "socioeconomic status we are exploring the relationship between the market price of properties at the neighborhood\n",
      "where residents live or work and mobility indicators. Our hypothesis is that mobile phone indicators depict different\n",
      "types of spatial variations for different set of housing prices and therefore hidden patterns and correlations can be\n",
      "revealed. The discovered interrelation between Socioeconomic Status (SES) and mobility habits of the residents may\n",
      "lead to a more in-depth understanding of urban life and could support the optimization public transport, or decision\n",
      "making for real estate developers and could gain the efﬁciency of retail processes.\n",
      "This paper is organized as follows: Section  gives a brief summary of the relevant literature. Section , describes the\n",
      "data used in this study. Section , details the methodology used and the indicators and metrics generated. The mobility\n",
      "indicators obtained from the dataset recorded by cellular operator has been validated by comparing with reports of the\n",
      "national mini census (Section ). Then, the results of the statistical analysis have been discussed in Section . The\n",
      "summary of ﬁndings are given in Section .\n",
      "\n",
      "Literature Review\n",
      "The understanding of human movements and recognition of behavior patterns that occur during daily life, in urban\n",
      "areas, requires a systematic analysis of that human mobility. The evaluation of human travel is based on observations\n",
      "on the individual and group levels. In the last decades, several novel datasets, based on vehicular GPS and cellular\n",
      "network records or social media information, became available which provided more accurate and sophisticated char-\n",
      "acterization of people’s movements. Gonzales et al. used a dataset that included , user’s cellphone records,\n",
      "obtained for a half a year and showed that inhabitants usually visit some highly frequented locations []. Song et\n",
      "al. evaluated a dataset representing , cellular phone user’s recorded for three months. The human movements\n",
      "derived from the cellular information of the dataset has been found to be highly predictable []. Numerical indicators\n",
      "(i.e. entropy-based metrics, radius of gyration) have been calculated to quantify the temporospatial distribution of\n",
      "people and their movements. Parija et al. [] applied Proﬁle-based paging algorithm on CDRs in order to discover\n",
      "personal human mobility patterns. The results suggest that the proposed algorithm is three times more efﬁcient than\n",
      "conventional paging and two times more effective than various other intelligent paging algorithms. These researches\n",
      "showed the hidden characteristics of individual movements and gave a tangible boost for further scientiﬁc efforts.\n",
      "The demographic metrics and Socioeconomic Status (SES) seems the have signiﬁcant relationship to individual travel\n",
      "behavior. Early studies aimed to investigate correlation of the human travel characteristics and of SES [, ]. Cot-\n",
      "tineau and Vanhoof [] developed a model to explore the relationship between mobile phone data and traditional\n",
      "socioeconomic information from the national census in French cities. Mobile phone indicators estimated from six\n",
      "months Call Detail Records, while census and administrative data are used to characterize the socioeconomic orga-\n",
      "nization of French cities. The ﬁndings show that some mobile phone indicators relate signiﬁcantly with different\n",
      "socioeconomic organization of cities. Pokhriyal et al. [] used a computational framework to accurately predict the\n",
      "Global Multidimensional Poverty Index (MPI) in Senegal based on environmental data and CDR. The methodology\n",
      "provides the accurate prediction of important dimensions of poverty: health, education, and standard of living (the\n",
      "estimations have been validated using deprivations calculated from census).\n",
      "In the last decade, CDRs have become a standard information source for analyzing the social characteristics of human\n",
      "mobility. A research work [] that investigated the people’s daily activities in Shenzhen, China. The results identiﬁed\n",
      "a so-called, “north–south” differences of human activity, which ﬁndings are in good agreement with the socioeconomic\n",
      "divide in the city.\n",
      "Some investigations suggest that the mobile phone data can be used to predict individual SES [] or regional socioe-\n",
      "conomic characteristics []. Xu et al. [] used an analytical framework on large scale mobile phone and urban\n",
      "socioeconomic datasets to evaluate mobility patterns and SES. Six mobility indicators, housing prices and per capita\n",
      "income in Singapore and Boston have been used to analyze the socioeconomic classes. It was found that phone\n",
      "users who are generally wealthier, tend to travel shorter distances in Singapore, but longer, in Boston. The research\n",
      "brought interesting ﬁndings, but also showed that the relationship between mobility and socioeconomic status is worth\n",
      "investigation in other cities and countries as well.\n",
      "\n",
      "\n"
     ]
    }
   ],
   "source": [
    "\n",
    "\n",
    "pdf_dir = \"./data\"\n",
    "\n",
    "pdf_files = glob.glob(\"%s/*.pdf\" % pdf_dir)\n",
    "all_abstracts = \"\"\n",
    "for filename in pdf_files:\n",
    "    print(\"+++++++++++++++++++++++++++++++++++++++++++\",filename)\n",
    "    doc = fitz.open(filename)\n",
    "    print (\"number of pages: %i\" % doc.pageCount)\n",
    "\n",
    "    page1 = doc.loadPage(0)\n",
    "    page1text = page1.getText(\"text\")\n",
    "\n",
    "    page2 = doc.loadPage(1)\n",
    "    page2text = page2.getText(\"text\")\n",
    "\n",
    "    try:\n",
    "        try:\n",
    "            Abstract = page1text.split(\"Introduction\",1)[1]\n",
    "            partitioned_string = page2text.split('Data')[0]\n",
    "        except:\n",
    "            Abstract = page1text.split(\"Introduction\",1)[1]\n",
    "            partitioned_string = Abstract.split('Data')[0]\n",
    "    except Exception as IndexError:\n",
    "        try:\n",
    "            Abstract = page2text.split(\"Introduction\",1)[1]\n",
    "            partitioned_string = Abstract.split('Data')[0]\n",
    "        except:\n",
    "            Abstract = page2text.split(\"Introduction\",1)[1]\n",
    "            partitioned_string = Abstract.split('Data')[0]\n",
    "    partitioned_string = re.sub('\\S+@\\S+',\"\",partitioned_string)\n",
    "    partitioned_string = re.sub(r'[0-9]',\"\",partitioned_string)\n",
    "    #partitioned_string = \" \".join(re.findall(r\"[a-zA-Z0-9]+\",partitioned_string ))\n",
    "    all_abstracts += partitioned_string\n",
    "    \n",
    "    \n",
    "    print(\"*************\",partitioned_string)"
   ]
  },
  {
   "cell_type": "code",
   "execution_count": 5,
   "id": "bc8e1e7a",
   "metadata": {},
   "outputs": [],
   "source": [
    "org_text=all_abstracts"
   ]
  },
  {
   "cell_type": "code",
   "execution_count": 6,
   "id": "33b17c8e",
   "metadata": {
    "scrolled": true
   },
   "outputs": [
    {
     "name": "stderr",
     "output_type": "stream",
     "text": [
      "Some weights of the model checkpoint at bert-large-uncased were not used when initializing BertModel: ['cls.predictions.transform.LayerNorm.bias', 'cls.predictions.transform.dense.weight', 'cls.seq_relationship.weight', 'cls.predictions.decoder.weight', 'cls.seq_relationship.bias', 'cls.predictions.transform.dense.bias', 'cls.predictions.transform.LayerNorm.weight', 'cls.predictions.bias']\n",
      "- This IS expected if you are initializing BertModel from the checkpoint of a model trained on another task or with another architecture (e.g. initializing a BertForSequenceClassification model from a BertForPreTraining model).\n",
      "- This IS NOT expected if you are initializing BertModel from the checkpoint of a model that you expect to be exactly identical (initializing a BertForSequenceClassification model from a BertForSequenceClassification model).\n"
     ]
    }
   ],
   "source": [
    "bert_model = Summarizer()"
   ]
  },
  {
   "cell_type": "code",
   "execution_count": 7,
   "id": "e4d44e6d",
   "metadata": {},
   "outputs": [],
   "source": [
    "org_text = '''Mobile phone indicators and their relation to the socioeconomic organisation of cities. November  Within the urban sensing literature, mobile phone data play \n",
    "       a prominent role as they form a source of passively collected information users do not need to make an explicit action to share their locations as would be the \n",
    "       case in, for example, location-based services or social networks  for large shares of populations high shares of the world population now owns a mobile device \n",
    "       of any sort  captured at a rather high spatial resolution in general, the density of cell towers is high in urban areas. Mobile phone data research in an urban \n",
    "       context has been applied to a diversity of individual cities, or to international comparison of cities: Paris Schneider et al. ; Maputo Batran et al.   \n",
    "       Dhaka Lu et al.   Santiago Dannamann et al.   Boston and Singapore Xu et al.   London, Singapore and Beijing Zhong et al Research with a focus on \n",
    "       a single city, or a set of single cities, bears the advantage that it can easily tap into local knowledge when questioning the obtained, quantitative results. \n",
    "       This leads to better insights that can be used in urban planning and policy. I.. Mobile phone indicators One problem of the single-city focus in previous research \n",
    "       is that it can not ensure that observations made in one city usually a capital city of large population remain valid for other cities. As a consequence, it is unclear \n",
    "       whether findings can be generalized over different types of cities. The creation of mobile phone indicators avoids this problem. Since mobile phone indicators are typically \n",
    "       calculated for large user samples covering multiple cities, aggregation of individual-level indicators in space allows to compare findings between cities. In addition, \n",
    "       mobile phone indicators can be paired with other datasets so that multi-variate methods can support interpretation. In the case of mobile phone data, creating individual \n",
    "       indicators is possible at a nation-wide scale as datasets are mostly provided by national operators but it is not a straightforward task. For example, differences in the \n",
    "       spatial resolution of observations make it hard to create comparable indicators for individual mobility Vanhoof et al. c  and it is known that home detection methods, \n",
    "       which enable the spatial allocation and aggregation of individual users, still face severe challenges when it comes to validation and error estimation Vanhoof et al. b,a.\n",
    "        Regardless some methodological challenges, creating mobile phone indicators and pairing them with census data is deemed promiscuous by multiple official statistics offices \n",
    "       and has been performed in academic literature on several occasions. Pappalardo et al.   for example, show how in France a mobile phone indicator on the diversity of movement \n",
    "       the mobility entropy relates directly to the European Deprivation Index EDI  Eagle et al.  describe the relation between regional calling patterns and economic development \n",
    "       in the UK, Decuyper et al.  discuss the relation between calling and purchase behavior and food security in a Central African country, and Frias-martinez et al.  \n",
    "       investigate relations between several mobile phone indicators call, movement and purchase behavior and multiple census variables on education, demographics and purchase power \n",
    "       in a Latin American country. With the exception of Vanhoof et al. c  who study relations between mobile phone and census indicators for different urban areas in France, \n",
    "       one clear shortcoming of these studies is that their analyses are fixed on the nation-level only, leaving a missed opportunity to explore the empirical relations between human \n",
    "       mobility, social interactions, and the socioeconomic organisation of cities. I.. Sensitivity of urban scaling laws to city definitions When intending to compare values of \n",
    "       mobile phone indicators between cities, it is important to have a clear definition of what is considered a city. This is especially true since recent works on urban scaling \n",
    "       and Zipf’s law of census data Arcaute et al. ; Veneri, ; Cottineau et al.  have shown that the delineation of cities can substantially influence results and interpretations, \n",
    "       mainly because areas either included or not in different delineations have heterogeneous properties. Despite the fact that this issue is traditionally overlooked sometimes for \n",
    "       good reason, because data is only available for a single delineation  it is to suspect that average human activity sensed in general, and mobile phone indicators in particular, \n",
    "       are similarly sensitive to city delineation. Proceeding one step further to the relations between mobile phone indicators and census data, one can ask themselves the question to \n",
    "       which degree such relations will be influenced by city definitions. Indeed, what is unclear from previous work on mobile phone indicators is how statistical relations to census \n",
    "       indicators, whether obtained from multi-variate analysis at nation level or in the form of urban scaling laws, are determined by the way cities are defined. Before this question \n",
    "       gets answered, empirically produced relations will be insufficiently trustworthy to   K. BUSHMAN ET AL. these models we can then examine various hypotheses on whether specific \n",
    "       demographics of interest are associated with a change in mobility above and beyond of what was expected from the mobility patterns prior to stay-at-home orders. We focus on two \n",
    "       particular demographics, age and race, and show that show that minorities and older people, while significantly increasing their stay at home, this increase is smaller compared \n",
    "       to that white and younger people. We further provide some possible mechanisms that lead to this observation and show that income disparities can explain a sizable part of this \n",
    "       difference. The main contributions of our work can be summarized as follows: • Provide a Granger-causality analysis on the impact of stay-at-home orders on COVID-- related f\n",
    "       atalities • Design a framework for quantifying adherence to social distancing according to various de- mographics • Design a dynamic dashboard to visualize both the raw \n",
    "       mobility data as well as, the results from our analysis. We believe that our work can provide critical information to local officials and policy makers. The rest of the \n",
    "       paper is organized as follows. Section  provides a description of the data we used for our analysis, as well as, a brief review on related to our study literature. Section  \n",
    "       provides our Granger- causality analysis, while Section  introduces our framework for identifying the relationship between social distancing compliance and demographics. \n",
    "       We conclude our work and discuss its limitations and directions for future work in Section  A PREPRINT - JUNE ,  transportation data  taxi trips  socioeconomic \n",
    "       indicators per capita income, education rate, unemployment rate and deprivation index  sale price of residential properties []. Yes, this work also fits into the trends, \n",
    "       using the selling prices of properties. In this paper, we explore relations between mobile phone indicators and measures of socioeconomic status based on housing prices. \n",
    "       In doing so, we perform statistical analysis on mobility indicators derived from a CDR dataset and information of property prices in Budapest. Assuming that housing prices \n",
    "       characterize on a certain level the socioeconomic status we are exploring the relationship between the market price of properties at the neighborhood where residents live \n",
    "       or work and mobility indicators. Our hypothesis is that mobile phone indicators depict different types of spatial variations for different set of housing prices and therefore \n",
    "       hidden patterns and correlations can be revealed. The discovered interrelation between Socioeconomic Status SES and mobility habits of the residents may lead to a more \n",
    "       in-depth understanding of urban life and could support the optimization public transport, or decision making for real estate developers and could gain the efficiency of retail \n",
    "       processes. This paper is organized as follows: Section  gives a brief summary of the relevant literature. Section , describes the data used in this study. Section , \n",
    "       details the methodology used and the indicators and metrics generated. The mobility indicators obtained from the dataset recorded by cellular operator has been validated \n",
    "       by comparing with reports of the national mini census Section . Then, the results of the statistical analysis have been discussed in Section . The summary of findings \n",
    "       are given in Section .  Literature Review The understanding of human movements and recognition of behavior patterns that occur during daily life, in urban areas, \n",
    "       requires a systematic analysis of that human mobility. The evaluation of human travel is based on observations on the individual and group levels. In the last decades, \n",
    "       several novel datasets, based on vehicular GPS and cellular network records or social media information, became available which provided more accurate and sophisticated \n",
    "       char- acterization of people’s movements. Gonzales et al. used a dataset that included , user’s cellphone records, obtained for a half a year and showed that inhabitants \n",
    "       usually visit some highly frequented locations []. Song et al. evaluated a dataset representing , cellular phone user’s recorded for three months. The human movements derived \n",
    "       from the cellular information of the dataset has been found to be highly predictable []. Numerical indicators i.e. entropy-based metrics, radius of gyration have been \n",
    "       calculated to quantify the temporospatial distribution of people and their movements. Parija et al. [] applied Profile-based paging algorithm on CDRs in order to discover personal \n",
    "       human mobility patterns. The results suggest that the proposed algorithm is three times more efficient than conventional paging and two times more effective than various other \n",
    "       intelligent paging algorithms. These researches showed the hidden characteristics of individual movements and gave a tangible boost for further scientific efforts. The \n",
    "       demographic metrics and Socioeconomic Status SES seems the have significant relationship to individual travel behavior. Early studies aimed to investigate correlation of \n",
    "       the human travel characteristics and of SES [, ]. Cot- tineau and Vanhoof [] developed a model to explore the relationship between mobile phone data and traditional socioeconomic \n",
    "       information from the national census in French cities. Mobile phone indicators estimated from six months Call Detail Records, while census and administrative data are used to \n",
    "       characterize the socioeconomic orga- nization of French cities. The findings show that some mobile phone indicators relate significantly with different socioeconomic organization \n",
    "       of cities. Pokhriyal et al. [] used a computational framework to accurately predict the Global Multidimensional Poverty Index MPI in Senegal based on environmental data and CDR. \n",
    "       The methodology provides the accurate prediction of important dimensions of poverty: health, education, and standard of living the estimations have been validated using deprivations \n",
    "       calculated from census. In the last decade, CDRs have become a standard information source for analyzing the social characteristics of human mobility. A research work [] that \n",
    "       investigated the people’s daily activities in Shenzhen, China. The results identified a so-called, “north–south” differences of human activity, which findings are in good agreement \n",
    "       with the socioeconomic divide in the city. Some investigations suggest that the mobile phone data can be used to predict individual SES [] or regional socioe- conomic \n",
    "       characteristics []. Xu et al. [] used an analytical framework on large scale mobile phone and urban socioeconomic datasets to evaluate mobility patterns and SES. Six mobility \n",
    "       indicators, housing prices and per capita income in Singapore and Boston have been used to analyze the socioeconomic classes. It was found that phone users who are generally \n",
    "       wealthier, tend to travel shorter distances in Singapore, but longer, in Boston. The research brought interesting findings, but also showed that the relationship between mobility \n",
    "       and socioeconomic status is worth investigation in other cities and countries as well.'''"
   ]
  },
  {
   "cell_type": "code",
   "execution_count": 8,
   "id": "e828de58",
   "metadata": {
    "scrolled": true
   },
   "outputs": [],
   "source": [
    "bert_summary = ''.join(bert_model(org_text))"
   ]
  },
  {
   "cell_type": "code",
   "execution_count": 9,
   "id": "ca8f54b7",
   "metadata": {},
   "outputs": [
    {
     "data": {
      "text/plain": [
       "12774"
      ]
     },
     "execution_count": 9,
     "metadata": {},
     "output_type": "execute_result"
    },
    {
     "data": {
      "text/plain": [
       "2581"
      ]
     },
     "execution_count": 9,
     "metadata": {},
     "output_type": "execute_result"
    }
   ],
   "source": [
    "file = open('org.txt', 'w')\n",
    "file.write(org_text)\n",
    "file.close()\n",
    "\n",
    "file = open('hyps.txt', 'w')\n",
    "file.write(bert_summary)\n",
    "file.close()"
   ]
  },
  {
   "cell_type": "markdown",
   "id": "12b83ce9",
   "metadata": {},
   "source": [
    "#### Rouge measures recall: how much the words (and/or n-grams) in the human reference summaries appeared in the machine generated summaries."
   ]
  },
  {
   "cell_type": "code",
   "execution_count": 10,
   "id": "29d38496",
   "metadata": {
    "scrolled": false
   },
   "outputs": [],
   "source": [
    "r = Rouge()\n",
    "score_bert=r.get_scores(bert_summary, org_text)"
   ]
  },
  {
   "cell_type": "code",
   "execution_count": 11,
   "id": "953f0b5b",
   "metadata": {
    "scrolled": false
   },
   "outputs": [
    {
     "data": {
      "text/plain": [
       "[{'rouge-1': {'r': 0.3136729222520107, 'p': 1.0, 'f': 0.477551016772928},\n",
       "  'rouge-2': {'r': 0.22634271099744246,\n",
       "   'p': 0.9698630136986301,\n",
       "   'f': 0.3670295459208324},\n",
       "  'rouge-l': {'r': 0.3136729222520107, 'p': 1.0, 'f': 0.477551016772928}}]"
      ]
     },
     "execution_count": 11,
     "metadata": {},
     "output_type": "execute_result"
    }
   ],
   "source": [
    "score_bert"
   ]
  },
  {
   "cell_type": "code",
   "execution_count": 12,
   "id": "20f8a2be",
   "metadata": {},
   "outputs": [],
   "source": [
    "\n",
    "with open(\"hyps.txt\") as f:\n",
    "    cands = [line.strip() for line in f]\n",
    "\n",
    "with open(\"org.txt\") as f:\n",
    "    refs = [[line.strip() for line in f]]"
   ]
  },
  {
   "cell_type": "markdown",
   "id": "d859a23e",
   "metadata": {},
   "source": [
    "### Bleu measures precision: how much the words (and/or n-grams) in the machine generated summaries appeared in the human reference summaries."
   ]
  },
  {
   "cell_type": "code",
   "execution_count": 13,
   "id": "b300995b",
   "metadata": {
    "scrolled": true
   },
   "outputs": [
    {
     "name": "stdout",
     "output_type": "stream",
     "text": [
      "BLEU score -> 4.439568542862296e-80\n"
     ]
    },
    {
     "name": "stderr",
     "output_type": "stream",
     "text": [
      "/opt/anaconda3/envs/TextSumm/lib/python3.7/site-packages/nltk/translate/bleu_score.py:516: UserWarning: \n",
      "The hypothesis contains 0 counts of 4-gram overlaps.\n",
      "Therefore the BLEU score evaluates to 0, independently of\n",
      "how many N-gram overlaps of lower order it contains.\n",
      "Consider using lower n-gram order or use SmoothingFunction()\n",
      "  warnings.warn(_msg)\n"
     ]
    }
   ],
   "source": [
    "print('BLEU score -> {}'.format(sentence_bleu(refs, cands)))\n",
    "blue_score_bert=sentence_bleu(refs, cands)"
   ]
  },
  {
   "cell_type": "markdown",
   "id": "bb125991",
   "metadata": {},
   "source": [
    "### N-Gram Blue Score"
   ]
  },
  {
   "cell_type": "code",
   "execution_count": 14,
   "id": "886a2c94",
   "metadata": {
    "scrolled": true
   },
   "outputs": [
    {
     "name": "stdout",
     "output_type": "stream",
     "text": [
      "Individual 1-gram: 0.003402\n",
      "Individual 2-gram: 0.002443\n",
      "Individual 3-gram: 0.001323\n",
      "Individual 4-gram: 0.000000\n"
     ]
    }
   ],
   "source": [
    "print('Individual 1-gram: %f' % sentence_bleu(refs, cands, weights=(1, 0, 0, 0)))\n",
    "print('Individual 2-gram: %f' % sentence_bleu(refs, cands, weights=(0, 1, 0, 0)))\n",
    "print('Individual 3-gram: %f' % sentence_bleu(refs, cands, weights=(0, 0, 1, 0)))\n",
    "print('Individual 4-gram: %f' % sentence_bleu(refs, cands, weights=(0, 0, 0, 1)))"
   ]
  },
  {
   "cell_type": "markdown",
   "id": "02099925",
   "metadata": {},
   "source": [
    "### If reference is more then one and candidate is only one then run the below code "
   ]
  },
  {
   "cell_type": "code",
   "execution_count": 15,
   "id": "dcc35461",
   "metadata": {
    "scrolled": true
   },
   "outputs": [],
   "source": [
    "if len(cands)==1:\n",
    "    P, R, F1 = score(cands, refs, lang='en', rescale_with_baseline=True)\n",
    "    F1_bert=F1\n",
    "    plt.hist(F1, bins=20)\n",
    "    plt.xlabel(\"score\")\n",
    "    plt.ylabel(\"counts\")\n",
    "    plt.show()"
   ]
  },
  {
   "cell_type": "markdown",
   "id": "a13e8dd1",
   "metadata": {},
   "source": [
    "### If we have more then one candidate and reference then run the below code "
   ]
  },
  {
   "cell_type": "code",
   "execution_count": 16,
   "id": "df108c07",
   "metadata": {
    "scrolled": true
   },
   "outputs": [
    {
     "name": "stderr",
     "output_type": "stream",
     "text": [
      "Some weights of the model checkpoint at roberta-large were not used when initializing RobertaModel: ['lm_head.dense.weight', 'lm_head.layer_norm.weight', 'lm_head.decoder.weight', 'lm_head.dense.bias', 'lm_head.layer_norm.bias', 'lm_head.bias']\n",
      "- This IS expected if you are initializing RobertaModel from the checkpoint of a model trained on another task or with another architecture (e.g. initializing a BertForSequenceClassification model from a BertForPreTraining model).\n",
      "- This IS NOT expected if you are initializing RobertaModel from the checkpoint of a model that you expect to be exactly identical (initializing a BertForSequenceClassification model from a BertForSequenceClassification model).\n"
     ]
    },
    {
     "data": {
      "text/plain": [
       "(array([0., 0., 0., 0., 0., 0., 0., 0., 0., 0., 1., 0., 0., 0., 0., 0., 0.,\n",
       "        0., 0., 0.]),\n",
       " array([0.5000007 , 0.5500007 , 0.60000074, 0.6500007 , 0.7000007 ,\n",
       "        0.7500007 , 0.8000007 , 0.85000074, 0.9000007 , 0.9500007 ,\n",
       "        1.0000007 , 1.0500007 , 1.1000007 , 1.1500007 , 1.2000008 ,\n",
       "        1.2500007 , 1.3000007 , 1.3500007 , 1.4000007 , 1.4500008 ,\n",
       "        1.5000007 ], dtype=float32),\n",
       " <BarContainer object of 20 artists>)"
      ]
     },
     "execution_count": 16,
     "metadata": {},
     "output_type": "execute_result"
    },
    {
     "data": {
      "text/plain": [
       "Text(0.5, 0, 'score')"
      ]
     },
     "execution_count": 16,
     "metadata": {},
     "output_type": "execute_result"
    },
    {
     "data": {
      "text/plain": [
       "Text(0, 0.5, 'counts')"
      ]
     },
     "execution_count": 16,
     "metadata": {},
     "output_type": "execute_result"
    },
    {
     "data": {
      "image/png": "[encoded data removed]",
      "text/plain": [
       "<Figure size 640x480 with 1 Axes>"
      ]
     },
     "metadata": {},
     "output_type": "display_data"
    }
   ],
   "source": [
    "if len(cands)>1:\n",
    "    scorer = BERTScorer(lang=\"en\", rescale_with_baseline=True)\n",
    "    P, R, F1 = scorer.score(cands, refs)\n",
    "    F1_bert=F1\n",
    "    plt.hist(F1, bins=20)\n",
    "    plt.xlabel(\"score\")\n",
    "    plt.ylabel(\"counts\")\n",
    "    plt.show()"
   ]
  },
  {
   "cell_type": "markdown",
   "id": "a61daea3",
   "metadata": {},
   "source": [
    "### Text Summarizer using GPT2"
   ]
  },
  {
   "cell_type": "code",
   "execution_count": 17,
   "id": "da0952aa",
   "metadata": {},
   "outputs": [],
   "source": [
    "from summarizer import TransformerSummarizer"
   ]
  },
  {
   "cell_type": "code",
   "execution_count": 18,
   "id": "26d7e097",
   "metadata": {
    "scrolled": true
   },
   "outputs": [],
   "source": [
    "GPT2_model = TransformerSummarizer(transformer_type=\"GPT2\",transformer_model_key=\"gpt2-medium\")"
   ]
  },
  {
   "cell_type": "code",
   "execution_count": 19,
   "id": "077611cf",
   "metadata": {
    "scrolled": true
   },
   "outputs": [],
   "source": [
    "gpt2_summ = ''.join(GPT2_model(org_text))"
   ]
  },
  {
   "cell_type": "markdown",
   "id": "a5d455c6",
   "metadata": {},
   "source": [
    "### Rough Score"
   ]
  },
  {
   "cell_type": "code",
   "execution_count": 20,
   "id": "a100d513",
   "metadata": {
    "scrolled": false
   },
   "outputs": [
    {
     "data": {
      "text/plain": [
       "[{'rouge-1': {'r': 0.22788203753351208, 'p': 1.0, 'f': 0.3711790362783891},\n",
       "  'rouge-2': {'r': 0.1604859335038363,\n",
       "   'p': 0.9653846153846154,\n",
       "   'f': 0.2752192958011119},\n",
       "  'rouge-l': {'r': 0.22788203753351208, 'p': 1.0, 'f': 0.3711790362783891}}]"
      ]
     },
     "execution_count": 20,
     "metadata": {},
     "output_type": "execute_result"
    }
   ],
   "source": [
    "r_gpt2 = Rouge()\n",
    "score_gpt2=r.get_scores(gpt2_summ, org_text)\n",
    "score_gpt2"
   ]
  },
  {
   "cell_type": "code",
   "execution_count": 21,
   "id": "60845a8c",
   "metadata": {},
   "outputs": [
    {
     "data": {
      "text/plain": [
       "1886"
      ]
     },
     "execution_count": 21,
     "metadata": {},
     "output_type": "execute_result"
    }
   ],
   "source": [
    "file = open('hyps_gpt2.txt', 'w')\n",
    "file.write(gpt2_summ)\n",
    "file.close()"
   ]
  },
  {
   "cell_type": "code",
   "execution_count": 22,
   "id": "fc15a27a",
   "metadata": {},
   "outputs": [],
   "source": [
    "with open(\"hyps_gpt2.txt\") as f:\n",
    "    cands_gpt2 = [line.strip() for line in f]"
   ]
  },
  {
   "cell_type": "markdown",
   "id": "754100d1",
   "metadata": {},
   "source": [
    "### Blue score"
   ]
  },
  {
   "cell_type": "code",
   "execution_count": 23,
   "id": "9673cb4c",
   "metadata": {
    "scrolled": true
   },
   "outputs": [
    {
     "name": "stdout",
     "output_type": "stream",
     "text": [
      "BLEU score -> 5.5530964567458195e-158\n"
     ]
    },
    {
     "name": "stderr",
     "output_type": "stream",
     "text": [
      "/opt/anaconda3/envs/TextSumm/lib/python3.7/site-packages/nltk/translate/bleu_score.py:516: UserWarning: \n",
      "The hypothesis contains 0 counts of 3-gram overlaps.\n",
      "Therefore the BLEU score evaluates to 0, independently of\n",
      "how many N-gram overlaps of lower order it contains.\n",
      "Consider using lower n-gram order or use SmoothingFunction()\n",
      "  warnings.warn(_msg)\n",
      "/opt/anaconda3/envs/TextSumm/lib/python3.7/site-packages/nltk/translate/bleu_score.py:516: UserWarning: \n",
      "The hypothesis contains 0 counts of 4-gram overlaps.\n",
      "Therefore the BLEU score evaluates to 0, independently of\n",
      "how many N-gram overlaps of lower order it contains.\n",
      "Consider using lower n-gram order or use SmoothingFunction()\n",
      "  warnings.warn(_msg)\n"
     ]
    }
   ],
   "source": [
    "print('BLEU score -> {}'.format(sentence_bleu(refs, cands_gpt2)))\n",
    "\n",
    "blue_score_gpt2=sentence_bleu(refs, cands_gpt2)"
   ]
  },
  {
   "cell_type": "code",
   "execution_count": 24,
   "id": "7788b0ae",
   "metadata": {
    "scrolled": false
   },
   "outputs": [
    {
     "name": "stdout",
     "output_type": "stream",
     "text": [
      "Individual 1-gram: 0.000203\n",
      "Individual 2-gram: 0.000114\n",
      "Individual 3-gram: 0.000000\n",
      "Individual 4-gram: 0.000000\n"
     ]
    }
   ],
   "source": [
    "print('Individual 1-gram: %f' % sentence_bleu(refs, cands_gpt2, weights=(1, 0, 0, 0)))\n",
    "print('Individual 2-gram: %f' % sentence_bleu(refs, cands_gpt2, weights=(0, 1, 0, 0)))\n",
    "print('Individual 3-gram: %f' % sentence_bleu(refs, cands_gpt2, weights=(0, 0, 1, 0)))\n",
    "print('Individual 4-gram: %f' % sentence_bleu(refs, cands_gpt2, weights=(0, 0, 0, 1)))"
   ]
  },
  {
   "cell_type": "markdown",
   "id": "bdf3fade",
   "metadata": {},
   "source": [
    "### If reference is more then one and candidate is only one then run the below code "
   ]
  },
  {
   "cell_type": "code",
   "execution_count": 25,
   "id": "4e3159e5",
   "metadata": {},
   "outputs": [],
   "source": [
    "if len(cands_gpt2)==1:\n",
    "    P, R, F1 = score(cands_gpt2, refs, lang='en', rescale_with_baseline=True)\n",
    "    F1_Gpt2=F1\n",
    "    plt.hist(F1, bins=20)\n",
    "    plt.xlabel(\"score\")\n",
    "    plt.ylabel(\"counts\")\n",
    "    plt.show()"
   ]
  },
  {
   "cell_type": "markdown",
   "id": "f1c75a6f",
   "metadata": {},
   "source": [
    "### If we have more then one candidate and reference then run the below code "
   ]
  },
  {
   "cell_type": "code",
   "execution_count": 26,
   "id": "6bc5a30d",
   "metadata": {
    "scrolled": false
   },
   "outputs": [
    {
     "name": "stderr",
     "output_type": "stream",
     "text": [
      "Some weights of the model checkpoint at roberta-large were not used when initializing RobertaModel: ['lm_head.dense.weight', 'lm_head.layer_norm.weight', 'lm_head.decoder.weight', 'lm_head.dense.bias', 'lm_head.layer_norm.bias', 'lm_head.bias']\n",
      "- This IS expected if you are initializing RobertaModel from the checkpoint of a model trained on another task or with another architecture (e.g. initializing a BertForSequenceClassification model from a BertForPreTraining model).\n",
      "- This IS NOT expected if you are initializing RobertaModel from the checkpoint of a model that you expect to be exactly identical (initializing a BertForSequenceClassification model from a BertForSequenceClassification model).\n"
     ]
    },
    {
     "data": {
      "text/plain": [
       "(array([0., 0., 0., 0., 0., 0., 0., 0., 0., 0., 1., 0., 0., 0., 0., 0., 0.,\n",
       "        0., 0., 0.]),\n",
       " array([-0.10636002, -0.05636002, -0.00636002,  0.04363998,  0.09363998,\n",
       "         0.14363998,  0.19363998,  0.24363998,  0.29364   ,  0.34363997,\n",
       "         0.39363998,  0.44364   ,  0.49363998,  0.54363996,  0.59363997,\n",
       "         0.64364   ,  0.69364   ,  0.74364   ,  0.79363996,  0.84363997,\n",
       "         0.89364   ], dtype=float32),\n",
       " <BarContainer object of 20 artists>)"
      ]
     },
     "execution_count": 26,
     "metadata": {},
     "output_type": "execute_result"
    },
    {
     "data": {
      "text/plain": [
       "Text(0.5, 0, 'score')"
      ]
     },
     "execution_count": 26,
     "metadata": {},
     "output_type": "execute_result"
    },
    {
     "data": {
      "text/plain": [
       "Text(0, 0.5, 'counts')"
      ]
     },
     "execution_count": 26,
     "metadata": {},
     "output_type": "execute_result"
    },
    {
     "data": {
      "image/png": "[encoded data removed]",
      "text/plain": [
       "<Figure size 640x480 with 1 Axes>"
      ]
     },
     "metadata": {},
     "output_type": "display_data"
    }
   ],
   "source": [
    "if len(cands_gpt2)>1:\n",
    "    scorer = BERTScorer(lang=\"en\", rescale_with_baseline=True)\n",
    "    P, R, F1 = scorer.score(cands_gpt2, refs)\n",
    "    F1_Gpt2=F1\n",
    "    plt.hist(F1, bins=20)\n",
    "    plt.xlabel(\"score\")\n",
    "    plt.ylabel(\"counts\")\n",
    "    plt.show()"
   ]
  },
  {
   "cell_type": "code",
   "execution_count": 27,
   "id": "023c5bab",
   "metadata": {},
   "outputs": [
    {
     "data": {
      "text/html": [
       "<div>\n",
       "<style scoped>\n",
       "    .dataframe tbody tr th:only-of-type {\n",
       "        vertical-align: middle;\n",
       "    }\n",
       "\n",
       "    .dataframe tbody tr th {\n",
       "        vertical-align: top;\n",
       "    }\n",
       "\n",
       "    .dataframe thead th {\n",
       "        text-align: right;\n",
       "    }\n",
       "</style>\n",
       "<table border=\"1\" class=\"dataframe\">\n",
       "  <thead>\n",
       "    <tr style=\"text-align: right;\">\n",
       "      <th>ROUGE-1</th>\n",
       "      <th>f</th>\n",
       "      <th>p</th>\n",
       "      <th>r</th>\n",
       "    </tr>\n",
       "    <tr>\n",
       "      <th>All</th>\n",
       "      <th></th>\n",
       "      <th></th>\n",
       "      <th></th>\n",
       "    </tr>\n",
       "  </thead>\n",
       "  <tbody>\n",
       "    <tr>\n",
       "      <th>BERT</th>\n",
       "      <td>0.478</td>\n",
       "      <td>1.0</td>\n",
       "      <td>0.314</td>\n",
       "    </tr>\n",
       "    <tr>\n",
       "      <th>GPT 2</th>\n",
       "      <td>0.371</td>\n",
       "      <td>1.0</td>\n",
       "      <td>0.228</td>\n",
       "    </tr>\n",
       "  </tbody>\n",
       "</table>\n",
       "</div>"
      ],
      "text/plain": [
       "ROUGE-1      f    p      r\n",
       "All                       \n",
       "BERT     0.478  1.0  0.314\n",
       "GPT 2    0.371  1.0  0.228"
      ]
     },
     "execution_count": 27,
     "metadata": {},
     "output_type": "execute_result"
    }
   ],
   "source": [
    "#wrap rouge score in dataframe\n",
    "df_bert = pd.DataFrame(score_bert[0]['rouge-1'], index=['BERT']).apply(lambda x: round(x,3))\n",
    "df_gpt2 = pd.DataFrame(score_gpt2[0]['rouge-1'], index=['GPT 2']).apply(lambda x: round(x,3))\n",
    "\n",
    "#concatenate and display\n",
    "df_all_rough1= pd.concat([df_bert, df_gpt2]) \n",
    "df_all_rough1.columns.name = 'ROUGE-1'\n",
    "df_all_rough1.index.name = 'All'\n",
    "df_all_rough1[['f', 'p', 'r']]"
   ]
  },
  {
   "cell_type": "code",
   "execution_count": 28,
   "id": "ec55729c",
   "metadata": {},
   "outputs": [
    {
     "data": {
      "text/html": [
       "<div>\n",
       "<style scoped>\n",
       "    .dataframe tbody tr th:only-of-type {\n",
       "        vertical-align: middle;\n",
       "    }\n",
       "\n",
       "    .dataframe tbody tr th {\n",
       "        vertical-align: top;\n",
       "    }\n",
       "\n",
       "    .dataframe thead th {\n",
       "        text-align: right;\n",
       "    }\n",
       "</style>\n",
       "<table border=\"1\" class=\"dataframe\">\n",
       "  <thead>\n",
       "    <tr style=\"text-align: right;\">\n",
       "      <th>ROUGE-2</th>\n",
       "      <th>f</th>\n",
       "      <th>p</th>\n",
       "      <th>r</th>\n",
       "    </tr>\n",
       "    <tr>\n",
       "      <th>All</th>\n",
       "      <th></th>\n",
       "      <th></th>\n",
       "      <th></th>\n",
       "    </tr>\n",
       "  </thead>\n",
       "  <tbody>\n",
       "    <tr>\n",
       "      <th>BERT</th>\n",
       "      <td>0.367</td>\n",
       "      <td>0.970</td>\n",
       "      <td>0.226</td>\n",
       "    </tr>\n",
       "    <tr>\n",
       "      <th>GPT 2</th>\n",
       "      <td>0.275</td>\n",
       "      <td>0.965</td>\n",
       "      <td>0.160</td>\n",
       "    </tr>\n",
       "  </tbody>\n",
       "</table>\n",
       "</div>"
      ],
      "text/plain": [
       "ROUGE-2      f      p      r\n",
       "All                         \n",
       "BERT     0.367  0.970  0.226\n",
       "GPT 2    0.275  0.965  0.160"
      ]
     },
     "execution_count": 28,
     "metadata": {},
     "output_type": "execute_result"
    }
   ],
   "source": [
    "#wrap rouge score in dataframe\n",
    "df_bert = pd.DataFrame(score_bert[0]['rouge-2'], index=['BERT']).apply(lambda x: round(x,3))\n",
    "df_gpt2 = pd.DataFrame(score_gpt2[0]['rouge-2'], index=['GPT 2']).apply(lambda x: round(x,3))\n",
    "\n",
    "#concatenate and display\n",
    "df_all_rough2= pd.concat([df_bert, df_gpt2]) \n",
    "df_all_rough2.columns.name = 'ROUGE-2'\n",
    "df_all_rough2.index.name = 'All'\n",
    "df_all_rough2[['f', 'p', 'r']]"
   ]
  },
  {
   "cell_type": "code",
   "execution_count": 30,
   "id": "11ddf3ef",
   "metadata": {},
   "outputs": [
    {
     "data": {
      "text/html": [
       "<div>\n",
       "<style scoped>\n",
       "    .dataframe tbody tr th:only-of-type {\n",
       "        vertical-align: middle;\n",
       "    }\n",
       "\n",
       "    .dataframe tbody tr th {\n",
       "        vertical-align: top;\n",
       "    }\n",
       "\n",
       "    .dataframe thead th {\n",
       "        text-align: right;\n",
       "    }\n",
       "</style>\n",
       "<table border=\"1\" class=\"dataframe\">\n",
       "  <thead>\n",
       "    <tr style=\"text-align: right;\">\n",
       "      <th>ROUGE-L</th>\n",
       "      <th>f</th>\n",
       "      <th>p</th>\n",
       "      <th>r</th>\n",
       "    </tr>\n",
       "    <tr>\n",
       "      <th>All</th>\n",
       "      <th></th>\n",
       "      <th></th>\n",
       "      <th></th>\n",
       "    </tr>\n",
       "  </thead>\n",
       "  <tbody>\n",
       "    <tr>\n",
       "      <th>BERT</th>\n",
       "      <td>0.478</td>\n",
       "      <td>1.0</td>\n",
       "      <td>0.314</td>\n",
       "    </tr>\n",
       "    <tr>\n",
       "      <th>GPT 2</th>\n",
       "      <td>0.371</td>\n",
       "      <td>1.0</td>\n",
       "      <td>0.228</td>\n",
       "    </tr>\n",
       "  </tbody>\n",
       "</table>\n",
       "</div>"
      ],
      "text/plain": [
       "ROUGE-L      f    p      r\n",
       "All                       \n",
       "BERT     0.478  1.0  0.314\n",
       "GPT 2    0.371  1.0  0.228"
      ]
     },
     "execution_count": 30,
     "metadata": {},
     "output_type": "execute_result"
    }
   ],
   "source": [
    "#wrap rouge score in dataframe\n",
    "df_bert = pd.DataFrame(score_bert[0]['rouge-l'], index=['BERT']).apply(lambda x: round(x,3))\n",
    "df_gpt2 = pd.DataFrame(score_gpt2[0]['rouge-l'], index=['GPT 2']).apply(lambda x: round(x,3))\n",
    "\n",
    "#concatenate and display\n",
    "df_all_roughL= pd.concat([df_bert, df_gpt2]) \n",
    "df_all_roughL.columns.name = 'ROUGE-L'\n",
    "df_all_roughL.index.name = 'All'\n",
    "df_all_roughL[['f', 'p', 'r']]"
   ]
  },
  {
   "cell_type": "code",
   "execution_count": 34,
   "id": "63a47739",
   "metadata": {},
   "outputs": [
    {
     "data": {
      "text/html": [
       "<div>\n",
       "<style scoped>\n",
       "    .dataframe tbody tr th:only-of-type {\n",
       "        vertical-align: middle;\n",
       "    }\n",
       "\n",
       "    .dataframe tbody tr th {\n",
       "        vertical-align: top;\n",
       "    }\n",
       "\n",
       "    .dataframe thead th {\n",
       "        text-align: right;\n",
       "    }\n",
       "</style>\n",
       "<table border=\"1\" class=\"dataframe\">\n",
       "  <thead>\n",
       "    <tr style=\"text-align: right;\">\n",
       "      <th>ROUGE-1</th>\n",
       "      <th>r</th>\n",
       "      <th>p</th>\n",
       "      <th>f</th>\n",
       "    </tr>\n",
       "    <tr>\n",
       "      <th>All</th>\n",
       "      <th></th>\n",
       "      <th></th>\n",
       "      <th></th>\n",
       "    </tr>\n",
       "  </thead>\n",
       "  <tbody>\n",
       "    <tr>\n",
       "      <th>BERT</th>\n",
       "      <td>0.314</td>\n",
       "      <td>1.0</td>\n",
       "      <td>0.478</td>\n",
       "    </tr>\n",
       "    <tr>\n",
       "      <th>GPT 2</th>\n",
       "      <td>0.228</td>\n",
       "      <td>1.0</td>\n",
       "      <td>0.371</td>\n",
       "    </tr>\n",
       "  </tbody>\n",
       "</table>\n",
       "</div>"
      ],
      "text/plain": [
       "ROUGE-1      r    p      f\n",
       "All                       \n",
       "BERT     0.314  1.0  0.478\n",
       "GPT 2    0.228  1.0  0.371"
      ]
     },
     "execution_count": 34,
     "metadata": {},
     "output_type": "execute_result"
    },
    {
     "data": {
      "text/html": [
       "<div>\n",
       "<style scoped>\n",
       "    .dataframe tbody tr th:only-of-type {\n",
       "        vertical-align: middle;\n",
       "    }\n",
       "\n",
       "    .dataframe tbody tr th {\n",
       "        vertical-align: top;\n",
       "    }\n",
       "\n",
       "    .dataframe thead th {\n",
       "        text-align: right;\n",
       "    }\n",
       "</style>\n",
       "<table border=\"1\" class=\"dataframe\">\n",
       "  <thead>\n",
       "    <tr style=\"text-align: right;\">\n",
       "      <th>ROUGE-2</th>\n",
       "      <th>r</th>\n",
       "      <th>p</th>\n",
       "      <th>f</th>\n",
       "    </tr>\n",
       "    <tr>\n",
       "      <th>All</th>\n",
       "      <th></th>\n",
       "      <th></th>\n",
       "      <th></th>\n",
       "    </tr>\n",
       "  </thead>\n",
       "  <tbody>\n",
       "    <tr>\n",
       "      <th>BERT</th>\n",
       "      <td>0.226</td>\n",
       "      <td>0.970</td>\n",
       "      <td>0.367</td>\n",
       "    </tr>\n",
       "    <tr>\n",
       "      <th>GPT 2</th>\n",
       "      <td>0.160</td>\n",
       "      <td>0.965</td>\n",
       "      <td>0.275</td>\n",
       "    </tr>\n",
       "  </tbody>\n",
       "</table>\n",
       "</div>"
      ],
      "text/plain": [
       "ROUGE-2      r      p      f\n",
       "All                         \n",
       "BERT     0.226  0.970  0.367\n",
       "GPT 2    0.160  0.965  0.275"
      ]
     },
     "execution_count": 34,
     "metadata": {},
     "output_type": "execute_result"
    },
    {
     "data": {
      "text/html": [
       "<div>\n",
       "<style scoped>\n",
       "    .dataframe tbody tr th:only-of-type {\n",
       "        vertical-align: middle;\n",
       "    }\n",
       "\n",
       "    .dataframe tbody tr th {\n",
       "        vertical-align: top;\n",
       "    }\n",
       "\n",
       "    .dataframe thead th {\n",
       "        text-align: right;\n",
       "    }\n",
       "</style>\n",
       "<table border=\"1\" class=\"dataframe\">\n",
       "  <thead>\n",
       "    <tr style=\"text-align: right;\">\n",
       "      <th>ROUGE-L</th>\n",
       "      <th>r</th>\n",
       "      <th>p</th>\n",
       "      <th>f</th>\n",
       "    </tr>\n",
       "    <tr>\n",
       "      <th>All</th>\n",
       "      <th></th>\n",
       "      <th></th>\n",
       "      <th></th>\n",
       "    </tr>\n",
       "  </thead>\n",
       "  <tbody>\n",
       "    <tr>\n",
       "      <th>BERT</th>\n",
       "      <td>0.314</td>\n",
       "      <td>1.0</td>\n",
       "      <td>0.478</td>\n",
       "    </tr>\n",
       "    <tr>\n",
       "      <th>GPT 2</th>\n",
       "      <td>0.228</td>\n",
       "      <td>1.0</td>\n",
       "      <td>0.371</td>\n",
       "    </tr>\n",
       "  </tbody>\n",
       "</table>\n",
       "</div>"
      ],
      "text/plain": [
       "ROUGE-L      r    p      f\n",
       "All                       \n",
       "BERT     0.314  1.0  0.478\n",
       "GPT 2    0.228  1.0  0.371"
      ]
     },
     "execution_count": 34,
     "metadata": {},
     "output_type": "execute_result"
    }
   ],
   "source": [
    "df_all_rough1\n",
    "df_all_rough2\n",
    "df_all_roughL"
   ]
  },
  {
   "cell_type": "code",
   "execution_count": 31,
   "id": "b6b866d9",
   "metadata": {},
   "outputs": [
    {
     "name": "stdout",
     "output_type": "stream",
     "text": [
      "Blue Score: \n",
      "BERT: 4.439568542862296e-80\n",
      "Gpt2: 5.5530964567458195e-158\n"
     ]
    }
   ],
   "source": [
    "print(\"Blue Score: \")\n",
    "\n",
    "print('BERT: '+str(blue_score_bert))\n",
    "print('Gpt2: '+str(blue_score_gpt2))\n"
   ]
  },
  {
   "cell_type": "code",
   "execution_count": 32,
   "id": "0a498fac",
   "metadata": {},
   "outputs": [],
   "source": [
    "bert_=tf.constant(F1_bert).numpy()\n",
    "gpt2_=tf.constant(F1_Gpt2).numpy()\n"
   ]
  },
  {
   "cell_type": "code",
   "execution_count": 33,
   "id": "8648cbf3",
   "metadata": {},
   "outputs": [
    {
     "name": "stdout",
     "output_type": "stream",
     "text": [
      "BERT Score: \n",
      "BERT: [1.0000007]\n",
      "Gpt2: [0.39363998]\n"
     ]
    }
   ],
   "source": [
    "print(\"BERT Score: \")\n",
    "\n",
    "print('BERT: '+str(bert_))\n",
    "print('Gpt2: '+str(gpt2_))"
   ]
  },
  {
   "cell_type": "code",
   "execution_count": null,
   "id": "16ed1286",
   "metadata": {},
   "outputs": [],
   "source": []
  },
  {
   "cell_type": "code",
   "execution_count": null,
   "id": "b5107a2f",
   "metadata": {},
   "outputs": [],
   "source": []
  }
 ],
 "metadata": {
  "kernelspec": {
   "display_name": "Python 3",
   "language": "python",
   "name": "python3"
  },
  "language_info": {
   "codemirror_mode": {
    "name": "ipython",
    "version": 3
   },
   "file_extension": ".py",
   "mimetype": "text/x-python",
   "name": "python",
   "nbconvert_exporter": "python",
   "pygments_lexer": "ipython3",
   "version": "3.7.9"
  }
 },
 "nbformat": 4,
 "nbformat_minor": 5
}
